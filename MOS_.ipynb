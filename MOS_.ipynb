{
  "cells": [
    {
      "cell_type": "code",
      "execution_count": 776,
      "metadata": {
        "id": "9-JJMRdAUNkB"
      },
      "outputs": [],
      "source": [
        " # import packages\n",
        "import pandas as pd       \n",
        "import seaborn as sns    \n",
        "import numpy as np     \n",
        "import matplotlib.pyplot as plt  "
      ]
    },
    {
      "cell_type": "code",
      "execution_count": 777,
      "metadata": {
        "id": "TQUr6iDZUbXj"
      },
      "outputs": [],
      "source": [
        "#importing excel data\n",
        "#in excel, data is in 1st sheet so we given sheet name =0\n",
        "data=pd.read_excel('/content/MOS.xlsx', sheet_name=0)     "
      ]
    },
    {
      "cell_type": "code",
      "execution_count": 778,
      "metadata": {
        "colab": {
          "base_uri": "https://localhost:8080/"
        },
        "id": "f64OIo6Rpz-K",
        "outputId": "6c07e5cc-9105-4fa7-ed88-a02bc6425fbc"
      },
      "outputs": [
        {
          "output_type": "execute_result",
          "data": {
            "text/plain": [
              "Index(['Timestamp', 'Batch', 'First Name', 'Gender', 'Degree',\n",
              "       'Degree Mark (%)', 'Do you have computer (Laptop)',\n",
              "       'Have you learned Excel before this training', 'District', 'Attendance',\n",
              "       'MOS Excel Formulas - Total Score',\n",
              "       'MOS Excel Formulas - Correct Answers',\n",
              "       'Mos Excel Formulas - Wrong Answers', 'MOS Table - Total Score',\n",
              "       'MOS Table - Correct Answers', 'MOS Table - Wrong Answers',\n",
              "       'MOS Excel Manage Worksheet and workbook - Total Score',\n",
              "       'MOS Excel Manage Worksheet and workbook - Correct Answers',\n",
              "       'MOS Excel Manage Worksheet and workbook - Wrong Answers',\n",
              "       'MOS Charts - Total Score', 'MOS Charts - Correct Answers',\n",
              "       'MOS Charts - Wrong Answers', 'Time of Mock 1', 'Mock 1 Mark',\n",
              "       'Time of Mock 2', 'Mock 2 Mark', 'Time of Mock 3', 'Mark of Mock 3',\n",
              "       'Final(Manage worksheets and Workbooks)',\n",
              "       'Final(Manage Data Cells and Ranges)',\n",
              "       'Final(Manage Tables and Table Data)',\n",
              "       'Final(Perform Operations by using Formulas and Functions)',\n",
              "       'Final(Manage Charts)', 'Final Exam Mark', 'Retest Count',\n",
              "       'Final Status', 'MOS Excel Formulas - %', 'MOS Tables - %',\n",
              "       'MOS Excel Manage Worksheet and workbook - %', 'MOS - Charts %',\n",
              "       'Time 1', 'Mark 1', 'Time 2', 'Mark 2', 'Time 3', 'Mark 3', 'Stage 1',\n",
              "       'Stage 2', 'Stage 3'],\n",
              "      dtype='object')"
            ]
          },
          "metadata": {},
          "execution_count": 778
        }
      ],
      "source": [
        "data.columns"
      ]
    },
    {
      "cell_type": "code",
      "source": [
        "data.shape\n",
        "#there is 234 rows and 49 columns"
      ],
      "metadata": {
        "colab": {
          "base_uri": "https://localhost:8080/"
        },
        "id": "ZTTa1s-pho3D",
        "outputId": "cb6dddc0-c3a0-47a0-fd42-ea0eeb63b315"
      },
      "execution_count": 779,
      "outputs": [
        {
          "output_type": "execute_result",
          "data": {
            "text/plain": [
              "(234, 49)"
            ]
          },
          "metadata": {},
          "execution_count": 779
        }
      ]
    },
    {
      "cell_type": "code",
      "execution_count": 780,
      "metadata": {
        "id": "GPnY5-mS3yYC",
        "colab": {
          "base_uri": "https://localhost:8080/",
          "height": 389
        },
        "outputId": "3c394c49-6b58-4b0f-c79e-384af2830853"
      },
      "outputs": [
        {
          "output_type": "execute_result",
          "data": {
            "text/plain": [
              "   Timestamp    Batch First Name  Gender       Degree  Degree Mark (%)  \\\n",
              "0  1 st Year  Batch 1     ANJANA  Female           BA            5.800   \n",
              "1  1 st Year  Batch 1     JOSEPH    Male  B.Com / BBA           59.000   \n",
              "2  1 st Year  Batch 1     JOSNA   Female  B.Com / BBA            0.652   \n",
              "3  1 st Year  Batch 1     Judith    Male       B-Tech           73.700   \n",
              "4  1 st Year  Batch 1   Vineetha  Female  B.Com / BBA            7.380   \n",
              "\n",
              "  Do you have computer (Laptop) Have you learned Excel before this training  \\\n",
              "0                           Yes                                          No   \n",
              "1                           Yes                                          No   \n",
              "2                           Yes                                          No   \n",
              "3                           Yes                                          No   \n",
              "4                           Yes                                         Yes   \n",
              "\n",
              "    District  Final Exam Mark Final Status     Time 1     Mark 1     Time 2  \\\n",
              "0  Ernakulam            426.0       Failed   1.330000  74.138131  18.282788   \n",
              "1  Ernakulam            900.0       Passed   0.430000  65.000000   0.350000   \n",
              "2     Idukki            775.0       Passed   1.020000  80.000000   0.410000   \n",
              "3  Ernakulam            887.0       Passed  32.831741  74.138131  18.282788   \n",
              "4     Idukki            850.0       Passed   1.020000  83.000000   0.230000   \n",
              "\n",
              "      Mark 2  Time 3  Mark 3 Stage 1 Stage 2 Stage 3  \n",
              "0  80.573529    0.38    54.0       B       C       B  \n",
              "1  93.000000    0.17    94.0       C       A       A  \n",
              "2  85.000000    0.31    74.0       B       A       A  \n",
              "3  80.573529    0.32    70.0       B       A       A  \n",
              "4  83.000000    0.37    80.0       B       A       A  "
            ],
            "text/html": [
              "\n",
              "  <div id=\"df-d45e44fe-d0a0-4936-af79-df0a0d58b8b6\">\n",
              "    <div class=\"colab-df-container\">\n",
              "      <div>\n",
              "<style scoped>\n",
              "    .dataframe tbody tr th:only-of-type {\n",
              "        vertical-align: middle;\n",
              "    }\n",
              "\n",
              "    .dataframe tbody tr th {\n",
              "        vertical-align: top;\n",
              "    }\n",
              "\n",
              "    .dataframe thead th {\n",
              "        text-align: right;\n",
              "    }\n",
              "</style>\n",
              "<table border=\"1\" class=\"dataframe\">\n",
              "  <thead>\n",
              "    <tr style=\"text-align: right;\">\n",
              "      <th></th>\n",
              "      <th>Timestamp</th>\n",
              "      <th>Batch</th>\n",
              "      <th>First Name</th>\n",
              "      <th>Gender</th>\n",
              "      <th>Degree</th>\n",
              "      <th>Degree Mark (%)</th>\n",
              "      <th>Do you have computer (Laptop)</th>\n",
              "      <th>Have you learned Excel before this training</th>\n",
              "      <th>District</th>\n",
              "      <th>Final Exam Mark</th>\n",
              "      <th>Final Status</th>\n",
              "      <th>Time 1</th>\n",
              "      <th>Mark 1</th>\n",
              "      <th>Time 2</th>\n",
              "      <th>Mark 2</th>\n",
              "      <th>Time 3</th>\n",
              "      <th>Mark 3</th>\n",
              "      <th>Stage 1</th>\n",
              "      <th>Stage 2</th>\n",
              "      <th>Stage 3</th>\n",
              "    </tr>\n",
              "  </thead>\n",
              "  <tbody>\n",
              "    <tr>\n",
              "      <th>0</th>\n",
              "      <td>1 st Year</td>\n",
              "      <td>Batch 1</td>\n",
              "      <td>ANJANA</td>\n",
              "      <td>Female</td>\n",
              "      <td>BA</td>\n",
              "      <td>5.800</td>\n",
              "      <td>Yes</td>\n",
              "      <td>No</td>\n",
              "      <td>Ernakulam</td>\n",
              "      <td>426.0</td>\n",
              "      <td>Failed</td>\n",
              "      <td>1.330000</td>\n",
              "      <td>74.138131</td>\n",
              "      <td>18.282788</td>\n",
              "      <td>80.573529</td>\n",
              "      <td>0.38</td>\n",
              "      <td>54.0</td>\n",
              "      <td>B</td>\n",
              "      <td>C</td>\n",
              "      <td>B</td>\n",
              "    </tr>\n",
              "    <tr>\n",
              "      <th>1</th>\n",
              "      <td>1 st Year</td>\n",
              "      <td>Batch 1</td>\n",
              "      <td>JOSEPH</td>\n",
              "      <td>Male</td>\n",
              "      <td>B.Com / BBA</td>\n",
              "      <td>59.000</td>\n",
              "      <td>Yes</td>\n",
              "      <td>No</td>\n",
              "      <td>Ernakulam</td>\n",
              "      <td>900.0</td>\n",
              "      <td>Passed</td>\n",
              "      <td>0.430000</td>\n",
              "      <td>65.000000</td>\n",
              "      <td>0.350000</td>\n",
              "      <td>93.000000</td>\n",
              "      <td>0.17</td>\n",
              "      <td>94.0</td>\n",
              "      <td>C</td>\n",
              "      <td>A</td>\n",
              "      <td>A</td>\n",
              "    </tr>\n",
              "    <tr>\n",
              "      <th>2</th>\n",
              "      <td>1 st Year</td>\n",
              "      <td>Batch 1</td>\n",
              "      <td>JOSNA</td>\n",
              "      <td>Female</td>\n",
              "      <td>B.Com / BBA</td>\n",
              "      <td>0.652</td>\n",
              "      <td>Yes</td>\n",
              "      <td>No</td>\n",
              "      <td>Idukki</td>\n",
              "      <td>775.0</td>\n",
              "      <td>Passed</td>\n",
              "      <td>1.020000</td>\n",
              "      <td>80.000000</td>\n",
              "      <td>0.410000</td>\n",
              "      <td>85.000000</td>\n",
              "      <td>0.31</td>\n",
              "      <td>74.0</td>\n",
              "      <td>B</td>\n",
              "      <td>A</td>\n",
              "      <td>A</td>\n",
              "    </tr>\n",
              "    <tr>\n",
              "      <th>3</th>\n",
              "      <td>1 st Year</td>\n",
              "      <td>Batch 1</td>\n",
              "      <td>Judith</td>\n",
              "      <td>Male</td>\n",
              "      <td>B-Tech</td>\n",
              "      <td>73.700</td>\n",
              "      <td>Yes</td>\n",
              "      <td>No</td>\n",
              "      <td>Ernakulam</td>\n",
              "      <td>887.0</td>\n",
              "      <td>Passed</td>\n",
              "      <td>32.831741</td>\n",
              "      <td>74.138131</td>\n",
              "      <td>18.282788</td>\n",
              "      <td>80.573529</td>\n",
              "      <td>0.32</td>\n",
              "      <td>70.0</td>\n",
              "      <td>B</td>\n",
              "      <td>A</td>\n",
              "      <td>A</td>\n",
              "    </tr>\n",
              "    <tr>\n",
              "      <th>4</th>\n",
              "      <td>1 st Year</td>\n",
              "      <td>Batch 1</td>\n",
              "      <td>Vineetha</td>\n",
              "      <td>Female</td>\n",
              "      <td>B.Com / BBA</td>\n",
              "      <td>7.380</td>\n",
              "      <td>Yes</td>\n",
              "      <td>Yes</td>\n",
              "      <td>Idukki</td>\n",
              "      <td>850.0</td>\n",
              "      <td>Passed</td>\n",
              "      <td>1.020000</td>\n",
              "      <td>83.000000</td>\n",
              "      <td>0.230000</td>\n",
              "      <td>83.000000</td>\n",
              "      <td>0.37</td>\n",
              "      <td>80.0</td>\n",
              "      <td>B</td>\n",
              "      <td>A</td>\n",
              "      <td>A</td>\n",
              "    </tr>\n",
              "  </tbody>\n",
              "</table>\n",
              "</div>\n",
              "      <button class=\"colab-df-convert\" onclick=\"convertToInteractive('df-d45e44fe-d0a0-4936-af79-df0a0d58b8b6')\"\n",
              "              title=\"Convert this dataframe to an interactive table.\"\n",
              "              style=\"display:none;\">\n",
              "        \n",
              "  <svg xmlns=\"http://www.w3.org/2000/svg\" height=\"24px\"viewBox=\"0 0 24 24\"\n",
              "       width=\"24px\">\n",
              "    <path d=\"M0 0h24v24H0V0z\" fill=\"none\"/>\n",
              "    <path d=\"M18.56 5.44l.94 2.06.94-2.06 2.06-.94-2.06-.94-.94-2.06-.94 2.06-2.06.94zm-11 1L8.5 8.5l.94-2.06 2.06-.94-2.06-.94L8.5 2.5l-.94 2.06-2.06.94zm10 10l.94 2.06.94-2.06 2.06-.94-2.06-.94-.94-2.06-.94 2.06-2.06.94z\"/><path d=\"M17.41 7.96l-1.37-1.37c-.4-.4-.92-.59-1.43-.59-.52 0-1.04.2-1.43.59L10.3 9.45l-7.72 7.72c-.78.78-.78 2.05 0 2.83L4 21.41c.39.39.9.59 1.41.59.51 0 1.02-.2 1.41-.59l7.78-7.78 2.81-2.81c.8-.78.8-2.07 0-2.86zM5.41 20L4 18.59l7.72-7.72 1.47 1.35L5.41 20z\"/>\n",
              "  </svg>\n",
              "      </button>\n",
              "      \n",
              "  <style>\n",
              "    .colab-df-container {\n",
              "      display:flex;\n",
              "      flex-wrap:wrap;\n",
              "      gap: 12px;\n",
              "    }\n",
              "\n",
              "    .colab-df-convert {\n",
              "      background-color: #E8F0FE;\n",
              "      border: none;\n",
              "      border-radius: 50%;\n",
              "      cursor: pointer;\n",
              "      display: none;\n",
              "      fill: #1967D2;\n",
              "      height: 32px;\n",
              "      padding: 0 0 0 0;\n",
              "      width: 32px;\n",
              "    }\n",
              "\n",
              "    .colab-df-convert:hover {\n",
              "      background-color: #E2EBFA;\n",
              "      box-shadow: 0px 1px 2px rgba(60, 64, 67, 0.3), 0px 1px 3px 1px rgba(60, 64, 67, 0.15);\n",
              "      fill: #174EA6;\n",
              "    }\n",
              "\n",
              "    [theme=dark] .colab-df-convert {\n",
              "      background-color: #3B4455;\n",
              "      fill: #D2E3FC;\n",
              "    }\n",
              "\n",
              "    [theme=dark] .colab-df-convert:hover {\n",
              "      background-color: #434B5C;\n",
              "      box-shadow: 0px 1px 3px 1px rgba(0, 0, 0, 0.15);\n",
              "      filter: drop-shadow(0px 1px 2px rgba(0, 0, 0, 0.3));\n",
              "      fill: #FFFFFF;\n",
              "    }\n",
              "  </style>\n",
              "\n",
              "      <script>\n",
              "        const buttonEl =\n",
              "          document.querySelector('#df-d45e44fe-d0a0-4936-af79-df0a0d58b8b6 button.colab-df-convert');\n",
              "        buttonEl.style.display =\n",
              "          google.colab.kernel.accessAllowed ? 'block' : 'none';\n",
              "\n",
              "        async function convertToInteractive(key) {\n",
              "          const element = document.querySelector('#df-d45e44fe-d0a0-4936-af79-df0a0d58b8b6');\n",
              "          const dataTable =\n",
              "            await google.colab.kernel.invokeFunction('convertToInteractive',\n",
              "                                                     [key], {});\n",
              "          if (!dataTable) return;\n",
              "\n",
              "          const docLinkHtml = 'Like what you see? Visit the ' +\n",
              "            '<a target=\"_blank\" href=https://colab.research.google.com/notebooks/data_table.ipynb>data table notebook</a>'\n",
              "            + ' to learn more about interactive tables.';\n",
              "          element.innerHTML = '';\n",
              "          dataTable['output_type'] = 'display_data';\n",
              "          await google.colab.output.renderOutput(dataTable, element);\n",
              "          const docLink = document.createElement('div');\n",
              "          docLink.innerHTML = docLinkHtml;\n",
              "          element.appendChild(docLink);\n",
              "        }\n",
              "      </script>\n",
              "    </div>\n",
              "  </div>\n",
              "  "
            ]
          },
          "metadata": {},
          "execution_count": 780
        }
      ],
      "source": [
        "#here we are dropping the unwanted variables from the data\n",
        "data=data.drop([ 'Attendance', 'MOS Excel Formulas - Total Score',\n",
        "       'MOS Excel Formulas - Correct Answers',\n",
        "       'Mos Excel Formulas - Wrong Answers', 'MOS Table - Total Score',\n",
        "       'MOS Table - Correct Answers', 'MOS Table - Wrong Answers',\n",
        "       'MOS Excel Manage Worksheet and workbook - Total Score',\n",
        "       'MOS Excel Manage Worksheet and workbook - Correct Answers',\n",
        "       'MOS Excel Manage Worksheet and workbook - Wrong Answers',\n",
        "       'MOS Charts - Total Score', 'MOS Charts - Correct Answers',\n",
        "       'MOS Charts - Wrong Answers','Time of Mock 1', 'Mock 1 Mark',\n",
        "       'Time of Mock 2', 'Mock 2 Mark', 'Time of Mock 3', 'Mark of Mock 3',\n",
        "      'Final(Manage worksheets and Workbooks)',\n",
        "       'Final(Manage Data Cells and Ranges)',\n",
        "       'Final(Manage Tables and Table Data)',\n",
        "       'Final(Perform Operations by using Formulas and Functions)',\n",
        "       'Final(Manage Charts)', 'Retest Count', 'MOS Excel Formulas - %', 'MOS Tables - %',\n",
        "       'MOS Excel Manage Worksheet and workbook - %', 'MOS - Charts %'],axis=1)\n",
        "data.head(5)\n"
      ]
    },
    {
      "cell_type": "code",
      "source": [
        "data.info()"
      ],
      "metadata": {
        "colab": {
          "base_uri": "https://localhost:8080/"
        },
        "id": "M75i0br1YCqT",
        "outputId": "973b8ab0-137e-44a5-ae9a-8dd79c6da082"
      },
      "execution_count": 781,
      "outputs": [
        {
          "output_type": "stream",
          "name": "stdout",
          "text": [
            "<class 'pandas.core.frame.DataFrame'>\n",
            "RangeIndex: 234 entries, 0 to 233\n",
            "Data columns (total 20 columns):\n",
            " #   Column                                       Non-Null Count  Dtype  \n",
            "---  ------                                       --------------  -----  \n",
            " 0   Timestamp                                    234 non-null    object \n",
            " 1   Batch                                        230 non-null    object \n",
            " 2   First Name                                   230 non-null    object \n",
            " 3   Gender                                       230 non-null    object \n",
            " 4   Degree                                       230 non-null    object \n",
            " 5   Degree Mark (%)                              230 non-null    float64\n",
            " 6   Do you have computer (Laptop)                230 non-null    object \n",
            " 7   Have you learned Excel before this training  230 non-null    object \n",
            " 8   District                                     230 non-null    object \n",
            " 9   Final Exam Mark                              224 non-null    float64\n",
            " 10  Final Status                                 234 non-null    object \n",
            " 11  Time 1                                       234 non-null    float64\n",
            " 12  Mark 1                                       234 non-null    float64\n",
            " 13  Time 2                                       234 non-null    float64\n",
            " 14  Mark 2                                       234 non-null    float64\n",
            " 15  Time 3                                       234 non-null    float64\n",
            " 16  Mark 3                                       234 non-null    float64\n",
            " 17  Stage 1                                      234 non-null    object \n",
            " 18  Stage 2                                      234 non-null    object \n",
            " 19  Stage 3                                      234 non-null    object \n",
            "dtypes: float64(8), object(12)\n",
            "memory usage: 36.7+ KB\n"
          ]
        }
      ]
    },
    {
      "cell_type": "markdown",
      "source": [
        "In 1st year there is 118 students and in 2nd years there is 116 students"
      ],
      "metadata": {
        "id": "AtLwdY5eLozP"
      }
    },
    {
      "cell_type": "code",
      "source": [
        "# to find the count\n",
        "bbb=data['Batch'].value_counts()          \n",
        "bbb"
      ],
      "metadata": {
        "colab": {
          "base_uri": "https://localhost:8080/"
        },
        "id": "-FwiHKuibdPM",
        "outputId": "6ffe2d28-3f2e-4cdb-f503-5789e1a29093"
      },
      "execution_count": 782,
      "outputs": [
        {
          "output_type": "execute_result",
          "data": {
            "text/plain": [
              "Batch 2    116\n",
              "Batch 1    114\n",
              "Name: Batch, dtype: int64"
            ]
          },
          "metadata": {},
          "execution_count": 782
        }
      ]
    },
    {
      "cell_type": "code",
      "source": [
        "Notattend=data[data['Final Status']=='Not Attended']\n",
        "Notattend\n",
        "#These are the 10 students who dont attended the MOS exam\n",
        "#we are going to drop it"
      ],
      "metadata": {
        "colab": {
          "base_uri": "https://localhost:8080/",
          "height": 650
        },
        "id": "Jhx9OL7Nl7KP",
        "outputId": "dbaf535f-4d82-4f63-b0d7-71aa4156d5c1"
      },
      "execution_count": 783,
      "outputs": [
        {
          "output_type": "execute_result",
          "data": {
            "text/plain": [
              "     Timestamp    Batch First Name  Gender       Degree  Degree Mark (%)  \\\n",
              "46   1 st Year  Batch 1   Suhaana   Female  B.Com / BBA             0.56   \n",
              "51   1 st Year  Batch 1     TERESA  Female          BSC             0.76   \n",
              "142  2nd Years  Batch 1     Ashika  Female  B.Com / BBA            50.16   \n",
              "148  2nd Years  Batch 1        Ben    Male  B.Com / BBA            70.00   \n",
              "153  2nd Years      NaN        NaN     NaN          NaN              NaN   \n",
              "156  2nd Years      NaN        NaN     NaN          NaN              NaN   \n",
              "158  2nd Years      NaN        NaN     NaN          NaN              NaN   \n",
              "160  2nd Years  Batch 1     Gopika  Female  B.Com / BBA            62.00   \n",
              "174  2nd Years  Batch 1       SREE  Female  B.Com / BBA            79.00   \n",
              "179  2nd Years      NaN        NaN     NaN          NaN              NaN   \n",
              "\n",
              "    Do you have computer (Laptop) Have you learned Excel before this training  \\\n",
              "46                             No                                          No   \n",
              "51                            Yes                                          No   \n",
              "142                           Yes                                          No   \n",
              "148                            No                                         Yes   \n",
              "153                           NaN                                         NaN   \n",
              "156                           NaN                                         NaN   \n",
              "158                           NaN                                         NaN   \n",
              "160                           Yes                                          No   \n",
              "174                           Yes                                          No   \n",
              "179                           NaN                                         NaN   \n",
              "\n",
              "       District  Final Exam Mark  Final Status     Time 1     Mark 1  \\\n",
              "46   Ernakulam               NaN  Not Attended  32.831741  74.138131   \n",
              "51    Ernakulam              NaN  Not Attended   1.270000  78.000000   \n",
              "142   Ernakulam              NaN  Not Attended  73.000000  63.000000   \n",
              "148   Ernakluam              NaN  Not Attended  83.000000  74.138131   \n",
              "153         NaN              NaN  Not Attended  32.831741  74.138131   \n",
              "156         NaN              NaN  Not Attended  32.831741  74.138131   \n",
              "158         NaN              NaN  Not Attended  32.831741  74.138131   \n",
              "160   Ernakulam              NaN  Not Attended  70.000000  75.000000   \n",
              "174   Ernakulam              NaN  Not Attended  73.000000  74.138131   \n",
              "179         NaN              NaN  Not Attended  75.000000  74.138131   \n",
              "\n",
              "        Time 2     Mark 2    Time 3     Mark 3 Stage 1 Stage 2 Stage 3  \n",
              "46   18.282788  80.573529  0.340000  47.000000       B       C       C  \n",
              "51   18.282788  80.573529  0.298214  81.964286       B       C       C  \n",
              "142  35.000000  64.000000  0.298214  81.964286       C       C       C  \n",
              "148  36.000000  80.573529  0.298214  81.964286       B       C       C  \n",
              "153  18.282788  80.573529  0.298214  81.964286       B       C       C  \n",
              "156  18.282788  80.573529  0.298214  81.964286       B       C       C  \n",
              "158  18.282788  80.573529  0.298214  81.964286       B       C       C  \n",
              "160  40.000000  67.000000  0.298214  81.964286       B       C       C  \n",
              "174  46.000000  80.573529  0.298214  81.964286       B       C       C  \n",
              "179  18.282788  80.573529  0.298214  81.964286       B       C       C  "
            ],
            "text/html": [
              "\n",
              "  <div id=\"df-29feae11-b401-454d-b27c-79a494cfe513\">\n",
              "    <div class=\"colab-df-container\">\n",
              "      <div>\n",
              "<style scoped>\n",
              "    .dataframe tbody tr th:only-of-type {\n",
              "        vertical-align: middle;\n",
              "    }\n",
              "\n",
              "    .dataframe tbody tr th {\n",
              "        vertical-align: top;\n",
              "    }\n",
              "\n",
              "    .dataframe thead th {\n",
              "        text-align: right;\n",
              "    }\n",
              "</style>\n",
              "<table border=\"1\" class=\"dataframe\">\n",
              "  <thead>\n",
              "    <tr style=\"text-align: right;\">\n",
              "      <th></th>\n",
              "      <th>Timestamp</th>\n",
              "      <th>Batch</th>\n",
              "      <th>First Name</th>\n",
              "      <th>Gender</th>\n",
              "      <th>Degree</th>\n",
              "      <th>Degree Mark (%)</th>\n",
              "      <th>Do you have computer (Laptop)</th>\n",
              "      <th>Have you learned Excel before this training</th>\n",
              "      <th>District</th>\n",
              "      <th>Final Exam Mark</th>\n",
              "      <th>Final Status</th>\n",
              "      <th>Time 1</th>\n",
              "      <th>Mark 1</th>\n",
              "      <th>Time 2</th>\n",
              "      <th>Mark 2</th>\n",
              "      <th>Time 3</th>\n",
              "      <th>Mark 3</th>\n",
              "      <th>Stage 1</th>\n",
              "      <th>Stage 2</th>\n",
              "      <th>Stage 3</th>\n",
              "    </tr>\n",
              "  </thead>\n",
              "  <tbody>\n",
              "    <tr>\n",
              "      <th>46</th>\n",
              "      <td>1 st Year</td>\n",
              "      <td>Batch 1</td>\n",
              "      <td>Suhaana</td>\n",
              "      <td>Female</td>\n",
              "      <td>B.Com / BBA</td>\n",
              "      <td>0.56</td>\n",
              "      <td>No</td>\n",
              "      <td>No</td>\n",
              "      <td>Ernakulam</td>\n",
              "      <td>NaN</td>\n",
              "      <td>Not Attended</td>\n",
              "      <td>32.831741</td>\n",
              "      <td>74.138131</td>\n",
              "      <td>18.282788</td>\n",
              "      <td>80.573529</td>\n",
              "      <td>0.340000</td>\n",
              "      <td>47.000000</td>\n",
              "      <td>B</td>\n",
              "      <td>C</td>\n",
              "      <td>C</td>\n",
              "    </tr>\n",
              "    <tr>\n",
              "      <th>51</th>\n",
              "      <td>1 st Year</td>\n",
              "      <td>Batch 1</td>\n",
              "      <td>TERESA</td>\n",
              "      <td>Female</td>\n",
              "      <td>BSC</td>\n",
              "      <td>0.76</td>\n",
              "      <td>Yes</td>\n",
              "      <td>No</td>\n",
              "      <td>Ernakulam</td>\n",
              "      <td>NaN</td>\n",
              "      <td>Not Attended</td>\n",
              "      <td>1.270000</td>\n",
              "      <td>78.000000</td>\n",
              "      <td>18.282788</td>\n",
              "      <td>80.573529</td>\n",
              "      <td>0.298214</td>\n",
              "      <td>81.964286</td>\n",
              "      <td>B</td>\n",
              "      <td>C</td>\n",
              "      <td>C</td>\n",
              "    </tr>\n",
              "    <tr>\n",
              "      <th>142</th>\n",
              "      <td>2nd Years</td>\n",
              "      <td>Batch 1</td>\n",
              "      <td>Ashika</td>\n",
              "      <td>Female</td>\n",
              "      <td>B.Com / BBA</td>\n",
              "      <td>50.16</td>\n",
              "      <td>Yes</td>\n",
              "      <td>No</td>\n",
              "      <td>Ernakulam</td>\n",
              "      <td>NaN</td>\n",
              "      <td>Not Attended</td>\n",
              "      <td>73.000000</td>\n",
              "      <td>63.000000</td>\n",
              "      <td>35.000000</td>\n",
              "      <td>64.000000</td>\n",
              "      <td>0.298214</td>\n",
              "      <td>81.964286</td>\n",
              "      <td>C</td>\n",
              "      <td>C</td>\n",
              "      <td>C</td>\n",
              "    </tr>\n",
              "    <tr>\n",
              "      <th>148</th>\n",
              "      <td>2nd Years</td>\n",
              "      <td>Batch 1</td>\n",
              "      <td>Ben</td>\n",
              "      <td>Male</td>\n",
              "      <td>B.Com / BBA</td>\n",
              "      <td>70.00</td>\n",
              "      <td>No</td>\n",
              "      <td>Yes</td>\n",
              "      <td>Ernakluam</td>\n",
              "      <td>NaN</td>\n",
              "      <td>Not Attended</td>\n",
              "      <td>83.000000</td>\n",
              "      <td>74.138131</td>\n",
              "      <td>36.000000</td>\n",
              "      <td>80.573529</td>\n",
              "      <td>0.298214</td>\n",
              "      <td>81.964286</td>\n",
              "      <td>B</td>\n",
              "      <td>C</td>\n",
              "      <td>C</td>\n",
              "    </tr>\n",
              "    <tr>\n",
              "      <th>153</th>\n",
              "      <td>2nd Years</td>\n",
              "      <td>NaN</td>\n",
              "      <td>NaN</td>\n",
              "      <td>NaN</td>\n",
              "      <td>NaN</td>\n",
              "      <td>NaN</td>\n",
              "      <td>NaN</td>\n",
              "      <td>NaN</td>\n",
              "      <td>NaN</td>\n",
              "      <td>NaN</td>\n",
              "      <td>Not Attended</td>\n",
              "      <td>32.831741</td>\n",
              "      <td>74.138131</td>\n",
              "      <td>18.282788</td>\n",
              "      <td>80.573529</td>\n",
              "      <td>0.298214</td>\n",
              "      <td>81.964286</td>\n",
              "      <td>B</td>\n",
              "      <td>C</td>\n",
              "      <td>C</td>\n",
              "    </tr>\n",
              "    <tr>\n",
              "      <th>156</th>\n",
              "      <td>2nd Years</td>\n",
              "      <td>NaN</td>\n",
              "      <td>NaN</td>\n",
              "      <td>NaN</td>\n",
              "      <td>NaN</td>\n",
              "      <td>NaN</td>\n",
              "      <td>NaN</td>\n",
              "      <td>NaN</td>\n",
              "      <td>NaN</td>\n",
              "      <td>NaN</td>\n",
              "      <td>Not Attended</td>\n",
              "      <td>32.831741</td>\n",
              "      <td>74.138131</td>\n",
              "      <td>18.282788</td>\n",
              "      <td>80.573529</td>\n",
              "      <td>0.298214</td>\n",
              "      <td>81.964286</td>\n",
              "      <td>B</td>\n",
              "      <td>C</td>\n",
              "      <td>C</td>\n",
              "    </tr>\n",
              "    <tr>\n",
              "      <th>158</th>\n",
              "      <td>2nd Years</td>\n",
              "      <td>NaN</td>\n",
              "      <td>NaN</td>\n",
              "      <td>NaN</td>\n",
              "      <td>NaN</td>\n",
              "      <td>NaN</td>\n",
              "      <td>NaN</td>\n",
              "      <td>NaN</td>\n",
              "      <td>NaN</td>\n",
              "      <td>NaN</td>\n",
              "      <td>Not Attended</td>\n",
              "      <td>32.831741</td>\n",
              "      <td>74.138131</td>\n",
              "      <td>18.282788</td>\n",
              "      <td>80.573529</td>\n",
              "      <td>0.298214</td>\n",
              "      <td>81.964286</td>\n",
              "      <td>B</td>\n",
              "      <td>C</td>\n",
              "      <td>C</td>\n",
              "    </tr>\n",
              "    <tr>\n",
              "      <th>160</th>\n",
              "      <td>2nd Years</td>\n",
              "      <td>Batch 1</td>\n",
              "      <td>Gopika</td>\n",
              "      <td>Female</td>\n",
              "      <td>B.Com / BBA</td>\n",
              "      <td>62.00</td>\n",
              "      <td>Yes</td>\n",
              "      <td>No</td>\n",
              "      <td>Ernakulam</td>\n",
              "      <td>NaN</td>\n",
              "      <td>Not Attended</td>\n",
              "      <td>70.000000</td>\n",
              "      <td>75.000000</td>\n",
              "      <td>40.000000</td>\n",
              "      <td>67.000000</td>\n",
              "      <td>0.298214</td>\n",
              "      <td>81.964286</td>\n",
              "      <td>B</td>\n",
              "      <td>C</td>\n",
              "      <td>C</td>\n",
              "    </tr>\n",
              "    <tr>\n",
              "      <th>174</th>\n",
              "      <td>2nd Years</td>\n",
              "      <td>Batch 1</td>\n",
              "      <td>SREE</td>\n",
              "      <td>Female</td>\n",
              "      <td>B.Com / BBA</td>\n",
              "      <td>79.00</td>\n",
              "      <td>Yes</td>\n",
              "      <td>No</td>\n",
              "      <td>Ernakulam</td>\n",
              "      <td>NaN</td>\n",
              "      <td>Not Attended</td>\n",
              "      <td>73.000000</td>\n",
              "      <td>74.138131</td>\n",
              "      <td>46.000000</td>\n",
              "      <td>80.573529</td>\n",
              "      <td>0.298214</td>\n",
              "      <td>81.964286</td>\n",
              "      <td>B</td>\n",
              "      <td>C</td>\n",
              "      <td>C</td>\n",
              "    </tr>\n",
              "    <tr>\n",
              "      <th>179</th>\n",
              "      <td>2nd Years</td>\n",
              "      <td>NaN</td>\n",
              "      <td>NaN</td>\n",
              "      <td>NaN</td>\n",
              "      <td>NaN</td>\n",
              "      <td>NaN</td>\n",
              "      <td>NaN</td>\n",
              "      <td>NaN</td>\n",
              "      <td>NaN</td>\n",
              "      <td>NaN</td>\n",
              "      <td>Not Attended</td>\n",
              "      <td>75.000000</td>\n",
              "      <td>74.138131</td>\n",
              "      <td>18.282788</td>\n",
              "      <td>80.573529</td>\n",
              "      <td>0.298214</td>\n",
              "      <td>81.964286</td>\n",
              "      <td>B</td>\n",
              "      <td>C</td>\n",
              "      <td>C</td>\n",
              "    </tr>\n",
              "  </tbody>\n",
              "</table>\n",
              "</div>\n",
              "      <button class=\"colab-df-convert\" onclick=\"convertToInteractive('df-29feae11-b401-454d-b27c-79a494cfe513')\"\n",
              "              title=\"Convert this dataframe to an interactive table.\"\n",
              "              style=\"display:none;\">\n",
              "        \n",
              "  <svg xmlns=\"http://www.w3.org/2000/svg\" height=\"24px\"viewBox=\"0 0 24 24\"\n",
              "       width=\"24px\">\n",
              "    <path d=\"M0 0h24v24H0V0z\" fill=\"none\"/>\n",
              "    <path d=\"M18.56 5.44l.94 2.06.94-2.06 2.06-.94-2.06-.94-.94-2.06-.94 2.06-2.06.94zm-11 1L8.5 8.5l.94-2.06 2.06-.94-2.06-.94L8.5 2.5l-.94 2.06-2.06.94zm10 10l.94 2.06.94-2.06 2.06-.94-2.06-.94-.94-2.06-.94 2.06-2.06.94z\"/><path d=\"M17.41 7.96l-1.37-1.37c-.4-.4-.92-.59-1.43-.59-.52 0-1.04.2-1.43.59L10.3 9.45l-7.72 7.72c-.78.78-.78 2.05 0 2.83L4 21.41c.39.39.9.59 1.41.59.51 0 1.02-.2 1.41-.59l7.78-7.78 2.81-2.81c.8-.78.8-2.07 0-2.86zM5.41 20L4 18.59l7.72-7.72 1.47 1.35L5.41 20z\"/>\n",
              "  </svg>\n",
              "      </button>\n",
              "      \n",
              "  <style>\n",
              "    .colab-df-container {\n",
              "      display:flex;\n",
              "      flex-wrap:wrap;\n",
              "      gap: 12px;\n",
              "    }\n",
              "\n",
              "    .colab-df-convert {\n",
              "      background-color: #E8F0FE;\n",
              "      border: none;\n",
              "      border-radius: 50%;\n",
              "      cursor: pointer;\n",
              "      display: none;\n",
              "      fill: #1967D2;\n",
              "      height: 32px;\n",
              "      padding: 0 0 0 0;\n",
              "      width: 32px;\n",
              "    }\n",
              "\n",
              "    .colab-df-convert:hover {\n",
              "      background-color: #E2EBFA;\n",
              "      box-shadow: 0px 1px 2px rgba(60, 64, 67, 0.3), 0px 1px 3px 1px rgba(60, 64, 67, 0.15);\n",
              "      fill: #174EA6;\n",
              "    }\n",
              "\n",
              "    [theme=dark] .colab-df-convert {\n",
              "      background-color: #3B4455;\n",
              "      fill: #D2E3FC;\n",
              "    }\n",
              "\n",
              "    [theme=dark] .colab-df-convert:hover {\n",
              "      background-color: #434B5C;\n",
              "      box-shadow: 0px 1px 3px 1px rgba(0, 0, 0, 0.15);\n",
              "      filter: drop-shadow(0px 1px 2px rgba(0, 0, 0, 0.3));\n",
              "      fill: #FFFFFF;\n",
              "    }\n",
              "  </style>\n",
              "\n",
              "      <script>\n",
              "        const buttonEl =\n",
              "          document.querySelector('#df-29feae11-b401-454d-b27c-79a494cfe513 button.colab-df-convert');\n",
              "        buttonEl.style.display =\n",
              "          google.colab.kernel.accessAllowed ? 'block' : 'none';\n",
              "\n",
              "        async function convertToInteractive(key) {\n",
              "          const element = document.querySelector('#df-29feae11-b401-454d-b27c-79a494cfe513');\n",
              "          const dataTable =\n",
              "            await google.colab.kernel.invokeFunction('convertToInteractive',\n",
              "                                                     [key], {});\n",
              "          if (!dataTable) return;\n",
              "\n",
              "          const docLinkHtml = 'Like what you see? Visit the ' +\n",
              "            '<a target=\"_blank\" href=https://colab.research.google.com/notebooks/data_table.ipynb>data table notebook</a>'\n",
              "            + ' to learn more about interactive tables.';\n",
              "          element.innerHTML = '';\n",
              "          dataTable['output_type'] = 'display_data';\n",
              "          await google.colab.output.renderOutput(dataTable, element);\n",
              "          const docLink = document.createElement('div');\n",
              "          docLink.innerHTML = docLinkHtml;\n",
              "          element.appendChild(docLink);\n",
              "        }\n",
              "      </script>\n",
              "    </div>\n",
              "  </div>\n",
              "  "
            ]
          },
          "metadata": {},
          "execution_count": 783
        }
      ]
    },
    {
      "cell_type": "code",
      "source": [
        "NAN=(data.iloc[[153, 156, 158, 179,]])\n",
        "NAN\n",
        "#There are 4 students who dont register in the certiport link"
      ],
      "metadata": {
        "colab": {
          "base_uri": "https://localhost:8080/",
          "height": 358
        },
        "id": "fIkZN6Q_T5VX",
        "outputId": "cfe1723d-cd8e-45e7-c4bd-edc1245b34d1"
      },
      "execution_count": 784,
      "outputs": [
        {
          "output_type": "execute_result",
          "data": {
            "text/plain": [
              "     Timestamp Batch First Name Gender Degree  Degree Mark (%)  \\\n",
              "153  2nd Years   NaN        NaN    NaN    NaN              NaN   \n",
              "156  2nd Years   NaN        NaN    NaN    NaN              NaN   \n",
              "158  2nd Years   NaN        NaN    NaN    NaN              NaN   \n",
              "179  2nd Years   NaN        NaN    NaN    NaN              NaN   \n",
              "\n",
              "    Do you have computer (Laptop) Have you learned Excel before this training  \\\n",
              "153                           NaN                                         NaN   \n",
              "156                           NaN                                         NaN   \n",
              "158                           NaN                                         NaN   \n",
              "179                           NaN                                         NaN   \n",
              "\n",
              "    District  Final Exam Mark  Final Status     Time 1     Mark 1     Time 2  \\\n",
              "153      NaN              NaN  Not Attended  32.831741  74.138131  18.282788   \n",
              "156      NaN              NaN  Not Attended  32.831741  74.138131  18.282788   \n",
              "158      NaN              NaN  Not Attended  32.831741  74.138131  18.282788   \n",
              "179      NaN              NaN  Not Attended  75.000000  74.138131  18.282788   \n",
              "\n",
              "        Mark 2    Time 3     Mark 3 Stage 1 Stage 2 Stage 3  \n",
              "153  80.573529  0.298214  81.964286       B       C       C  \n",
              "156  80.573529  0.298214  81.964286       B       C       C  \n",
              "158  80.573529  0.298214  81.964286       B       C       C  \n",
              "179  80.573529  0.298214  81.964286       B       C       C  "
            ],
            "text/html": [
              "\n",
              "  <div id=\"df-4e9f9df2-120f-40a3-bfe6-ec6be5bcd907\">\n",
              "    <div class=\"colab-df-container\">\n",
              "      <div>\n",
              "<style scoped>\n",
              "    .dataframe tbody tr th:only-of-type {\n",
              "        vertical-align: middle;\n",
              "    }\n",
              "\n",
              "    .dataframe tbody tr th {\n",
              "        vertical-align: top;\n",
              "    }\n",
              "\n",
              "    .dataframe thead th {\n",
              "        text-align: right;\n",
              "    }\n",
              "</style>\n",
              "<table border=\"1\" class=\"dataframe\">\n",
              "  <thead>\n",
              "    <tr style=\"text-align: right;\">\n",
              "      <th></th>\n",
              "      <th>Timestamp</th>\n",
              "      <th>Batch</th>\n",
              "      <th>First Name</th>\n",
              "      <th>Gender</th>\n",
              "      <th>Degree</th>\n",
              "      <th>Degree Mark (%)</th>\n",
              "      <th>Do you have computer (Laptop)</th>\n",
              "      <th>Have you learned Excel before this training</th>\n",
              "      <th>District</th>\n",
              "      <th>Final Exam Mark</th>\n",
              "      <th>Final Status</th>\n",
              "      <th>Time 1</th>\n",
              "      <th>Mark 1</th>\n",
              "      <th>Time 2</th>\n",
              "      <th>Mark 2</th>\n",
              "      <th>Time 3</th>\n",
              "      <th>Mark 3</th>\n",
              "      <th>Stage 1</th>\n",
              "      <th>Stage 2</th>\n",
              "      <th>Stage 3</th>\n",
              "    </tr>\n",
              "  </thead>\n",
              "  <tbody>\n",
              "    <tr>\n",
              "      <th>153</th>\n",
              "      <td>2nd Years</td>\n",
              "      <td>NaN</td>\n",
              "      <td>NaN</td>\n",
              "      <td>NaN</td>\n",
              "      <td>NaN</td>\n",
              "      <td>NaN</td>\n",
              "      <td>NaN</td>\n",
              "      <td>NaN</td>\n",
              "      <td>NaN</td>\n",
              "      <td>NaN</td>\n",
              "      <td>Not Attended</td>\n",
              "      <td>32.831741</td>\n",
              "      <td>74.138131</td>\n",
              "      <td>18.282788</td>\n",
              "      <td>80.573529</td>\n",
              "      <td>0.298214</td>\n",
              "      <td>81.964286</td>\n",
              "      <td>B</td>\n",
              "      <td>C</td>\n",
              "      <td>C</td>\n",
              "    </tr>\n",
              "    <tr>\n",
              "      <th>156</th>\n",
              "      <td>2nd Years</td>\n",
              "      <td>NaN</td>\n",
              "      <td>NaN</td>\n",
              "      <td>NaN</td>\n",
              "      <td>NaN</td>\n",
              "      <td>NaN</td>\n",
              "      <td>NaN</td>\n",
              "      <td>NaN</td>\n",
              "      <td>NaN</td>\n",
              "      <td>NaN</td>\n",
              "      <td>Not Attended</td>\n",
              "      <td>32.831741</td>\n",
              "      <td>74.138131</td>\n",
              "      <td>18.282788</td>\n",
              "      <td>80.573529</td>\n",
              "      <td>0.298214</td>\n",
              "      <td>81.964286</td>\n",
              "      <td>B</td>\n",
              "      <td>C</td>\n",
              "      <td>C</td>\n",
              "    </tr>\n",
              "    <tr>\n",
              "      <th>158</th>\n",
              "      <td>2nd Years</td>\n",
              "      <td>NaN</td>\n",
              "      <td>NaN</td>\n",
              "      <td>NaN</td>\n",
              "      <td>NaN</td>\n",
              "      <td>NaN</td>\n",
              "      <td>NaN</td>\n",
              "      <td>NaN</td>\n",
              "      <td>NaN</td>\n",
              "      <td>NaN</td>\n",
              "      <td>Not Attended</td>\n",
              "      <td>32.831741</td>\n",
              "      <td>74.138131</td>\n",
              "      <td>18.282788</td>\n",
              "      <td>80.573529</td>\n",
              "      <td>0.298214</td>\n",
              "      <td>81.964286</td>\n",
              "      <td>B</td>\n",
              "      <td>C</td>\n",
              "      <td>C</td>\n",
              "    </tr>\n",
              "    <tr>\n",
              "      <th>179</th>\n",
              "      <td>2nd Years</td>\n",
              "      <td>NaN</td>\n",
              "      <td>NaN</td>\n",
              "      <td>NaN</td>\n",
              "      <td>NaN</td>\n",
              "      <td>NaN</td>\n",
              "      <td>NaN</td>\n",
              "      <td>NaN</td>\n",
              "      <td>NaN</td>\n",
              "      <td>NaN</td>\n",
              "      <td>Not Attended</td>\n",
              "      <td>75.000000</td>\n",
              "      <td>74.138131</td>\n",
              "      <td>18.282788</td>\n",
              "      <td>80.573529</td>\n",
              "      <td>0.298214</td>\n",
              "      <td>81.964286</td>\n",
              "      <td>B</td>\n",
              "      <td>C</td>\n",
              "      <td>C</td>\n",
              "    </tr>\n",
              "  </tbody>\n",
              "</table>\n",
              "</div>\n",
              "      <button class=\"colab-df-convert\" onclick=\"convertToInteractive('df-4e9f9df2-120f-40a3-bfe6-ec6be5bcd907')\"\n",
              "              title=\"Convert this dataframe to an interactive table.\"\n",
              "              style=\"display:none;\">\n",
              "        \n",
              "  <svg xmlns=\"http://www.w3.org/2000/svg\" height=\"24px\"viewBox=\"0 0 24 24\"\n",
              "       width=\"24px\">\n",
              "    <path d=\"M0 0h24v24H0V0z\" fill=\"none\"/>\n",
              "    <path d=\"M18.56 5.44l.94 2.06.94-2.06 2.06-.94-2.06-.94-.94-2.06-.94 2.06-2.06.94zm-11 1L8.5 8.5l.94-2.06 2.06-.94-2.06-.94L8.5 2.5l-.94 2.06-2.06.94zm10 10l.94 2.06.94-2.06 2.06-.94-2.06-.94-.94-2.06-.94 2.06-2.06.94z\"/><path d=\"M17.41 7.96l-1.37-1.37c-.4-.4-.92-.59-1.43-.59-.52 0-1.04.2-1.43.59L10.3 9.45l-7.72 7.72c-.78.78-.78 2.05 0 2.83L4 21.41c.39.39.9.59 1.41.59.51 0 1.02-.2 1.41-.59l7.78-7.78 2.81-2.81c.8-.78.8-2.07 0-2.86zM5.41 20L4 18.59l7.72-7.72 1.47 1.35L5.41 20z\"/>\n",
              "  </svg>\n",
              "      </button>\n",
              "      \n",
              "  <style>\n",
              "    .colab-df-container {\n",
              "      display:flex;\n",
              "      flex-wrap:wrap;\n",
              "      gap: 12px;\n",
              "    }\n",
              "\n",
              "    .colab-df-convert {\n",
              "      background-color: #E8F0FE;\n",
              "      border: none;\n",
              "      border-radius: 50%;\n",
              "      cursor: pointer;\n",
              "      display: none;\n",
              "      fill: #1967D2;\n",
              "      height: 32px;\n",
              "      padding: 0 0 0 0;\n",
              "      width: 32px;\n",
              "    }\n",
              "\n",
              "    .colab-df-convert:hover {\n",
              "      background-color: #E2EBFA;\n",
              "      box-shadow: 0px 1px 2px rgba(60, 64, 67, 0.3), 0px 1px 3px 1px rgba(60, 64, 67, 0.15);\n",
              "      fill: #174EA6;\n",
              "    }\n",
              "\n",
              "    [theme=dark] .colab-df-convert {\n",
              "      background-color: #3B4455;\n",
              "      fill: #D2E3FC;\n",
              "    }\n",
              "\n",
              "    [theme=dark] .colab-df-convert:hover {\n",
              "      background-color: #434B5C;\n",
              "      box-shadow: 0px 1px 3px 1px rgba(0, 0, 0, 0.15);\n",
              "      filter: drop-shadow(0px 1px 2px rgba(0, 0, 0, 0.3));\n",
              "      fill: #FFFFFF;\n",
              "    }\n",
              "  </style>\n",
              "\n",
              "      <script>\n",
              "        const buttonEl =\n",
              "          document.querySelector('#df-4e9f9df2-120f-40a3-bfe6-ec6be5bcd907 button.colab-df-convert');\n",
              "        buttonEl.style.display =\n",
              "          google.colab.kernel.accessAllowed ? 'block' : 'none';\n",
              "\n",
              "        async function convertToInteractive(key) {\n",
              "          const element = document.querySelector('#df-4e9f9df2-120f-40a3-bfe6-ec6be5bcd907');\n",
              "          const dataTable =\n",
              "            await google.colab.kernel.invokeFunction('convertToInteractive',\n",
              "                                                     [key], {});\n",
              "          if (!dataTable) return;\n",
              "\n",
              "          const docLinkHtml = 'Like what you see? Visit the ' +\n",
              "            '<a target=\"_blank\" href=https://colab.research.google.com/notebooks/data_table.ipynb>data table notebook</a>'\n",
              "            + ' to learn more about interactive tables.';\n",
              "          element.innerHTML = '';\n",
              "          dataTable['output_type'] = 'display_data';\n",
              "          await google.colab.output.renderOutput(dataTable, element);\n",
              "          const docLink = document.createElement('div');\n",
              "          docLink.innerHTML = docLinkHtml;\n",
              "          element.appendChild(docLink);\n",
              "        }\n",
              "      </script>\n",
              "    </div>\n",
              "  </div>\n",
              "  "
            ]
          },
          "metadata": {},
          "execution_count": 784
        }
      ]
    },
    {
      "cell_type": "code",
      "source": [
        "data=data.drop([46,51,142,148,153,156,158,160,174,179], axis=0)\n",
        "data.head()\n",
        "#here we dropped the 10 students from the data"
      ],
      "metadata": {
        "colab": {
          "base_uri": "https://localhost:8080/",
          "height": 389
        },
        "id": "1KFEpxWsTqIK",
        "outputId": "6d5342de-6d20-4038-f01f-e9095c3f5e88"
      },
      "execution_count": 785,
      "outputs": [
        {
          "output_type": "execute_result",
          "data": {
            "text/plain": [
              "   Timestamp    Batch First Name  Gender       Degree  Degree Mark (%)  \\\n",
              "0  1 st Year  Batch 1     ANJANA  Female           BA            5.800   \n",
              "1  1 st Year  Batch 1     JOSEPH    Male  B.Com / BBA           59.000   \n",
              "2  1 st Year  Batch 1     JOSNA   Female  B.Com / BBA            0.652   \n",
              "3  1 st Year  Batch 1     Judith    Male       B-Tech           73.700   \n",
              "4  1 st Year  Batch 1   Vineetha  Female  B.Com / BBA            7.380   \n",
              "\n",
              "  Do you have computer (Laptop) Have you learned Excel before this training  \\\n",
              "0                           Yes                                          No   \n",
              "1                           Yes                                          No   \n",
              "2                           Yes                                          No   \n",
              "3                           Yes                                          No   \n",
              "4                           Yes                                         Yes   \n",
              "\n",
              "    District  Final Exam Mark Final Status     Time 1     Mark 1     Time 2  \\\n",
              "0  Ernakulam            426.0       Failed   1.330000  74.138131  18.282788   \n",
              "1  Ernakulam            900.0       Passed   0.430000  65.000000   0.350000   \n",
              "2     Idukki            775.0       Passed   1.020000  80.000000   0.410000   \n",
              "3  Ernakulam            887.0       Passed  32.831741  74.138131  18.282788   \n",
              "4     Idukki            850.0       Passed   1.020000  83.000000   0.230000   \n",
              "\n",
              "      Mark 2  Time 3  Mark 3 Stage 1 Stage 2 Stage 3  \n",
              "0  80.573529    0.38    54.0       B       C       B  \n",
              "1  93.000000    0.17    94.0       C       A       A  \n",
              "2  85.000000    0.31    74.0       B       A       A  \n",
              "3  80.573529    0.32    70.0       B       A       A  \n",
              "4  83.000000    0.37    80.0       B       A       A  "
            ],
            "text/html": [
              "\n",
              "  <div id=\"df-bd79cd01-1515-4745-828e-4046502beaef\">\n",
              "    <div class=\"colab-df-container\">\n",
              "      <div>\n",
              "<style scoped>\n",
              "    .dataframe tbody tr th:only-of-type {\n",
              "        vertical-align: middle;\n",
              "    }\n",
              "\n",
              "    .dataframe tbody tr th {\n",
              "        vertical-align: top;\n",
              "    }\n",
              "\n",
              "    .dataframe thead th {\n",
              "        text-align: right;\n",
              "    }\n",
              "</style>\n",
              "<table border=\"1\" class=\"dataframe\">\n",
              "  <thead>\n",
              "    <tr style=\"text-align: right;\">\n",
              "      <th></th>\n",
              "      <th>Timestamp</th>\n",
              "      <th>Batch</th>\n",
              "      <th>First Name</th>\n",
              "      <th>Gender</th>\n",
              "      <th>Degree</th>\n",
              "      <th>Degree Mark (%)</th>\n",
              "      <th>Do you have computer (Laptop)</th>\n",
              "      <th>Have you learned Excel before this training</th>\n",
              "      <th>District</th>\n",
              "      <th>Final Exam Mark</th>\n",
              "      <th>Final Status</th>\n",
              "      <th>Time 1</th>\n",
              "      <th>Mark 1</th>\n",
              "      <th>Time 2</th>\n",
              "      <th>Mark 2</th>\n",
              "      <th>Time 3</th>\n",
              "      <th>Mark 3</th>\n",
              "      <th>Stage 1</th>\n",
              "      <th>Stage 2</th>\n",
              "      <th>Stage 3</th>\n",
              "    </tr>\n",
              "  </thead>\n",
              "  <tbody>\n",
              "    <tr>\n",
              "      <th>0</th>\n",
              "      <td>1 st Year</td>\n",
              "      <td>Batch 1</td>\n",
              "      <td>ANJANA</td>\n",
              "      <td>Female</td>\n",
              "      <td>BA</td>\n",
              "      <td>5.800</td>\n",
              "      <td>Yes</td>\n",
              "      <td>No</td>\n",
              "      <td>Ernakulam</td>\n",
              "      <td>426.0</td>\n",
              "      <td>Failed</td>\n",
              "      <td>1.330000</td>\n",
              "      <td>74.138131</td>\n",
              "      <td>18.282788</td>\n",
              "      <td>80.573529</td>\n",
              "      <td>0.38</td>\n",
              "      <td>54.0</td>\n",
              "      <td>B</td>\n",
              "      <td>C</td>\n",
              "      <td>B</td>\n",
              "    </tr>\n",
              "    <tr>\n",
              "      <th>1</th>\n",
              "      <td>1 st Year</td>\n",
              "      <td>Batch 1</td>\n",
              "      <td>JOSEPH</td>\n",
              "      <td>Male</td>\n",
              "      <td>B.Com / BBA</td>\n",
              "      <td>59.000</td>\n",
              "      <td>Yes</td>\n",
              "      <td>No</td>\n",
              "      <td>Ernakulam</td>\n",
              "      <td>900.0</td>\n",
              "      <td>Passed</td>\n",
              "      <td>0.430000</td>\n",
              "      <td>65.000000</td>\n",
              "      <td>0.350000</td>\n",
              "      <td>93.000000</td>\n",
              "      <td>0.17</td>\n",
              "      <td>94.0</td>\n",
              "      <td>C</td>\n",
              "      <td>A</td>\n",
              "      <td>A</td>\n",
              "    </tr>\n",
              "    <tr>\n",
              "      <th>2</th>\n",
              "      <td>1 st Year</td>\n",
              "      <td>Batch 1</td>\n",
              "      <td>JOSNA</td>\n",
              "      <td>Female</td>\n",
              "      <td>B.Com / BBA</td>\n",
              "      <td>0.652</td>\n",
              "      <td>Yes</td>\n",
              "      <td>No</td>\n",
              "      <td>Idukki</td>\n",
              "      <td>775.0</td>\n",
              "      <td>Passed</td>\n",
              "      <td>1.020000</td>\n",
              "      <td>80.000000</td>\n",
              "      <td>0.410000</td>\n",
              "      <td>85.000000</td>\n",
              "      <td>0.31</td>\n",
              "      <td>74.0</td>\n",
              "      <td>B</td>\n",
              "      <td>A</td>\n",
              "      <td>A</td>\n",
              "    </tr>\n",
              "    <tr>\n",
              "      <th>3</th>\n",
              "      <td>1 st Year</td>\n",
              "      <td>Batch 1</td>\n",
              "      <td>Judith</td>\n",
              "      <td>Male</td>\n",
              "      <td>B-Tech</td>\n",
              "      <td>73.700</td>\n",
              "      <td>Yes</td>\n",
              "      <td>No</td>\n",
              "      <td>Ernakulam</td>\n",
              "      <td>887.0</td>\n",
              "      <td>Passed</td>\n",
              "      <td>32.831741</td>\n",
              "      <td>74.138131</td>\n",
              "      <td>18.282788</td>\n",
              "      <td>80.573529</td>\n",
              "      <td>0.32</td>\n",
              "      <td>70.0</td>\n",
              "      <td>B</td>\n",
              "      <td>A</td>\n",
              "      <td>A</td>\n",
              "    </tr>\n",
              "    <tr>\n",
              "      <th>4</th>\n",
              "      <td>1 st Year</td>\n",
              "      <td>Batch 1</td>\n",
              "      <td>Vineetha</td>\n",
              "      <td>Female</td>\n",
              "      <td>B.Com / BBA</td>\n",
              "      <td>7.380</td>\n",
              "      <td>Yes</td>\n",
              "      <td>Yes</td>\n",
              "      <td>Idukki</td>\n",
              "      <td>850.0</td>\n",
              "      <td>Passed</td>\n",
              "      <td>1.020000</td>\n",
              "      <td>83.000000</td>\n",
              "      <td>0.230000</td>\n",
              "      <td>83.000000</td>\n",
              "      <td>0.37</td>\n",
              "      <td>80.0</td>\n",
              "      <td>B</td>\n",
              "      <td>A</td>\n",
              "      <td>A</td>\n",
              "    </tr>\n",
              "  </tbody>\n",
              "</table>\n",
              "</div>\n",
              "      <button class=\"colab-df-convert\" onclick=\"convertToInteractive('df-bd79cd01-1515-4745-828e-4046502beaef')\"\n",
              "              title=\"Convert this dataframe to an interactive table.\"\n",
              "              style=\"display:none;\">\n",
              "        \n",
              "  <svg xmlns=\"http://www.w3.org/2000/svg\" height=\"24px\"viewBox=\"0 0 24 24\"\n",
              "       width=\"24px\">\n",
              "    <path d=\"M0 0h24v24H0V0z\" fill=\"none\"/>\n",
              "    <path d=\"M18.56 5.44l.94 2.06.94-2.06 2.06-.94-2.06-.94-.94-2.06-.94 2.06-2.06.94zm-11 1L8.5 8.5l.94-2.06 2.06-.94-2.06-.94L8.5 2.5l-.94 2.06-2.06.94zm10 10l.94 2.06.94-2.06 2.06-.94-2.06-.94-.94-2.06-.94 2.06-2.06.94z\"/><path d=\"M17.41 7.96l-1.37-1.37c-.4-.4-.92-.59-1.43-.59-.52 0-1.04.2-1.43.59L10.3 9.45l-7.72 7.72c-.78.78-.78 2.05 0 2.83L4 21.41c.39.39.9.59 1.41.59.51 0 1.02-.2 1.41-.59l7.78-7.78 2.81-2.81c.8-.78.8-2.07 0-2.86zM5.41 20L4 18.59l7.72-7.72 1.47 1.35L5.41 20z\"/>\n",
              "  </svg>\n",
              "      </button>\n",
              "      \n",
              "  <style>\n",
              "    .colab-df-container {\n",
              "      display:flex;\n",
              "      flex-wrap:wrap;\n",
              "      gap: 12px;\n",
              "    }\n",
              "\n",
              "    .colab-df-convert {\n",
              "      background-color: #E8F0FE;\n",
              "      border: none;\n",
              "      border-radius: 50%;\n",
              "      cursor: pointer;\n",
              "      display: none;\n",
              "      fill: #1967D2;\n",
              "      height: 32px;\n",
              "      padding: 0 0 0 0;\n",
              "      width: 32px;\n",
              "    }\n",
              "\n",
              "    .colab-df-convert:hover {\n",
              "      background-color: #E2EBFA;\n",
              "      box-shadow: 0px 1px 2px rgba(60, 64, 67, 0.3), 0px 1px 3px 1px rgba(60, 64, 67, 0.15);\n",
              "      fill: #174EA6;\n",
              "    }\n",
              "\n",
              "    [theme=dark] .colab-df-convert {\n",
              "      background-color: #3B4455;\n",
              "      fill: #D2E3FC;\n",
              "    }\n",
              "\n",
              "    [theme=dark] .colab-df-convert:hover {\n",
              "      background-color: #434B5C;\n",
              "      box-shadow: 0px 1px 3px 1px rgba(0, 0, 0, 0.15);\n",
              "      filter: drop-shadow(0px 1px 2px rgba(0, 0, 0, 0.3));\n",
              "      fill: #FFFFFF;\n",
              "    }\n",
              "  </style>\n",
              "\n",
              "      <script>\n",
              "        const buttonEl =\n",
              "          document.querySelector('#df-bd79cd01-1515-4745-828e-4046502beaef button.colab-df-convert');\n",
              "        buttonEl.style.display =\n",
              "          google.colab.kernel.accessAllowed ? 'block' : 'none';\n",
              "\n",
              "        async function convertToInteractive(key) {\n",
              "          const element = document.querySelector('#df-bd79cd01-1515-4745-828e-4046502beaef');\n",
              "          const dataTable =\n",
              "            await google.colab.kernel.invokeFunction('convertToInteractive',\n",
              "                                                     [key], {});\n",
              "          if (!dataTable) return;\n",
              "\n",
              "          const docLinkHtml = 'Like what you see? Visit the ' +\n",
              "            '<a target=\"_blank\" href=https://colab.research.google.com/notebooks/data_table.ipynb>data table notebook</a>'\n",
              "            + ' to learn more about interactive tables.';\n",
              "          element.innerHTML = '';\n",
              "          dataTable['output_type'] = 'display_data';\n",
              "          await google.colab.output.renderOutput(dataTable, element);\n",
              "          const docLink = document.createElement('div');\n",
              "          docLink.innerHTML = docLinkHtml;\n",
              "          element.appendChild(docLink);\n",
              "        }\n",
              "      </script>\n",
              "    </div>\n",
              "  </div>\n",
              "  "
            ]
          },
          "metadata": {},
          "execution_count": 785
        }
      ]
    },
    {
      "cell_type": "code",
      "execution_count": 786,
      "metadata": {
        "colab": {
          "base_uri": "https://localhost:8080/"
        },
        "id": "dEqGN0SRVQML",
        "outputId": "87de9546-4fe8-423c-cb01-0462fcf4f703"
      },
      "outputs": [
        {
          "output_type": "stream",
          "name": "stdout",
          "text": [
            "<class 'pandas.core.frame.DataFrame'>\n",
            "Int64Index: 224 entries, 0 to 233\n",
            "Data columns (total 20 columns):\n",
            " #   Column                                       Non-Null Count  Dtype  \n",
            "---  ------                                       --------------  -----  \n",
            " 0   Timestamp                                    224 non-null    object \n",
            " 1   Batch                                        224 non-null    object \n",
            " 2   First Name                                   224 non-null    object \n",
            " 3   Gender                                       224 non-null    object \n",
            " 4   Degree                                       224 non-null    object \n",
            " 5   Degree Mark (%)                              224 non-null    float64\n",
            " 6   Do you have computer (Laptop)                224 non-null    object \n",
            " 7   Have you learned Excel before this training  224 non-null    object \n",
            " 8   District                                     224 non-null    object \n",
            " 9   Final Exam Mark                              224 non-null    float64\n",
            " 10  Final Status                                 224 non-null    object \n",
            " 11  Time 1                                       224 non-null    float64\n",
            " 12  Mark 1                                       224 non-null    float64\n",
            " 13  Time 2                                       224 non-null    float64\n",
            " 14  Mark 2                                       224 non-null    float64\n",
            " 15  Time 3                                       224 non-null    float64\n",
            " 16  Mark 3                                       224 non-null    float64\n",
            " 17  Stage 1                                      224 non-null    object \n",
            " 18  Stage 2                                      224 non-null    object \n",
            " 19  Stage 3                                      224 non-null    object \n",
            "dtypes: float64(8), object(12)\n",
            "memory usage: 36.8+ KB\n"
          ]
        }
      ],
      "source": [
        "# code for finding data type and null value checking\n",
        "data.info()                  \n",
        "                  "
      ]
    },
    {
      "cell_type": "code",
      "execution_count": 787,
      "metadata": {
        "colab": {
          "base_uri": "https://localhost:8080/"
        },
        "id": "BTsVJf9LEzeR",
        "outputId": "978000e3-26de-487c-def0-ecbd8d2882a6"
      },
      "outputs": [
        {
          "output_type": "execute_result",
          "data": {
            "text/plain": [
              "Index(['Timestamp', 'Batch', 'First Name', 'Gender', 'Degree',\n",
              "       'Degree Mark (%)', 'Do you have computer (Laptop)',\n",
              "       'Have you learned Excel before this training', 'District',\n",
              "       'Final Exam Mark', 'Final Status', 'Time 1', 'Mark 1', 'Time 2',\n",
              "       'Mark 2', 'Time 3', 'Mark 3', 'Stage 1', 'Stage 2', 'Stage 3'],\n",
              "      dtype='object')"
            ]
          },
          "metadata": {},
          "execution_count": 787
        }
      ],
      "source": [
        " #to get variable names\n",
        "data.columns          "
      ]
    },
    {
      "cell_type": "code",
      "source": [
        ""
      ],
      "metadata": {
        "id": "sgcQA77G6BtB"
      },
      "execution_count": 787,
      "outputs": []
    },
    {
      "cell_type": "markdown",
      "source": [
        "### EXPLORATORY DATA ANALYSIS\n",
        "\n",
        "Univariable Analysis"
      ],
      "metadata": {
        "id": "wBgVBayBWCLf"
      }
    },
    {
      "cell_type": "code",
      "source": [
        "# to find the count\n",
        "aa=data['Timestamp'].value_counts()          \n",
        "aa"
      ],
      "metadata": {
        "colab": {
          "base_uri": "https://localhost:8080/"
        },
        "id": "hVY8Z5XrbA96",
        "outputId": "bd5702a1-e390-46c9-ee8a-3710b567e4cd"
      },
      "execution_count": 788,
      "outputs": [
        {
          "output_type": "execute_result",
          "data": {
            "text/plain": [
              "1 st Year    116\n",
              "2nd Years    108\n",
              "Name: Timestamp, dtype: int64"
            ]
          },
          "metadata": {},
          "execution_count": 788
        }
      ]
    },
    {
      "cell_type": "markdown",
      "source": [
        "After dropping those 10 students from the datawho didnt attended the exam. \n",
        "\n",
        "Now there is 116 students in 1st years and 108 students in 2nd years who came for the MOS Exam"
      ],
      "metadata": {
        "id": "53x92WcANgUy"
      }
    },
    {
      "cell_type": "code",
      "source": [
        "# to find the count\n",
        "bb=data['Batch'].value_counts()          \n",
        "bb"
      ],
      "metadata": {
        "colab": {
          "base_uri": "https://localhost:8080/"
        },
        "id": "H_HjZLYcal8G",
        "outputId": "37d3a074-dcd9-4f5d-9c80-5395ad83a429"
      },
      "execution_count": 789,
      "outputs": [
        {
          "output_type": "execute_result",
          "data": {
            "text/plain": [
              "Batch 2    116\n",
              "Batch 1    108\n",
              "Name: Batch, dtype: int64"
            ]
          },
          "metadata": {},
          "execution_count": 789
        }
      ]
    },
    {
      "cell_type": "markdown",
      "source": [
        "Total there is 234 students for exam but 10 students didnt attended exam so we removed them . now there is 224 students in analysis\n"
      ],
      "metadata": {
        "id": "GNFN2p1XaXZI"
      }
    },
    {
      "cell_type": "code",
      "execution_count": 790,
      "metadata": {
        "colab": {
          "base_uri": "https://localhost:8080/"
        },
        "id": "38dXH_vuEj0w",
        "outputId": "11c1038e-0d95-4697-9dd5-70a0d312e0b2"
      },
      "outputs": [
        {
          "output_type": "execute_result",
          "data": {
            "text/plain": [
              "Female    134\n",
              "Male       90\n",
              "Name: Gender, dtype: int64"
            ]
          },
          "metadata": {},
          "execution_count": 790
        }
      ],
      "source": [
        "# to find the count\n",
        "a=data['Gender'].value_counts()          \n",
        "a"
      ]
    },
    {
      "cell_type": "markdown",
      "source": [
        " 133 females and 91 males attended the MOS exam from FISAT college"
      ],
      "metadata": {
        "id": "Y6C1lYcoN70y"
      }
    },
    {
      "cell_type": "code",
      "execution_count": 791,
      "metadata": {
        "colab": {
          "base_uri": "https://localhost:8080/",
          "height": 349
        },
        "id": "qDXgsjUNF23X",
        "outputId": "b1e1b9ac-9e16-4c11-e944-fa27b84aef3e"
      },
      "outputs": [
        {
          "output_type": "execute_result",
          "data": {
            "text/plain": [
              "Text(0.5, 1.0, 'Count of Gender\\n')"
            ]
          },
          "metadata": {},
          "execution_count": 791
        },
        {
          "output_type": "display_data",
          "data": {
            "text/plain": [
              "<Figure size 432x288 with 1 Axes>"
            ],
            "image/png": "[encoded data removed]"
          },
          "metadata": {
            "needs_background": "light"
          }
        }
      ],
      "source": [
        "# bar chart ploting after finding the count\n",
        "a.plot(kind=\"bar\",color='lightblue', width = 0.6, edgecolor = 'black' )               \n",
        "plt.title('Count of Gender\\n', fontdict={'fontsize':18, 'fontweight':5, 'color':'darkblue'})"
      ]
    },
    {
      "cell_type": "code",
      "source": [
        "#in this code autopct will show percentage values inside pie chart\n",
        "a.plot(kind='pie',cmap='Accent', autopct='%1.2f%%')\n",
        "plt.title('Count of Gender\\n', fontdict={'fontsize':18, 'fontweight':5, 'color':'darkblue'})"
      ],
      "metadata": {
        "colab": {
          "base_uri": "https://localhost:8080/",
          "height": 306
        },
        "id": "ADoClngcZBhR",
        "outputId": "f62bfb91-db22-451e-f393-5a09fb9f097b"
      },
      "execution_count": 792,
      "outputs": [
        {
          "output_type": "execute_result",
          "data": {
            "text/plain": [
              "Text(0.5, 1.0, 'Count of Gender\\n')"
            ]
          },
          "metadata": {},
          "execution_count": 792
        },
        {
          "output_type": "display_data",
          "data": {
            "text/plain": [
              "<Figure size 432x288 with 1 Axes>"
            ],
            "image/png": "[encoded data removed]"
          },
          "metadata": {}
        }
      ]
    },
    {
      "cell_type": "code",
      "execution_count": 793,
      "metadata": {
        "colab": {
          "base_uri": "https://localhost:8080/"
        },
        "id": "9y2PB-eqE-TP",
        "outputId": "b3e086e7-44b0-4971-e9aa-870a976940a4"
      },
      "outputs": [
        {
          "output_type": "execute_result",
          "data": {
            "text/plain": [
              "B.Com / BBA      158\n",
              "B-Tech            25\n",
              "BSC               18\n",
              "BCA                7\n",
              "BA                 6\n",
              "MBA                5\n",
              "B. Voc             2\n",
              "B.A.LLB            2\n",
              "BBA.LLB(HONS)      1\n",
              "Name: Degree, dtype: int64"
            ]
          },
          "metadata": {},
          "execution_count": 793
        }
      ],
      "source": [
        "b=data['Degree'].value_counts()\n",
        "b"
      ]
    },
    {
      "cell_type": "code",
      "execution_count": 794,
      "metadata": {
        "colab": {
          "base_uri": "https://localhost:8080/",
          "height": 392
        },
        "id": "TE4LJ8AENQST",
        "outputId": "767c5e33-1dd2-41b3-c13e-3b5ca0559ad8"
      },
      "outputs": [
        {
          "output_type": "execute_result",
          "data": {
            "text/plain": [
              "Text(0.5, 1.0, 'Count of Degree\\n')"
            ]
          },
          "metadata": {},
          "execution_count": 794
        },
        {
          "output_type": "display_data",
          "data": {
            "text/plain": [
              "<Figure size 432x288 with 1 Axes>"
            ],
            "image/png": "[encoded data removed]"
          },
          "metadata": {
            "needs_background": "light"
          }
        }
      ],
      "source": [
        "b.plot(kind=\"bar\",width = 0.6, edgecolor = 'black', color=\"aquamarine\")  \n",
        "plt.title('Count of Degree\\n', fontdict={'fontsize':18, 'fontweight':5, 'color':'darkgreen'})                   "
      ]
    },
    {
      "cell_type": "code",
      "source": [
        "#Most of the students where having B com degree"
      ],
      "metadata": {
        "id": "4I2eZh3vQDCD"
      },
      "execution_count": 795,
      "outputs": []
    },
    {
      "cell_type": "code",
      "execution_count": 796,
      "metadata": {
        "colab": {
          "base_uri": "https://localhost:8080/"
        },
        "id": "vbEzZAxKFG9_",
        "outputId": "16905d70-b0c2-4ec9-a78f-d9a88fecd2cd"
      },
      "outputs": [
        {
          "output_type": "execute_result",
          "data": {
            "text/plain": [
              "Yes    166\n",
              "No      58\n",
              "Name: Do you have computer (Laptop), dtype: int64"
            ]
          },
          "metadata": {},
          "execution_count": 796
        }
      ],
      "source": [
        "c=data['Do you have computer (Laptop)'].value_counts()\n",
        "c"
      ]
    },
    {
      "cell_type": "code",
      "execution_count": 797,
      "metadata": {
        "colab": {
          "base_uri": "https://localhost:8080/",
          "height": 329
        },
        "id": "vKhxjeVCNbsT",
        "outputId": "99b98f98-b297-4787-9cc8-99808f0fd18b"
      },
      "outputs": [
        {
          "output_type": "execute_result",
          "data": {
            "text/plain": [
              "Text(0.5, 1.0, 'Count of Laptop Access\\n')"
            ]
          },
          "metadata": {},
          "execution_count": 797
        },
        {
          "output_type": "display_data",
          "data": {
            "text/plain": [
              "<Figure size 432x288 with 1 Axes>"
            ],
            "image/png": "[encoded data removed]"
          },
          "metadata": {
            "needs_background": "light"
          }
        }
      ],
      "source": [
        "c.plot(kind=\"bar\", color=\"lightblue\",width = 0.6, edgecolor = 'black')\n",
        "plt.title('Count of Laptop Access\\n', fontdict={'fontsize':18, 'fontweight':5, 'color':'darkblue'})"
      ]
    },
    {
      "cell_type": "markdown",
      "source": [
        "most of the students are having their own laptop"
      ],
      "metadata": {
        "id": "DS_Z0HenQVJd"
      }
    },
    {
      "cell_type": "code",
      "execution_count": 798,
      "metadata": {
        "colab": {
          "base_uri": "https://localhost:8080/"
        },
        "id": "32wARWshFPlG",
        "outputId": "42e899a8-9162-49a9-ac19-0961d3744950"
      },
      "outputs": [
        {
          "output_type": "execute_result",
          "data": {
            "text/plain": [
              "No     178\n",
              "Yes     46\n",
              "Name: Have you learned Excel before this training, dtype: int64"
            ]
          },
          "metadata": {},
          "execution_count": 798
        }
      ],
      "source": [
        "d=data['Have you learned Excel before this training'].value_counts()\n",
        "d"
      ]
    },
    {
      "cell_type": "code",
      "execution_count": 799,
      "metadata": {
        "colab": {
          "base_uri": "https://localhost:8080/",
          "height": 329
        },
        "id": "7U0oQJ_DNiBE",
        "outputId": "45a12ebb-5f83-4967-fb5e-a87c746573a1"
      },
      "outputs": [
        {
          "output_type": "execute_result",
          "data": {
            "text/plain": [
              "Text(0.5, 1.0, 'Count of Previous Excel Knowledge\\n')"
            ]
          },
          "metadata": {},
          "execution_count": 799
        },
        {
          "output_type": "display_data",
          "data": {
            "text/plain": [
              "<Figure size 432x288 with 1 Axes>"
            ],
            "image/png": "[encoded data removed]"
          },
          "metadata": {
            "needs_background": "light"
          }
        }
      ],
      "source": [
        "d.plot(kind=\"bar\", color='aquamarine',width = 0.6, edgecolor = 'black')\n",
        "plt.title('Count of Previous Excel Knowledge\\n', fontdict={'fontsize':18, 'fontweight':5, 'color':'darkgreen'})   "
      ]
    },
    {
      "cell_type": "markdown",
      "source": [
        "Most of the students where not having previous excel knowledge"
      ],
      "metadata": {
        "id": "pwzY0uxEQebp"
      }
    },
    {
      "cell_type": "code",
      "execution_count": 800,
      "metadata": {
        "id": "G-3gUVD5FgHO"
      },
      "outputs": [],
      "source": [
        "#f=data['Retest Count'].value_counts()\n",
        "#f"
      ]
    },
    {
      "cell_type": "code",
      "execution_count": 801,
      "metadata": {
        "id": "_JwqSfNeOOWN"
      },
      "outputs": [],
      "source": [
        "#f.plot(kind=\"bar\", color='lightblue',width = 0.6, edgecolor = 'black')\n",
        "#plt.title('Count of Retest count\\n', fontdict={'fontsize':18, 'fontweight':5, 'color':'darkblue'})"
      ]
    },
    {
      "cell_type": "code",
      "execution_count": 802,
      "metadata": {
        "colab": {
          "base_uri": "https://localhost:8080/"
        },
        "id": "w71Bw8MEFjh-",
        "outputId": "936178c6-83b8-4a8a-f74f-7e42d20bd445"
      },
      "outputs": [
        {
          "output_type": "execute_result",
          "data": {
            "text/plain": [
              "Passed    193\n",
              "Failed     31\n",
              "Name: Final Status, dtype: int64"
            ]
          },
          "metadata": {},
          "execution_count": 802
        }
      ],
      "source": [
        "g=data['Final Status'].value_counts()\n",
        "g"
      ]
    },
    {
      "cell_type": "markdown",
      "source": [
        "Most of the students passed the exam, 31 students failed the exam, 10 students didnt attend the exam "
      ],
      "metadata": {
        "id": "LkI8ZrHSQqIX"
      }
    },
    {
      "cell_type": "code",
      "execution_count": 803,
      "metadata": {
        "colab": {
          "base_uri": "https://localhost:8080/",
          "height": 348
        },
        "id": "44EQTOzxOXC5",
        "outputId": "da8b4d96-7a69-47ff-fbb1-efeaa2f0f673"
      },
      "outputs": [
        {
          "output_type": "execute_result",
          "data": {
            "text/plain": [
              "Text(0.5, 1.0, 'Count of Final Status\\n')"
            ]
          },
          "metadata": {},
          "execution_count": 803
        },
        {
          "output_type": "display_data",
          "data": {
            "text/plain": [
              "<Figure size 432x288 with 1 Axes>"
            ],
            "image/png": "[encoded data removed]"
          },
          "metadata": {
            "needs_background": "light"
          }
        }
      ],
      "source": [
        "g.plot(kind=\"bar\", color=\"aquamarine\",width = 0.6, edgecolor = 'black')\n",
        "plt.title('Count of Final Status\\n', fontdict={'fontsize':18, 'fontweight':5, 'color':'darkgreen'})  "
      ]
    },
    {
      "cell_type": "code",
      "execution_count": 804,
      "metadata": {
        "colab": {
          "base_uri": "https://localhost:8080/"
        },
        "id": "qs_2sx6T-jhI",
        "outputId": "2d519d3b-583e-476e-c095-935c359dddbb"
      },
      "outputs": [
        {
          "output_type": "execute_result",
          "data": {
            "text/plain": [
              "B    110\n",
              "C     80\n",
              "A     34\n",
              "Name: Stage 1, dtype: int64"
            ]
          },
          "metadata": {},
          "execution_count": 804
        }
      ],
      "source": [
        "h=data['Stage 1'].value_counts()\n",
        "h"
      ]
    },
    {
      "cell_type": "code",
      "execution_count": 805,
      "metadata": {
        "colab": {
          "base_uri": "https://localhost:8080/",
          "height": 320
        },
        "id": "EkzGdu02-8Zr",
        "outputId": "5f5957ec-c405-41f0-b0b4-1452dc3fa858"
      },
      "outputs": [
        {
          "output_type": "execute_result",
          "data": {
            "text/plain": [
              "Text(0.5, 1.0, 'Count of Stage 1\\n')"
            ]
          },
          "metadata": {},
          "execution_count": 805
        },
        {
          "output_type": "display_data",
          "data": {
            "text/plain": [
              "<Figure size 432x288 with 1 Axes>"
            ],
            "image/png": "[encoded data removed]"
          },
          "metadata": {
            "needs_background": "light"
          }
        }
      ],
      "source": [
        "h.plot(kind=\"bar\", color=\"aquamarine\", width = 0.6, edgecolor = 'black')\n",
        "plt.title('Count of Stage 1\\n', fontdict={'fontsize':18, 'fontweight':5, 'color':'darkgreen'})  "
      ]
    },
    {
      "cell_type": "markdown",
      "source": [
        "In mock 1 most of the students scored B grade."
      ],
      "metadata": {
        "id": "xnfFdTU-R0vm"
      }
    },
    {
      "cell_type": "code",
      "execution_count": 806,
      "metadata": {
        "colab": {
          "base_uri": "https://localhost:8080/"
        },
        "id": "quMFSm9k-seZ",
        "outputId": "86a4f9ad-2988-4f64-b2a7-5cb243b9d3eb"
      },
      "outputs": [
        {
          "output_type": "execute_result",
          "data": {
            "text/plain": [
              "A    184\n",
              "C     31\n",
              "B      9\n",
              "Name: Stage 2, dtype: int64"
            ]
          },
          "metadata": {},
          "execution_count": 806
        }
      ],
      "source": [
        "i=data['Stage 2'].value_counts()\n",
        "i"
      ]
    },
    {
      "cell_type": "code",
      "execution_count": 807,
      "metadata": {
        "colab": {
          "base_uri": "https://localhost:8080/",
          "height": 320
        },
        "id": "3szISMPT_ABi",
        "outputId": "b8d4a1c8-5df4-457e-ec16-d77278e51c65"
      },
      "outputs": [
        {
          "output_type": "execute_result",
          "data": {
            "text/plain": [
              "Text(0.5, 1.0, 'Count of Stage 2\\n')"
            ]
          },
          "metadata": {},
          "execution_count": 807
        },
        {
          "output_type": "display_data",
          "data": {
            "text/plain": [
              "<Figure size 432x288 with 1 Axes>"
            ],
            "image/png": "[encoded data removed]"
          },
          "metadata": {
            "needs_background": "light"
          }
        }
      ],
      "source": [
        "i.plot(kind=\"bar\", color=\"aquamarine\", width = 0.6, edgecolor = 'black')\n",
        "plt.title('Count of Stage 2\\n', fontdict={'fontsize':18, 'fontweight':5, 'color':'darkgreen'})  "
      ]
    },
    {
      "cell_type": "markdown",
      "source": [
        "In mock 2 most of the students scored A grade"
      ],
      "metadata": {
        "id": "UkNAbU6uSBte"
      }
    },
    {
      "cell_type": "code",
      "execution_count": 808,
      "metadata": {
        "colab": {
          "base_uri": "https://localhost:8080/"
        },
        "id": "aAPWzBQ6-0-4",
        "outputId": "f15bf6b4-df7f-41be-ec93-8a69d65b27f5"
      },
      "outputs": [
        {
          "output_type": "execute_result",
          "data": {
            "text/plain": [
              "A    193\n",
              "B     31\n",
              "Name: Stage 3, dtype: int64"
            ]
          },
          "metadata": {},
          "execution_count": 808
        }
      ],
      "source": [
        "j=data['Stage 3'].value_counts()\n",
        "j"
      ]
    },
    {
      "cell_type": "code",
      "execution_count": 809,
      "metadata": {
        "colab": {
          "base_uri": "https://localhost:8080/",
          "height": 320
        },
        "id": "nxics304_CLv",
        "outputId": "bd7af106-f099-4e4b-c18b-e9b89d5a3286"
      },
      "outputs": [
        {
          "output_type": "execute_result",
          "data": {
            "text/plain": [
              "Text(0.5, 1.0, 'Count of Stage 3\\n')"
            ]
          },
          "metadata": {},
          "execution_count": 809
        },
        {
          "output_type": "display_data",
          "data": {
            "text/plain": [
              "<Figure size 432x288 with 1 Axes>"
            ],
            "image/png": "[encoded data removed]"
          },
          "metadata": {
            "needs_background": "light"
          }
        }
      ],
      "source": [
        "j.plot(kind=\"bar\", color=\"aquamarine\", width = 0.6, edgecolor = 'black')\n",
        "plt.title('Count of Stage 3\\n', fontdict={'fontsize':18, 'fontweight':5, 'color':'darkgreen'})  "
      ]
    },
    {
      "cell_type": "markdown",
      "source": [
        "In mock 3 most of the students scored A grade"
      ],
      "metadata": {
        "id": "QLIk8bMRSNRk"
      }
    },
    {
      "cell_type": "code",
      "execution_count": 810,
      "metadata": {
        "colab": {
          "base_uri": "https://localhost:8080/",
          "height": 300
        },
        "id": "dyn8xr9pV6Ei",
        "outputId": "50a98beb-a653-490b-8077-67245fb84408"
      },
      "outputs": [
        {
          "output_type": "execute_result",
          "data": {
            "text/plain": [
              "       Degree Mark (%)  Final Exam Mark      Time 1      Mark 1      Time 2  \\\n",
              "count       224.000000       224.000000  224.000000  224.000000  224.000000   \n",
              "mean         52.262694       806.312500   32.035850   74.166767   17.908374   \n",
              "std          29.394302       158.951922   34.520344   14.795535   17.265895   \n",
              "min           0.000000        36.000000    0.000000    0.560000    0.000000   \n",
              "25%          53.350000       756.000000    0.450000   67.000000    0.495000   \n",
              "50%          64.500000       850.000000    1.320000   75.000000   18.282788   \n",
              "75%          72.000000       910.750000   68.000000   85.000000   33.000000   \n",
              "max          88.640000      1000.000000  102.000000   98.000000   58.000000   \n",
              "\n",
              "           Mark 2      Time 3      Mark 3  \n",
              "count  224.000000  224.000000  224.000000  \n",
              "mean    80.708114    0.298028   82.120376  \n",
              "std     11.189144    0.040194    5.727743  \n",
              "min     18.000000    0.150000   34.000000  \n",
              "25%     75.000000    0.298214   81.964286  \n",
              "50%     80.573529    0.298214   81.964286  \n",
              "75%     88.000000    0.298214   81.964286  \n",
              "max     98.000000    0.460000  100.000000  "
            ],
            "text/html": [
              "\n",
              "  <div id=\"df-97caba84-8aeb-49b6-878a-9890c29dbbe2\">\n",
              "    <div class=\"colab-df-container\">\n",
              "      <div>\n",
              "<style scoped>\n",
              "    .dataframe tbody tr th:only-of-type {\n",
              "        vertical-align: middle;\n",
              "    }\n",
              "\n",
              "    .dataframe tbody tr th {\n",
              "        vertical-align: top;\n",
              "    }\n",
              "\n",
              "    .dataframe thead th {\n",
              "        text-align: right;\n",
              "    }\n",
              "</style>\n",
              "<table border=\"1\" class=\"dataframe\">\n",
              "  <thead>\n",
              "    <tr style=\"text-align: right;\">\n",
              "      <th></th>\n",
              "      <th>Degree Mark (%)</th>\n",
              "      <th>Final Exam Mark</th>\n",
              "      <th>Time 1</th>\n",
              "      <th>Mark 1</th>\n",
              "      <th>Time 2</th>\n",
              "      <th>Mark 2</th>\n",
              "      <th>Time 3</th>\n",
              "      <th>Mark 3</th>\n",
              "    </tr>\n",
              "  </thead>\n",
              "  <tbody>\n",
              "    <tr>\n",
              "      <th>count</th>\n",
              "      <td>224.000000</td>\n",
              "      <td>224.000000</td>\n",
              "      <td>224.000000</td>\n",
              "      <td>224.000000</td>\n",
              "      <td>224.000000</td>\n",
              "      <td>224.000000</td>\n",
              "      <td>224.000000</td>\n",
              "      <td>224.000000</td>\n",
              "    </tr>\n",
              "    <tr>\n",
              "      <th>mean</th>\n",
              "      <td>52.262694</td>\n",
              "      <td>806.312500</td>\n",
              "      <td>32.035850</td>\n",
              "      <td>74.166767</td>\n",
              "      <td>17.908374</td>\n",
              "      <td>80.708114</td>\n",
              "      <td>0.298028</td>\n",
              "      <td>82.120376</td>\n",
              "    </tr>\n",
              "    <tr>\n",
              "      <th>std</th>\n",
              "      <td>29.394302</td>\n",
              "      <td>158.951922</td>\n",
              "      <td>34.520344</td>\n",
              "      <td>14.795535</td>\n",
              "      <td>17.265895</td>\n",
              "      <td>11.189144</td>\n",
              "      <td>0.040194</td>\n",
              "      <td>5.727743</td>\n",
              "    </tr>\n",
              "    <tr>\n",
              "      <th>min</th>\n",
              "      <td>0.000000</td>\n",
              "      <td>36.000000</td>\n",
              "      <td>0.000000</td>\n",
              "      <td>0.560000</td>\n",
              "      <td>0.000000</td>\n",
              "      <td>18.000000</td>\n",
              "      <td>0.150000</td>\n",
              "      <td>34.000000</td>\n",
              "    </tr>\n",
              "    <tr>\n",
              "      <th>25%</th>\n",
              "      <td>53.350000</td>\n",
              "      <td>756.000000</td>\n",
              "      <td>0.450000</td>\n",
              "      <td>67.000000</td>\n",
              "      <td>0.495000</td>\n",
              "      <td>75.000000</td>\n",
              "      <td>0.298214</td>\n",
              "      <td>81.964286</td>\n",
              "    </tr>\n",
              "    <tr>\n",
              "      <th>50%</th>\n",
              "      <td>64.500000</td>\n",
              "      <td>850.000000</td>\n",
              "      <td>1.320000</td>\n",
              "      <td>75.000000</td>\n",
              "      <td>18.282788</td>\n",
              "      <td>80.573529</td>\n",
              "      <td>0.298214</td>\n",
              "      <td>81.964286</td>\n",
              "    </tr>\n",
              "    <tr>\n",
              "      <th>75%</th>\n",
              "      <td>72.000000</td>\n",
              "      <td>910.750000</td>\n",
              "      <td>68.000000</td>\n",
              "      <td>85.000000</td>\n",
              "      <td>33.000000</td>\n",
              "      <td>88.000000</td>\n",
              "      <td>0.298214</td>\n",
              "      <td>81.964286</td>\n",
              "    </tr>\n",
              "    <tr>\n",
              "      <th>max</th>\n",
              "      <td>88.640000</td>\n",
              "      <td>1000.000000</td>\n",
              "      <td>102.000000</td>\n",
              "      <td>98.000000</td>\n",
              "      <td>58.000000</td>\n",
              "      <td>98.000000</td>\n",
              "      <td>0.460000</td>\n",
              "      <td>100.000000</td>\n",
              "    </tr>\n",
              "  </tbody>\n",
              "</table>\n",
              "</div>\n",
              "      <button class=\"colab-df-convert\" onclick=\"convertToInteractive('df-97caba84-8aeb-49b6-878a-9890c29dbbe2')\"\n",
              "              title=\"Convert this dataframe to an interactive table.\"\n",
              "              style=\"display:none;\">\n",
              "        \n",
              "  <svg xmlns=\"http://www.w3.org/2000/svg\" height=\"24px\"viewBox=\"0 0 24 24\"\n",
              "       width=\"24px\">\n",
              "    <path d=\"M0 0h24v24H0V0z\" fill=\"none\"/>\n",
              "    <path d=\"M18.56 5.44l.94 2.06.94-2.06 2.06-.94-2.06-.94-.94-2.06-.94 2.06-2.06.94zm-11 1L8.5 8.5l.94-2.06 2.06-.94-2.06-.94L8.5 2.5l-.94 2.06-2.06.94zm10 10l.94 2.06.94-2.06 2.06-.94-2.06-.94-.94-2.06-.94 2.06-2.06.94z\"/><path d=\"M17.41 7.96l-1.37-1.37c-.4-.4-.92-.59-1.43-.59-.52 0-1.04.2-1.43.59L10.3 9.45l-7.72 7.72c-.78.78-.78 2.05 0 2.83L4 21.41c.39.39.9.59 1.41.59.51 0 1.02-.2 1.41-.59l7.78-7.78 2.81-2.81c.8-.78.8-2.07 0-2.86zM5.41 20L4 18.59l7.72-7.72 1.47 1.35L5.41 20z\"/>\n",
              "  </svg>\n",
              "      </button>\n",
              "      \n",
              "  <style>\n",
              "    .colab-df-container {\n",
              "      display:flex;\n",
              "      flex-wrap:wrap;\n",
              "      gap: 12px;\n",
              "    }\n",
              "\n",
              "    .colab-df-convert {\n",
              "      background-color: #E8F0FE;\n",
              "      border: none;\n",
              "      border-radius: 50%;\n",
              "      cursor: pointer;\n",
              "      display: none;\n",
              "      fill: #1967D2;\n",
              "      height: 32px;\n",
              "      padding: 0 0 0 0;\n",
              "      width: 32px;\n",
              "    }\n",
              "\n",
              "    .colab-df-convert:hover {\n",
              "      background-color: #E2EBFA;\n",
              "      box-shadow: 0px 1px 2px rgba(60, 64, 67, 0.3), 0px 1px 3px 1px rgba(60, 64, 67, 0.15);\n",
              "      fill: #174EA6;\n",
              "    }\n",
              "\n",
              "    [theme=dark] .colab-df-convert {\n",
              "      background-color: #3B4455;\n",
              "      fill: #D2E3FC;\n",
              "    }\n",
              "\n",
              "    [theme=dark] .colab-df-convert:hover {\n",
              "      background-color: #434B5C;\n",
              "      box-shadow: 0px 1px 3px 1px rgba(0, 0, 0, 0.15);\n",
              "      filter: drop-shadow(0px 1px 2px rgba(0, 0, 0, 0.3));\n",
              "      fill: #FFFFFF;\n",
              "    }\n",
              "  </style>\n",
              "\n",
              "      <script>\n",
              "        const buttonEl =\n",
              "          document.querySelector('#df-97caba84-8aeb-49b6-878a-9890c29dbbe2 button.colab-df-convert');\n",
              "        buttonEl.style.display =\n",
              "          google.colab.kernel.accessAllowed ? 'block' : 'none';\n",
              "\n",
              "        async function convertToInteractive(key) {\n",
              "          const element = document.querySelector('#df-97caba84-8aeb-49b6-878a-9890c29dbbe2');\n",
              "          const dataTable =\n",
              "            await google.colab.kernel.invokeFunction('convertToInteractive',\n",
              "                                                     [key], {});\n",
              "          if (!dataTable) return;\n",
              "\n",
              "          const docLinkHtml = 'Like what you see? Visit the ' +\n",
              "            '<a target=\"_blank\" href=https://colab.research.google.com/notebooks/data_table.ipynb>data table notebook</a>'\n",
              "            + ' to learn more about interactive tables.';\n",
              "          element.innerHTML = '';\n",
              "          dataTable['output_type'] = 'display_data';\n",
              "          await google.colab.output.renderOutput(dataTable, element);\n",
              "          const docLink = document.createElement('div');\n",
              "          docLink.innerHTML = docLinkHtml;\n",
              "          element.appendChild(docLink);\n",
              "        }\n",
              "      </script>\n",
              "    </div>\n",
              "  </div>\n",
              "  "
            ]
          },
          "metadata": {},
          "execution_count": 810
        }
      ],
      "source": [
        "data.describe()                    # easily descibes the data..in a single code"
      ]
    },
    {
      "cell_type": "markdown",
      "source": [
        "The average of final exam mark is 806 out of 1000\\\n",
        "The average time for mock 1 is 32 minutes\\\n",
        "average mark of mock 1 is 74 out of 100\\\n",
        "average time for mock 2 is 18 min\\\n",
        "average mark for mock 2 is 80 out of 100\\\n"
      ],
      "metadata": {
        "id": "wCRx9t20b6tf"
      }
    },
    {
      "cell_type": "code",
      "source": [
        ""
      ],
      "metadata": {
        "id": "AtKO0COOP8ia"
      },
      "execution_count": 810,
      "outputs": []
    },
    {
      "cell_type": "code",
      "execution_count": 811,
      "metadata": {
        "colab": {
          "base_uri": "https://localhost:8080/"
        },
        "id": "4yQKImxfuuGd",
        "outputId": "a10ad2b9-65cd-4011-a93d-5dfb07bd68ff"
      },
      "outputs": [
        {
          "output_type": "stream",
          "name": "stderr",
          "text": [
            "/usr/local/lib/python3.7/dist-packages/ipykernel_launcher.py:1: FutureWarning: Dropping of nuisance columns in DataFrame reductions (with 'numeric_only=None') is deprecated; in a future version this will raise TypeError.  Select only valid columns before calling the reduction.\n",
            "  \"\"\"Entry point for launching an IPython kernel.\n"
          ]
        },
        {
          "output_type": "execute_result",
          "data": {
            "text/plain": [
              "Degree Mark (%)     52.262694\n",
              "Final Exam Mark    806.312500\n",
              "Time 1              32.035850\n",
              "Mark 1              74.166767\n",
              "Time 2              17.908374\n",
              "Mark 2              80.708114\n",
              "Time 3               0.298028\n",
              "Mark 3              82.120376\n",
              "dtype: float64"
            ]
          },
          "metadata": {},
          "execution_count": 811
        }
      ],
      "source": [
        "data.mean()"
      ]
    },
    {
      "cell_type": "code",
      "execution_count": 812,
      "metadata": {
        "colab": {
          "base_uri": "https://localhost:8080/"
        },
        "id": "ZArFBdpluN7Q",
        "outputId": "ec028ea1-a7d4-4a89-8a60-9f12fae6cc29"
      },
      "outputs": [
        {
          "output_type": "stream",
          "name": "stderr",
          "text": [
            "/usr/local/lib/python3.7/dist-packages/ipykernel_launcher.py:1: FutureWarning: Dropping of nuisance columns in DataFrame reductions (with 'numeric_only=None') is deprecated; in a future version this will raise TypeError.  Select only valid columns before calling the reduction.\n",
            "  \"\"\"Entry point for launching an IPython kernel.\n"
          ]
        },
        {
          "output_type": "execute_result",
          "data": {
            "text/plain": [
              "Degree Mark (%)     29.394302\n",
              "Final Exam Mark    158.951922\n",
              "Time 1              34.520344\n",
              "Mark 1              14.795535\n",
              "Time 2              17.265895\n",
              "Mark 2              11.189144\n",
              "Time 3               0.040194\n",
              "Mark 3               5.727743\n",
              "dtype: float64"
            ]
          },
          "metadata": {},
          "execution_count": 812
        }
      ],
      "source": [
        "data.std()"
      ]
    },
    {
      "cell_type": "code",
      "execution_count": 813,
      "metadata": {
        "colab": {
          "base_uri": "https://localhost:8080/"
        },
        "id": "IaRX_Ke7vO8d",
        "outputId": "f6eaf312-2f50-4409-d8d5-988fe52544fb"
      },
      "outputs": [
        {
          "output_type": "stream",
          "name": "stderr",
          "text": [
            "/usr/local/lib/python3.7/dist-packages/ipykernel_launcher.py:1: FutureWarning: Dropping of nuisance columns in DataFrame reductions (with 'numeric_only=None') is deprecated; in a future version this will raise TypeError.  Select only valid columns before calling the reduction.\n",
            "  \"\"\"Entry point for launching an IPython kernel.\n"
          ]
        },
        {
          "output_type": "execute_result",
          "data": {
            "text/plain": [
              "Degree Mark (%)   -1.002541\n",
              "Final Exam Mark   -1.753878\n",
              "Time 1             0.331256\n",
              "Mark 1            -1.324806\n",
              "Time 2             0.315090\n",
              "Mark 2            -1.649791\n",
              "Time 3            -0.189783\n",
              "Mark 3            -2.799322\n",
              "dtype: float64"
            ]
          },
          "metadata": {},
          "execution_count": 813
        }
      ],
      "source": [
        "data.skew()"
      ]
    },
    {
      "cell_type": "code",
      "execution_count": 814,
      "metadata": {
        "colab": {
          "base_uri": "https://localhost:8080/"
        },
        "id": "9-dbfhPvvWtW",
        "outputId": "ee9e6ca4-df08-4484-eafe-f6abe515a990"
      },
      "outputs": [
        {
          "output_type": "stream",
          "name": "stderr",
          "text": [
            "/usr/local/lib/python3.7/dist-packages/ipykernel_launcher.py:1: FutureWarning: Dropping of nuisance columns in DataFrame reductions (with 'numeric_only=None') is deprecated; in a future version this will raise TypeError.  Select only valid columns before calling the reduction.\n",
            "  \"\"\"Entry point for launching an IPython kernel.\n"
          ]
        },
        {
          "output_type": "execute_result",
          "data": {
            "text/plain": [
              "Degree Mark (%)    -0.665096\n",
              "Final Exam Mark     3.844686\n",
              "Time 1             -1.649803\n",
              "Mark 1              3.116088\n",
              "Time 2             -1.348990\n",
              "Mark 2              5.688694\n",
              "Time 3              5.905198\n",
              "Mark 3             25.684146\n",
              "dtype: float64"
            ]
          },
          "metadata": {},
          "execution_count": 814
        }
      ],
      "source": [
        "data.kurtosis()"
      ]
    },
    {
      "cell_type": "code",
      "execution_count": 815,
      "metadata": {
        "colab": {
          "base_uri": "https://localhost:8080/",
          "height": 281
        },
        "id": "4NCloXYzveSf",
        "outputId": "8a8be4f7-09b6-4981-d525-177c0ccc1fb0"
      },
      "outputs": [
        {
          "output_type": "display_data",
          "data": {
            "text/plain": [
              "<Figure size 432x288 with 9 Axes>"
            ],
            "image/png": "[encoded data removed]"
          },
          "metadata": {
            "needs_background": "light"
          }
        }
      ],
      "source": [
        "#histogram\n",
        "data.hist()\n",
        "plt.show()"
      ]
    },
    {
      "cell_type": "code",
      "source": [
        "data.hist('Mark 1', color=\"lightgreen\", width = 9, edgecolor = 'black')\n",
        "plt.title('Mark 1\\n', fontdict={'fontsize':18, 'fontweight':5, 'color':'darkgreen'})  "
      ],
      "metadata": {
        "colab": {
          "base_uri": "https://localhost:8080/",
          "height": 323
        },
        "id": "cQ_NLKEyWjsu",
        "outputId": "c52d4ca8-9c38-4ea2-cfee-d8a5c07fb781"
      },
      "execution_count": 816,
      "outputs": [
        {
          "output_type": "execute_result",
          "data": {
            "text/plain": [
              "Text(0.5, 1.0, 'Mark 1\\n')"
            ]
          },
          "metadata": {},
          "execution_count": 816
        },
        {
          "output_type": "display_data",
          "data": {
            "text/plain": [
              "<Figure size 432x288 with 1 Axes>"
            ],
            "image/png": "[encoded data removed]"
          },
          "metadata": {
            "needs_background": "light"
          }
        }
      ]
    },
    {
      "cell_type": "markdown",
      "source": [
        "Mark 1 is Right Skewed, Most of the students scored marks above 60 "
      ],
      "metadata": {
        "id": "ljXKf-jfY-Nc"
      }
    },
    {
      "cell_type": "code",
      "source": [
        "data.hist('Mark 2', color=\"lightgreen\", width = 8, edgecolor = 'black')\n",
        "plt.title('Mark 2\\n', fontdict={'fontsize':18, 'fontweight':5, 'color':'darkgreen'}) "
      ],
      "metadata": {
        "colab": {
          "base_uri": "https://localhost:8080/",
          "height": 323
        },
        "id": "su5q1CntXLrI",
        "outputId": "a4d0637b-237a-4664-d1a1-aeb4070669f7"
      },
      "execution_count": 817,
      "outputs": [
        {
          "output_type": "execute_result",
          "data": {
            "text/plain": [
              "Text(0.5, 1.0, 'Mark 2\\n')"
            ]
          },
          "metadata": {},
          "execution_count": 817
        },
        {
          "output_type": "display_data",
          "data": {
            "text/plain": [
              "<Figure size 432x288 with 1 Axes>"
            ],
            "image/png": "[encoded data removed]"
          },
          "metadata": {
            "needs_background": "light"
          }
        }
      ]
    },
    {
      "cell_type": "markdown",
      "source": [
        "Mark 2 is Right skewed, most of the students scored marks above 60"
      ],
      "metadata": {
        "id": "fB2N0u_nZF4P"
      }
    },
    {
      "cell_type": "code",
      "source": [
        "data.hist('Mark 3', color=\"lightgreen\", width = 6, edgecolor = 'black')\n",
        "plt.title('Mark 3\\n', fontdict={'fontsize':18, 'fontweight':5, 'color':'darkgreen'}) "
      ],
      "metadata": {
        "colab": {
          "base_uri": "https://localhost:8080/",
          "height": 323
        },
        "id": "IEdVtfiUXPo0",
        "outputId": "4a252ede-a6a6-4e09-bd28-42786907b0f1"
      },
      "execution_count": 818,
      "outputs": [
        {
          "output_type": "execute_result",
          "data": {
            "text/plain": [
              "Text(0.5, 1.0, 'Mark 3\\n')"
            ]
          },
          "metadata": {},
          "execution_count": 818
        },
        {
          "output_type": "display_data",
          "data": {
            "text/plain": [
              "<Figure size 432x288 with 1 Axes>"
            ],
            "image/png": "[encoded data removed]"
          },
          "metadata": {
            "needs_background": "light"
          }
        }
      ]
    },
    {
      "cell_type": "code",
      "source": [
        "sns.kdeplot(data['Mark 3'])"
      ],
      "metadata": {
        "colab": {
          "base_uri": "https://localhost:8080/",
          "height": 296
        },
        "id": "RemBqwapEyfE",
        "outputId": "419d4ccc-686e-4bc6-a114-63e52afad921"
      },
      "execution_count": 819,
      "outputs": [
        {
          "output_type": "execute_result",
          "data": {
            "text/plain": [
              "<matplotlib.axes._subplots.AxesSubplot at 0x7f7848e86450>"
            ]
          },
          "metadata": {},
          "execution_count": 819
        },
        {
          "output_type": "display_data",
          "data": {
            "text/plain": [
              "<Figure size 432x288 with 1 Axes>"
            ],
            "image/png": "[encoded data removed]"
          },
          "metadata": {
            "needs_background": "light"
          }
        }
      ]
    },
    {
      "cell_type": "code",
      "source": [
        "from scipy.stats import shapiro\n",
        "Mark3_shapiro =shapiro(data['Mark 3'])\n",
        "Mark3_shapiro"
      ],
      "metadata": {
        "colab": {
          "base_uri": "https://localhost:8080/"
        },
        "id": "0kbLNs28FFJZ",
        "outputId": "75d6f5c9-9aca-4319-c288-203d32103688"
      },
      "execution_count": 820,
      "outputs": [
        {
          "output_type": "execute_result",
          "data": {
            "text/plain": [
              "(0.546521782875061, 9.233930073391316e-24)"
            ]
          },
          "metadata": {},
          "execution_count": 820
        }
      ]
    },
    {
      "cell_type": "code",
      "source": [
        "p_value=Mark3_shapiro[1]\n",
        "p_value"
      ],
      "metadata": {
        "colab": {
          "base_uri": "https://localhost:8080/"
        },
        "id": "Dxp_xiyAFyqY",
        "outputId": "78906913-a13d-4a12-cbc6-a6c5d9e354d0"
      },
      "execution_count": 821,
      "outputs": [
        {
          "output_type": "execute_result",
          "data": {
            "text/plain": [
              "9.233930073391316e-24"
            ]
          },
          "metadata": {},
          "execution_count": 821
        }
      ]
    },
    {
      "cell_type": "code",
      "source": [
        "alpha=0.05\n",
        "if p_value <= alpha:\n",
        "    print(\"Reject H0\")\n",
        "else:\n",
        "    print(\"Accept H0\")"
      ],
      "metadata": {
        "colab": {
          "base_uri": "https://localhost:8080/"
        },
        "id": "gjJW3YfCGQJH",
        "outputId": "51c2394f-4808-4669-dee4-07a11b5fb328"
      },
      "execution_count": 822,
      "outputs": [
        {
          "output_type": "stream",
          "name": "stdout",
          "text": [
            "Reject H0\n"
          ]
        }
      ]
    },
    {
      "cell_type": "markdown",
      "source": [
        "H0: Normally distributed\\\n",
        "H1: Not Normally distributed\n",
        "\n",
        "So here we can tell reject Ho means mark 3 is not normally distributed"
      ],
      "metadata": {
        "id": "_Z-EXZQkGimU"
      }
    },
    {
      "cell_type": "markdown",
      "source": [
        "Mark 3 is Right Skewed, Most of the students score marks between 80 - 90"
      ],
      "metadata": {
        "id": "QWkSLXMeZK2w"
      }
    },
    {
      "cell_type": "code",
      "execution_count": 823,
      "metadata": {
        "colab": {
          "base_uri": "https://localhost:8080/",
          "height": 300
        },
        "id": "camx-m5SVghk",
        "outputId": "312c6010-3e3d-44db-d97d-5777bb098029"
      },
      "outputs": [
        {
          "output_type": "execute_result",
          "data": {
            "text/plain": [
              "                 Degree Mark (%)  Final Exam Mark    Time 1    Mark 1  \\\n",
              "Degree Mark (%)         1.000000         0.104934  0.280970  0.030094   \n",
              "Final Exam Mark         0.104934         1.000000 -0.155558  0.359759   \n",
              "Time 1                  0.280970        -0.155558  1.000000 -0.086836   \n",
              "Mark 1                  0.030094         0.359759 -0.086836  1.000000   \n",
              "Time 2                  0.298584        -0.173520  0.827010 -0.039139   \n",
              "Mark 2                  0.104690         0.402524 -0.115086  0.411894   \n",
              "Time 3                 -0.069122        -0.183523  0.027384 -0.225893   \n",
              "Mark 3                  0.014335         0.187014 -0.042706  0.303584   \n",
              "\n",
              "                   Time 2    Mark 2    Time 3    Mark 3  \n",
              "Degree Mark (%)  0.298584  0.104690 -0.069122  0.014335  \n",
              "Final Exam Mark -0.173520  0.402524 -0.183523  0.187014  \n",
              "Time 1           0.827010 -0.115086  0.027384 -0.042706  \n",
              "Mark 1          -0.039139  0.411894 -0.225893  0.303584  \n",
              "Time 2           1.000000 -0.134011  0.124115 -0.150008  \n",
              "Mark 2          -0.134011  1.000000 -0.107378  0.121307  \n",
              "Time 3           0.124115 -0.107378  1.000000 -0.557198  \n",
              "Mark 3          -0.150008  0.121307 -0.557198  1.000000  "
            ],
            "text/html": [
              "\n",
              "  <div id=\"df-8465c3e0-a81e-4340-9225-82af4850371e\">\n",
              "    <div class=\"colab-df-container\">\n",
              "      <div>\n",
              "<style scoped>\n",
              "    .dataframe tbody tr th:only-of-type {\n",
              "        vertical-align: middle;\n",
              "    }\n",
              "\n",
              "    .dataframe tbody tr th {\n",
              "        vertical-align: top;\n",
              "    }\n",
              "\n",
              "    .dataframe thead th {\n",
              "        text-align: right;\n",
              "    }\n",
              "</style>\n",
              "<table border=\"1\" class=\"dataframe\">\n",
              "  <thead>\n",
              "    <tr style=\"text-align: right;\">\n",
              "      <th></th>\n",
              "      <th>Degree Mark (%)</th>\n",
              "      <th>Final Exam Mark</th>\n",
              "      <th>Time 1</th>\n",
              "      <th>Mark 1</th>\n",
              "      <th>Time 2</th>\n",
              "      <th>Mark 2</th>\n",
              "      <th>Time 3</th>\n",
              "      <th>Mark 3</th>\n",
              "    </tr>\n",
              "  </thead>\n",
              "  <tbody>\n",
              "    <tr>\n",
              "      <th>Degree Mark (%)</th>\n",
              "      <td>1.000000</td>\n",
              "      <td>0.104934</td>\n",
              "      <td>0.280970</td>\n",
              "      <td>0.030094</td>\n",
              "      <td>0.298584</td>\n",
              "      <td>0.104690</td>\n",
              "      <td>-0.069122</td>\n",
              "      <td>0.014335</td>\n",
              "    </tr>\n",
              "    <tr>\n",
              "      <th>Final Exam Mark</th>\n",
              "      <td>0.104934</td>\n",
              "      <td>1.000000</td>\n",
              "      <td>-0.155558</td>\n",
              "      <td>0.359759</td>\n",
              "      <td>-0.173520</td>\n",
              "      <td>0.402524</td>\n",
              "      <td>-0.183523</td>\n",
              "      <td>0.187014</td>\n",
              "    </tr>\n",
              "    <tr>\n",
              "      <th>Time 1</th>\n",
              "      <td>0.280970</td>\n",
              "      <td>-0.155558</td>\n",
              "      <td>1.000000</td>\n",
              "      <td>-0.086836</td>\n",
              "      <td>0.827010</td>\n",
              "      <td>-0.115086</td>\n",
              "      <td>0.027384</td>\n",
              "      <td>-0.042706</td>\n",
              "    </tr>\n",
              "    <tr>\n",
              "      <th>Mark 1</th>\n",
              "      <td>0.030094</td>\n",
              "      <td>0.359759</td>\n",
              "      <td>-0.086836</td>\n",
              "      <td>1.000000</td>\n",
              "      <td>-0.039139</td>\n",
              "      <td>0.411894</td>\n",
              "      <td>-0.225893</td>\n",
              "      <td>0.303584</td>\n",
              "    </tr>\n",
              "    <tr>\n",
              "      <th>Time 2</th>\n",
              "      <td>0.298584</td>\n",
              "      <td>-0.173520</td>\n",
              "      <td>0.827010</td>\n",
              "      <td>-0.039139</td>\n",
              "      <td>1.000000</td>\n",
              "      <td>-0.134011</td>\n",
              "      <td>0.124115</td>\n",
              "      <td>-0.150008</td>\n",
              "    </tr>\n",
              "    <tr>\n",
              "      <th>Mark 2</th>\n",
              "      <td>0.104690</td>\n",
              "      <td>0.402524</td>\n",
              "      <td>-0.115086</td>\n",
              "      <td>0.411894</td>\n",
              "      <td>-0.134011</td>\n",
              "      <td>1.000000</td>\n",
              "      <td>-0.107378</td>\n",
              "      <td>0.121307</td>\n",
              "    </tr>\n",
              "    <tr>\n",
              "      <th>Time 3</th>\n",
              "      <td>-0.069122</td>\n",
              "      <td>-0.183523</td>\n",
              "      <td>0.027384</td>\n",
              "      <td>-0.225893</td>\n",
              "      <td>0.124115</td>\n",
              "      <td>-0.107378</td>\n",
              "      <td>1.000000</td>\n",
              "      <td>-0.557198</td>\n",
              "    </tr>\n",
              "    <tr>\n",
              "      <th>Mark 3</th>\n",
              "      <td>0.014335</td>\n",
              "      <td>0.187014</td>\n",
              "      <td>-0.042706</td>\n",
              "      <td>0.303584</td>\n",
              "      <td>-0.150008</td>\n",
              "      <td>0.121307</td>\n",
              "      <td>-0.557198</td>\n",
              "      <td>1.000000</td>\n",
              "    </tr>\n",
              "  </tbody>\n",
              "</table>\n",
              "</div>\n",
              "      <button class=\"colab-df-convert\" onclick=\"convertToInteractive('df-8465c3e0-a81e-4340-9225-82af4850371e')\"\n",
              "              title=\"Convert this dataframe to an interactive table.\"\n",
              "              style=\"display:none;\">\n",
              "        \n",
              "  <svg xmlns=\"http://www.w3.org/2000/svg\" height=\"24px\"viewBox=\"0 0 24 24\"\n",
              "       width=\"24px\">\n",
              "    <path d=\"M0 0h24v24H0V0z\" fill=\"none\"/>\n",
              "    <path d=\"M18.56 5.44l.94 2.06.94-2.06 2.06-.94-2.06-.94-.94-2.06-.94 2.06-2.06.94zm-11 1L8.5 8.5l.94-2.06 2.06-.94-2.06-.94L8.5 2.5l-.94 2.06-2.06.94zm10 10l.94 2.06.94-2.06 2.06-.94-2.06-.94-.94-2.06-.94 2.06-2.06.94z\"/><path d=\"M17.41 7.96l-1.37-1.37c-.4-.4-.92-.59-1.43-.59-.52 0-1.04.2-1.43.59L10.3 9.45l-7.72 7.72c-.78.78-.78 2.05 0 2.83L4 21.41c.39.39.9.59 1.41.59.51 0 1.02-.2 1.41-.59l7.78-7.78 2.81-2.81c.8-.78.8-2.07 0-2.86zM5.41 20L4 18.59l7.72-7.72 1.47 1.35L5.41 20z\"/>\n",
              "  </svg>\n",
              "      </button>\n",
              "      \n",
              "  <style>\n",
              "    .colab-df-container {\n",
              "      display:flex;\n",
              "      flex-wrap:wrap;\n",
              "      gap: 12px;\n",
              "    }\n",
              "\n",
              "    .colab-df-convert {\n",
              "      background-color: #E8F0FE;\n",
              "      border: none;\n",
              "      border-radius: 50%;\n",
              "      cursor: pointer;\n",
              "      display: none;\n",
              "      fill: #1967D2;\n",
              "      height: 32px;\n",
              "      padding: 0 0 0 0;\n",
              "      width: 32px;\n",
              "    }\n",
              "\n",
              "    .colab-df-convert:hover {\n",
              "      background-color: #E2EBFA;\n",
              "      box-shadow: 0px 1px 2px rgba(60, 64, 67, 0.3), 0px 1px 3px 1px rgba(60, 64, 67, 0.15);\n",
              "      fill: #174EA6;\n",
              "    }\n",
              "\n",
              "    [theme=dark] .colab-df-convert {\n",
              "      background-color: #3B4455;\n",
              "      fill: #D2E3FC;\n",
              "    }\n",
              "\n",
              "    [theme=dark] .colab-df-convert:hover {\n",
              "      background-color: #434B5C;\n",
              "      box-shadow: 0px 1px 3px 1px rgba(0, 0, 0, 0.15);\n",
              "      filter: drop-shadow(0px 1px 2px rgba(0, 0, 0, 0.3));\n",
              "      fill: #FFFFFF;\n",
              "    }\n",
              "  </style>\n",
              "\n",
              "      <script>\n",
              "        const buttonEl =\n",
              "          document.querySelector('#df-8465c3e0-a81e-4340-9225-82af4850371e button.colab-df-convert');\n",
              "        buttonEl.style.display =\n",
              "          google.colab.kernel.accessAllowed ? 'block' : 'none';\n",
              "\n",
              "        async function convertToInteractive(key) {\n",
              "          const element = document.querySelector('#df-8465c3e0-a81e-4340-9225-82af4850371e');\n",
              "          const dataTable =\n",
              "            await google.colab.kernel.invokeFunction('convertToInteractive',\n",
              "                                                     [key], {});\n",
              "          if (!dataTable) return;\n",
              "\n",
              "          const docLinkHtml = 'Like what you see? Visit the ' +\n",
              "            '<a target=\"_blank\" href=https://colab.research.google.com/notebooks/data_table.ipynb>data table notebook</a>'\n",
              "            + ' to learn more about interactive tables.';\n",
              "          element.innerHTML = '';\n",
              "          dataTable['output_type'] = 'display_data';\n",
              "          await google.colab.output.renderOutput(dataTable, element);\n",
              "          const docLink = document.createElement('div');\n",
              "          docLink.innerHTML = docLinkHtml;\n",
              "          element.appendChild(docLink);\n",
              "        }\n",
              "      </script>\n",
              "    </div>\n",
              "  </div>\n",
              "  "
            ]
          },
          "metadata": {},
          "execution_count": 823
        }
      ],
      "source": [
        "data.corr()              # to find correlation between two variables...from here data relationship can be checked\n",
        "                         #if value close to -1 negative correlated\n",
        "                         #if value close to o no correlation\n",
        "                         #if value close to 1 positive correlation"
      ]
    },
    {
      "cell_type": "code",
      "execution_count": 824,
      "metadata": {
        "colab": {
          "base_uri": "https://localhost:8080/",
          "height": 613
        },
        "id": "i7TcsQaKtC-Y",
        "outputId": "95a59b46-ac03-4e6d-9f62-cae18c54a8a4"
      },
      "outputs": [
        {
          "output_type": "execute_result",
          "data": {
            "text/plain": [
              "<matplotlib.axes._subplots.AxesSubplot at 0x7f7848e4dcd0>"
            ]
          },
          "metadata": {},
          "execution_count": 824
        },
        {
          "output_type": "display_data",
          "data": {
            "text/plain": [
              "<Figure size 1080x720 with 2 Axes>"
            ],
            "image/png": "[encoded data removed]"
          },
          "metadata": {
            "needs_background": "light"
          }
        }
      ],
      "source": [
        " # heatmap clearly expalins the relationship of variables\n",
        "plt.figure(figsize=(15,10))\n",
        "cor = data.corr()\n",
        "sns.heatmap(cor,annot=True, cmap='cividis')                "
      ]
    },
    {
      "cell_type": "markdown",
      "metadata": {
        "id": "-SuomkirwhaR"
      },
      "source": [
        "### **Hypothesis**"
      ]
    },
    {
      "cell_type": "code",
      "execution_count": 825,
      "metadata": {
        "id": "ixD5ns_MF5Xn"
      },
      "outputs": [],
      "source": [
        "import  scipy.stats as stats\n",
        "from scipy.stats import chi2"
      ]
    },
    {
      "cell_type": "markdown",
      "source": [
        "###Analysis with Final Stage"
      ],
      "metadata": {
        "id": "1I6VUm-ua6Ce"
      }
    },
    {
      "cell_type": "code",
      "source": [
        "data.columns"
      ],
      "metadata": {
        "colab": {
          "base_uri": "https://localhost:8080/"
        },
        "id": "nmGCd-iga-lX",
        "outputId": "a4391cf2-a5b9-4b76-b144-800dcc1b3fc5"
      },
      "execution_count": 826,
      "outputs": [
        {
          "output_type": "execute_result",
          "data": {
            "text/plain": [
              "Index(['Timestamp', 'Batch', 'First Name', 'Gender', 'Degree',\n",
              "       'Degree Mark (%)', 'Do you have computer (Laptop)',\n",
              "       'Have you learned Excel before this training', 'District',\n",
              "       'Final Exam Mark', 'Final Status', 'Time 1', 'Mark 1', 'Time 2',\n",
              "       'Mark 2', 'Time 3', 'Mark 3', 'Stage 1', 'Stage 2', 'Stage 3'],\n",
              "      dtype='object')"
            ]
          },
          "metadata": {},
          "execution_count": 826
        }
      ]
    },
    {
      "cell_type": "markdown",
      "source": [
        "To test is there any significant relationship between Gender and Final status\n",
        "\n",
        "Ho: There is No significant relationship between Gender and Final status\n",
        " \n",
        "H1: There is Significant Relationship between Gender and Final status\n",
        "\n"
      ],
      "metadata": {
        "id": "4SlzDq1hWXGo"
      }
    },
    {
      "cell_type": "code",
      "execution_count": 827,
      "metadata": {
        "colab": {
          "base_uri": "https://localhost:8080/",
          "height": 143
        },
        "id": "M_2uTyjbUvwn",
        "outputId": "d3c5d740-7b9d-4b8c-c74c-69e0583aec22"
      },
      "outputs": [
        {
          "output_type": "execute_result",
          "data": {
            "text/plain": [
              "Final Status  Failed  Passed\n",
              "Gender                      \n",
              "Female            20     114\n",
              "Male              11      79"
            ],
            "text/html": [
              "\n",
              "  <div id=\"df-4457044f-ad16-4696-a9c0-6aa00a59f68d\">\n",
              "    <div class=\"colab-df-container\">\n",
              "      <div>\n",
              "<style scoped>\n",
              "    .dataframe tbody tr th:only-of-type {\n",
              "        vertical-align: middle;\n",
              "    }\n",
              "\n",
              "    .dataframe tbody tr th {\n",
              "        vertical-align: top;\n",
              "    }\n",
              "\n",
              "    .dataframe thead th {\n",
              "        text-align: right;\n",
              "    }\n",
              "</style>\n",
              "<table border=\"1\" class=\"dataframe\">\n",
              "  <thead>\n",
              "    <tr style=\"text-align: right;\">\n",
              "      <th>Final Status</th>\n",
              "      <th>Failed</th>\n",
              "      <th>Passed</th>\n",
              "    </tr>\n",
              "    <tr>\n",
              "      <th>Gender</th>\n",
              "      <th></th>\n",
              "      <th></th>\n",
              "    </tr>\n",
              "  </thead>\n",
              "  <tbody>\n",
              "    <tr>\n",
              "      <th>Female</th>\n",
              "      <td>20</td>\n",
              "      <td>114</td>\n",
              "    </tr>\n",
              "    <tr>\n",
              "      <th>Male</th>\n",
              "      <td>11</td>\n",
              "      <td>79</td>\n",
              "    </tr>\n",
              "  </tbody>\n",
              "</table>\n",
              "</div>\n",
              "      <button class=\"colab-df-convert\" onclick=\"convertToInteractive('df-4457044f-ad16-4696-a9c0-6aa00a59f68d')\"\n",
              "              title=\"Convert this dataframe to an interactive table.\"\n",
              "              style=\"display:none;\">\n",
              "        \n",
              "  <svg xmlns=\"http://www.w3.org/2000/svg\" height=\"24px\"viewBox=\"0 0 24 24\"\n",
              "       width=\"24px\">\n",
              "    <path d=\"M0 0h24v24H0V0z\" fill=\"none\"/>\n",
              "    <path d=\"M18.56 5.44l.94 2.06.94-2.06 2.06-.94-2.06-.94-.94-2.06-.94 2.06-2.06.94zm-11 1L8.5 8.5l.94-2.06 2.06-.94-2.06-.94L8.5 2.5l-.94 2.06-2.06.94zm10 10l.94 2.06.94-2.06 2.06-.94-2.06-.94-.94-2.06-.94 2.06-2.06.94z\"/><path d=\"M17.41 7.96l-1.37-1.37c-.4-.4-.92-.59-1.43-.59-.52 0-1.04.2-1.43.59L10.3 9.45l-7.72 7.72c-.78.78-.78 2.05 0 2.83L4 21.41c.39.39.9.59 1.41.59.51 0 1.02-.2 1.41-.59l7.78-7.78 2.81-2.81c.8-.78.8-2.07 0-2.86zM5.41 20L4 18.59l7.72-7.72 1.47 1.35L5.41 20z\"/>\n",
              "  </svg>\n",
              "      </button>\n",
              "      \n",
              "  <style>\n",
              "    .colab-df-container {\n",
              "      display:flex;\n",
              "      flex-wrap:wrap;\n",
              "      gap: 12px;\n",
              "    }\n",
              "\n",
              "    .colab-df-convert {\n",
              "      background-color: #E8F0FE;\n",
              "      border: none;\n",
              "      border-radius: 50%;\n",
              "      cursor: pointer;\n",
              "      display: none;\n",
              "      fill: #1967D2;\n",
              "      height: 32px;\n",
              "      padding: 0 0 0 0;\n",
              "      width: 32px;\n",
              "    }\n",
              "\n",
              "    .colab-df-convert:hover {\n",
              "      background-color: #E2EBFA;\n",
              "      box-shadow: 0px 1px 2px rgba(60, 64, 67, 0.3), 0px 1px 3px 1px rgba(60, 64, 67, 0.15);\n",
              "      fill: #174EA6;\n",
              "    }\n",
              "\n",
              "    [theme=dark] .colab-df-convert {\n",
              "      background-color: #3B4455;\n",
              "      fill: #D2E3FC;\n",
              "    }\n",
              "\n",
              "    [theme=dark] .colab-df-convert:hover {\n",
              "      background-color: #434B5C;\n",
              "      box-shadow: 0px 1px 3px 1px rgba(0, 0, 0, 0.15);\n",
              "      filter: drop-shadow(0px 1px 2px rgba(0, 0, 0, 0.3));\n",
              "      fill: #FFFFFF;\n",
              "    }\n",
              "  </style>\n",
              "\n",
              "      <script>\n",
              "        const buttonEl =\n",
              "          document.querySelector('#df-4457044f-ad16-4696-a9c0-6aa00a59f68d button.colab-df-convert');\n",
              "        buttonEl.style.display =\n",
              "          google.colab.kernel.accessAllowed ? 'block' : 'none';\n",
              "\n",
              "        async function convertToInteractive(key) {\n",
              "          const element = document.querySelector('#df-4457044f-ad16-4696-a9c0-6aa00a59f68d');\n",
              "          const dataTable =\n",
              "            await google.colab.kernel.invokeFunction('convertToInteractive',\n",
              "                                                     [key], {});\n",
              "          if (!dataTable) return;\n",
              "\n",
              "          const docLinkHtml = 'Like what you see? Visit the ' +\n",
              "            '<a target=\"_blank\" href=https://colab.research.google.com/notebooks/data_table.ipynb>data table notebook</a>'\n",
              "            + ' to learn more about interactive tables.';\n",
              "          element.innerHTML = '';\n",
              "          dataTable['output_type'] = 'display_data';\n",
              "          await google.colab.output.renderOutput(dataTable, element);\n",
              "          const docLink = document.createElement('div');\n",
              "          docLink.innerHTML = docLinkHtml;\n",
              "          element.appendChild(docLink);\n",
              "        }\n",
              "      </script>\n",
              "    </div>\n",
              "  </div>\n",
              "  "
            ]
          },
          "metadata": {},
          "execution_count": 827
        }
      ],
      "source": [
        "ctab1=pd.crosstab(data['Gender'],data['Final Status']) \n",
        "ctab1"
      ]
    },
    {
      "cell_type": "code",
      "source": [
        "ctab1.plot(kind='bar', cmap ='cividis')\n",
        "plt.title('Gender vs Final stage\\n', fontdict= {'fontsize':20, 'fontweight':5, 'color':'darkblue'})"
      ],
      "metadata": {
        "colab": {
          "base_uri": "https://localhost:8080/",
          "height": 365
        },
        "id": "d4IghedJaJd0",
        "outputId": "83416709-1fe6-4cab-cb09-80b0d3c01fa9"
      },
      "execution_count": 828,
      "outputs": [
        {
          "output_type": "execute_result",
          "data": {
            "text/plain": [
              "Text(0.5, 1.0, 'Gender vs Final stage\\n')"
            ]
          },
          "metadata": {},
          "execution_count": 828
        },
        {
          "output_type": "display_data",
          "data": {
            "text/plain": [
              "<Figure size 432x288 with 1 Axes>"
            ],
            "image/png": "[encoded data removed]"
          },
          "metadata": {
            "needs_background": "light"
          }
        }
      ]
    },
    {
      "cell_type": "code",
      "execution_count": 829,
      "metadata": {
        "colab": {
          "base_uri": "https://localhost:8080/"
        },
        "id": "WZUR31WuUv1I",
        "outputId": "b1c03f9d-dab9-4602-cc48-336df4b7b363"
      },
      "outputs": [
        {
          "output_type": "execute_result",
          "data": {
            "text/plain": [
              "(0.1421704226097766, 0.706132781706641, 1, array([[ 18.54464286, 115.45535714],\n",
              "        [ 12.45535714,  77.54464286]]))"
            ]
          },
          "metadata": {},
          "execution_count": 829
        }
      ],
      "source": [
        "alpha=0.05\n",
        "values=stats.chi2_contingency(ctab1)\n",
        "values"
      ]
    },
    {
      "cell_type": "code",
      "execution_count": 830,
      "metadata": {
        "colab": {
          "base_uri": "https://localhost:8080/"
        },
        "id": "MHDWl6HIUv5n",
        "outputId": "0e5cefc4-a6d8-4c7e-c263-8726fabf3bfd"
      },
      "outputs": [
        {
          "output_type": "execute_result",
          "data": {
            "text/plain": [
              "0.706132781706641"
            ]
          },
          "metadata": {},
          "execution_count": 830
        }
      ],
      "source": [
        "p_value1=values[1]\n",
        "p_value1"
      ]
    },
    {
      "cell_type": "code",
      "execution_count": 831,
      "metadata": {
        "colab": {
          "base_uri": "https://localhost:8080/"
        },
        "id": "ynVo6BcZUv9l",
        "outputId": "7558f38d-c9a8-40a0-d3c7-0837d818a504"
      },
      "outputs": [
        {
          "output_type": "stream",
          "name": "stdout",
          "text": [
            "Accept H0\n"
          ]
        }
      ],
      "source": [
        "if p_value1 <= alpha:\n",
        "   print(\"Reject H0\")\n",
        "else:\n",
        "  print(\"Accept H0\")"
      ]
    },
    {
      "cell_type": "markdown",
      "source": [
        "Accept H0\n",
        "Implies, There is No significant relationship between Gender and Final status\n"
      ],
      "metadata": {
        "id": "Ov2qHfM5WaKF"
      }
    },
    {
      "cell_type": "markdown",
      "source": [
        "To test is there any significant relationship between Excel Knowledge and Final Status\n",
        "\n",
        "Ho: There is No significant relationship between Excel Knowledge and Final Status\n",
        " \n",
        "H1: There is Significant Relationship between Excel Knowledge and Final Status\n",
        "\n"
      ],
      "metadata": {
        "id": "MOYPXzFbWfT6"
      }
    },
    {
      "cell_type": "code",
      "source": [
        "ctab2=pd.crosstab(data['Have you learned Excel before this training'],data['Final Status']) \n",
        "ctab2"
      ],
      "metadata": {
        "colab": {
          "base_uri": "https://localhost:8080/",
          "height": 143
        },
        "id": "obF6K4SqcU9z",
        "outputId": "0fd9641f-518d-4e6f-90a0-0477306c0765"
      },
      "execution_count": 832,
      "outputs": [
        {
          "output_type": "execute_result",
          "data": {
            "text/plain": [
              "Final Status                                 Failed  Passed\n",
              "Have you learned Excel before this training                \n",
              "No                                               27     151\n",
              "Yes                                               4      42"
            ],
            "text/html": [
              "\n",
              "  <div id=\"df-2d06cacb-d3d6-43d2-9341-08ae82bc628b\">\n",
              "    <div class=\"colab-df-container\">\n",
              "      <div>\n",
              "<style scoped>\n",
              "    .dataframe tbody tr th:only-of-type {\n",
              "        vertical-align: middle;\n",
              "    }\n",
              "\n",
              "    .dataframe tbody tr th {\n",
              "        vertical-align: top;\n",
              "    }\n",
              "\n",
              "    .dataframe thead th {\n",
              "        text-align: right;\n",
              "    }\n",
              "</style>\n",
              "<table border=\"1\" class=\"dataframe\">\n",
              "  <thead>\n",
              "    <tr style=\"text-align: right;\">\n",
              "      <th>Final Status</th>\n",
              "      <th>Failed</th>\n",
              "      <th>Passed</th>\n",
              "    </tr>\n",
              "    <tr>\n",
              "      <th>Have you learned Excel before this training</th>\n",
              "      <th></th>\n",
              "      <th></th>\n",
              "    </tr>\n",
              "  </thead>\n",
              "  <tbody>\n",
              "    <tr>\n",
              "      <th>No</th>\n",
              "      <td>27</td>\n",
              "      <td>151</td>\n",
              "    </tr>\n",
              "    <tr>\n",
              "      <th>Yes</th>\n",
              "      <td>4</td>\n",
              "      <td>42</td>\n",
              "    </tr>\n",
              "  </tbody>\n",
              "</table>\n",
              "</div>\n",
              "      <button class=\"colab-df-convert\" onclick=\"convertToInteractive('df-2d06cacb-d3d6-43d2-9341-08ae82bc628b')\"\n",
              "              title=\"Convert this dataframe to an interactive table.\"\n",
              "              style=\"display:none;\">\n",
              "        \n",
              "  <svg xmlns=\"http://www.w3.org/2000/svg\" height=\"24px\"viewBox=\"0 0 24 24\"\n",
              "       width=\"24px\">\n",
              "    <path d=\"M0 0h24v24H0V0z\" fill=\"none\"/>\n",
              "    <path d=\"M18.56 5.44l.94 2.06.94-2.06 2.06-.94-2.06-.94-.94-2.06-.94 2.06-2.06.94zm-11 1L8.5 8.5l.94-2.06 2.06-.94-2.06-.94L8.5 2.5l-.94 2.06-2.06.94zm10 10l.94 2.06.94-2.06 2.06-.94-2.06-.94-.94-2.06-.94 2.06-2.06.94z\"/><path d=\"M17.41 7.96l-1.37-1.37c-.4-.4-.92-.59-1.43-.59-.52 0-1.04.2-1.43.59L10.3 9.45l-7.72 7.72c-.78.78-.78 2.05 0 2.83L4 21.41c.39.39.9.59 1.41.59.51 0 1.02-.2 1.41-.59l7.78-7.78 2.81-2.81c.8-.78.8-2.07 0-2.86zM5.41 20L4 18.59l7.72-7.72 1.47 1.35L5.41 20z\"/>\n",
              "  </svg>\n",
              "      </button>\n",
              "      \n",
              "  <style>\n",
              "    .colab-df-container {\n",
              "      display:flex;\n",
              "      flex-wrap:wrap;\n",
              "      gap: 12px;\n",
              "    }\n",
              "\n",
              "    .colab-df-convert {\n",
              "      background-color: #E8F0FE;\n",
              "      border: none;\n",
              "      border-radius: 50%;\n",
              "      cursor: pointer;\n",
              "      display: none;\n",
              "      fill: #1967D2;\n",
              "      height: 32px;\n",
              "      padding: 0 0 0 0;\n",
              "      width: 32px;\n",
              "    }\n",
              "\n",
              "    .colab-df-convert:hover {\n",
              "      background-color: #E2EBFA;\n",
              "      box-shadow: 0px 1px 2px rgba(60, 64, 67, 0.3), 0px 1px 3px 1px rgba(60, 64, 67, 0.15);\n",
              "      fill: #174EA6;\n",
              "    }\n",
              "\n",
              "    [theme=dark] .colab-df-convert {\n",
              "      background-color: #3B4455;\n",
              "      fill: #D2E3FC;\n",
              "    }\n",
              "\n",
              "    [theme=dark] .colab-df-convert:hover {\n",
              "      background-color: #434B5C;\n",
              "      box-shadow: 0px 1px 3px 1px rgba(0, 0, 0, 0.15);\n",
              "      filter: drop-shadow(0px 1px 2px rgba(0, 0, 0, 0.3));\n",
              "      fill: #FFFFFF;\n",
              "    }\n",
              "  </style>\n",
              "\n",
              "      <script>\n",
              "        const buttonEl =\n",
              "          document.querySelector('#df-2d06cacb-d3d6-43d2-9341-08ae82bc628b button.colab-df-convert');\n",
              "        buttonEl.style.display =\n",
              "          google.colab.kernel.accessAllowed ? 'block' : 'none';\n",
              "\n",
              "        async function convertToInteractive(key) {\n",
              "          const element = document.querySelector('#df-2d06cacb-d3d6-43d2-9341-08ae82bc628b');\n",
              "          const dataTable =\n",
              "            await google.colab.kernel.invokeFunction('convertToInteractive',\n",
              "                                                     [key], {});\n",
              "          if (!dataTable) return;\n",
              "\n",
              "          const docLinkHtml = 'Like what you see? Visit the ' +\n",
              "            '<a target=\"_blank\" href=https://colab.research.google.com/notebooks/data_table.ipynb>data table notebook</a>'\n",
              "            + ' to learn more about interactive tables.';\n",
              "          element.innerHTML = '';\n",
              "          dataTable['output_type'] = 'display_data';\n",
              "          await google.colab.output.renderOutput(dataTable, element);\n",
              "          const docLink = document.createElement('div');\n",
              "          docLink.innerHTML = docLinkHtml;\n",
              "          element.appendChild(docLink);\n",
              "        }\n",
              "      </script>\n",
              "    </div>\n",
              "  </div>\n",
              "  "
            ]
          },
          "metadata": {},
          "execution_count": 832
        }
      ]
    },
    {
      "cell_type": "code",
      "source": [
        "ctab2.plot(kind='bar', cmap ='cividis')\n",
        "plt.title('Excel Knowledge vs Final status\\n', fontdict= {'fontsize':20, 'fontweight':5, 'color':'darkblue'})"
      ],
      "metadata": {
        "colab": {
          "base_uri": "https://localhost:8080/",
          "height": 345
        },
        "id": "9Dpdc_Lidnjj",
        "outputId": "f328d078-d3c8-41c0-c846-3db0afb24d1e"
      },
      "execution_count": 833,
      "outputs": [
        {
          "output_type": "execute_result",
          "data": {
            "text/plain": [
              "Text(0.5, 1.0, 'Excel Knowledge vs Final status\\n')"
            ]
          },
          "metadata": {},
          "execution_count": 833
        },
        {
          "output_type": "display_data",
          "data": {
            "text/plain": [
              "<Figure size 432x288 with 1 Axes>"
            ],
            "image/png": "[encoded data removed]"
          },
          "metadata": {
            "needs_background": "light"
          }
        }
      ]
    },
    {
      "cell_type": "code",
      "execution_count": 834,
      "metadata": {
        "colab": {
          "base_uri": "https://localhost:8080/"
        },
        "id": "-9bn-D4bVZzN",
        "outputId": "498843de-1e0c-442a-e87d-e71679fbade8"
      },
      "outputs": [
        {
          "output_type": "execute_result",
          "data": {
            "text/plain": [
              "(0.7989208309719092,\n",
              " 0.3714162192885321,\n",
              " 1,\n",
              " array([[ 24.63392857, 153.36607143],\n",
              "        [  6.36607143,  39.63392857]]))"
            ]
          },
          "metadata": {},
          "execution_count": 834
        }
      ],
      "source": [
        "alpha=0.05\n",
        "values=stats.chi2_contingency(ctab2)\n",
        "values"
      ]
    },
    {
      "cell_type": "code",
      "execution_count": 835,
      "metadata": {
        "colab": {
          "base_uri": "https://localhost:8080/"
        },
        "id": "qhpXIrOFVZ3a",
        "outputId": "f61235dd-15b7-42fa-d3e2-89700dd393d9"
      },
      "outputs": [
        {
          "output_type": "execute_result",
          "data": {
            "text/plain": [
              "0.3714162192885321"
            ]
          },
          "metadata": {},
          "execution_count": 835
        }
      ],
      "source": [
        "p_value2=values[1]\n",
        "p_value2"
      ]
    },
    {
      "cell_type": "code",
      "execution_count": 836,
      "metadata": {
        "colab": {
          "base_uri": "https://localhost:8080/"
        },
        "id": "PJN8J0vkVZ8i",
        "outputId": "549e6f08-b2d2-44bf-e514-6c07da328616"
      },
      "outputs": [
        {
          "output_type": "stream",
          "name": "stdout",
          "text": [
            "Accept H0\n"
          ]
        }
      ],
      "source": [
        "if p_value2 <= alpha:\n",
        "   print(\"Reject H0\")\n",
        "else:\n",
        "  print(\"Accept H0\")"
      ]
    },
    {
      "cell_type": "markdown",
      "source": [
        "To test is there any significant relationship between laptop Access and Final status\n",
        "\n",
        "Ho: There is No significant relationship between laptop Access and Final status\n",
        "\n",
        " \n",
        "H1: There is Significant Relationship between laptop Access and Final status\n",
        "\n"
      ],
      "metadata": {
        "id": "jY8T5SmYW4pV"
      }
    },
    {
      "cell_type": "code",
      "source": [
        "ctab3=pd.crosstab(data['Do you have computer (Laptop)'],data['Final Status']) \n",
        "ctab3"
      ],
      "metadata": {
        "colab": {
          "base_uri": "https://localhost:8080/",
          "height": 143
        },
        "id": "cQ-aMPvuc4IF",
        "outputId": "4da01124-7d79-4ef4-c8d4-4441d6b92253"
      },
      "execution_count": 837,
      "outputs": [
        {
          "output_type": "execute_result",
          "data": {
            "text/plain": [
              "Final Status                   Failed  Passed\n",
              "Do you have computer (Laptop)                \n",
              "No                                 13      45\n",
              "Yes                                18     148"
            ],
            "text/html": [
              "\n",
              "  <div id=\"df-291d5ee0-14fb-45d6-87a4-68ae18477ee5\">\n",
              "    <div class=\"colab-df-container\">\n",
              "      <div>\n",
              "<style scoped>\n",
              "    .dataframe tbody tr th:only-of-type {\n",
              "        vertical-align: middle;\n",
              "    }\n",
              "\n",
              "    .dataframe tbody tr th {\n",
              "        vertical-align: top;\n",
              "    }\n",
              "\n",
              "    .dataframe thead th {\n",
              "        text-align: right;\n",
              "    }\n",
              "</style>\n",
              "<table border=\"1\" class=\"dataframe\">\n",
              "  <thead>\n",
              "    <tr style=\"text-align: right;\">\n",
              "      <th>Final Status</th>\n",
              "      <th>Failed</th>\n",
              "      <th>Passed</th>\n",
              "    </tr>\n",
              "    <tr>\n",
              "      <th>Do you have computer (Laptop)</th>\n",
              "      <th></th>\n",
              "      <th></th>\n",
              "    </tr>\n",
              "  </thead>\n",
              "  <tbody>\n",
              "    <tr>\n",
              "      <th>No</th>\n",
              "      <td>13</td>\n",
              "      <td>45</td>\n",
              "    </tr>\n",
              "    <tr>\n",
              "      <th>Yes</th>\n",
              "      <td>18</td>\n",
              "      <td>148</td>\n",
              "    </tr>\n",
              "  </tbody>\n",
              "</table>\n",
              "</div>\n",
              "      <button class=\"colab-df-convert\" onclick=\"convertToInteractive('df-291d5ee0-14fb-45d6-87a4-68ae18477ee5')\"\n",
              "              title=\"Convert this dataframe to an interactive table.\"\n",
              "              style=\"display:none;\">\n",
              "        \n",
              "  <svg xmlns=\"http://www.w3.org/2000/svg\" height=\"24px\"viewBox=\"0 0 24 24\"\n",
              "       width=\"24px\">\n",
              "    <path d=\"M0 0h24v24H0V0z\" fill=\"none\"/>\n",
              "    <path d=\"M18.56 5.44l.94 2.06.94-2.06 2.06-.94-2.06-.94-.94-2.06-.94 2.06-2.06.94zm-11 1L8.5 8.5l.94-2.06 2.06-.94-2.06-.94L8.5 2.5l-.94 2.06-2.06.94zm10 10l.94 2.06.94-2.06 2.06-.94-2.06-.94-.94-2.06-.94 2.06-2.06.94z\"/><path d=\"M17.41 7.96l-1.37-1.37c-.4-.4-.92-.59-1.43-.59-.52 0-1.04.2-1.43.59L10.3 9.45l-7.72 7.72c-.78.78-.78 2.05 0 2.83L4 21.41c.39.39.9.59 1.41.59.51 0 1.02-.2 1.41-.59l7.78-7.78 2.81-2.81c.8-.78.8-2.07 0-2.86zM5.41 20L4 18.59l7.72-7.72 1.47 1.35L5.41 20z\"/>\n",
              "  </svg>\n",
              "      </button>\n",
              "      \n",
              "  <style>\n",
              "    .colab-df-container {\n",
              "      display:flex;\n",
              "      flex-wrap:wrap;\n",
              "      gap: 12px;\n",
              "    }\n",
              "\n",
              "    .colab-df-convert {\n",
              "      background-color: #E8F0FE;\n",
              "      border: none;\n",
              "      border-radius: 50%;\n",
              "      cursor: pointer;\n",
              "      display: none;\n",
              "      fill: #1967D2;\n",
              "      height: 32px;\n",
              "      padding: 0 0 0 0;\n",
              "      width: 32px;\n",
              "    }\n",
              "\n",
              "    .colab-df-convert:hover {\n",
              "      background-color: #E2EBFA;\n",
              "      box-shadow: 0px 1px 2px rgba(60, 64, 67, 0.3), 0px 1px 3px 1px rgba(60, 64, 67, 0.15);\n",
              "      fill: #174EA6;\n",
              "    }\n",
              "\n",
              "    [theme=dark] .colab-df-convert {\n",
              "      background-color: #3B4455;\n",
              "      fill: #D2E3FC;\n",
              "    }\n",
              "\n",
              "    [theme=dark] .colab-df-convert:hover {\n",
              "      background-color: #434B5C;\n",
              "      box-shadow: 0px 1px 3px 1px rgba(0, 0, 0, 0.15);\n",
              "      filter: drop-shadow(0px 1px 2px rgba(0, 0, 0, 0.3));\n",
              "      fill: #FFFFFF;\n",
              "    }\n",
              "  </style>\n",
              "\n",
              "      <script>\n",
              "        const buttonEl =\n",
              "          document.querySelector('#df-291d5ee0-14fb-45d6-87a4-68ae18477ee5 button.colab-df-convert');\n",
              "        buttonEl.style.display =\n",
              "          google.colab.kernel.accessAllowed ? 'block' : 'none';\n",
              "\n",
              "        async function convertToInteractive(key) {\n",
              "          const element = document.querySelector('#df-291d5ee0-14fb-45d6-87a4-68ae18477ee5');\n",
              "          const dataTable =\n",
              "            await google.colab.kernel.invokeFunction('convertToInteractive',\n",
              "                                                     [key], {});\n",
              "          if (!dataTable) return;\n",
              "\n",
              "          const docLinkHtml = 'Like what you see? Visit the ' +\n",
              "            '<a target=\"_blank\" href=https://colab.research.google.com/notebooks/data_table.ipynb>data table notebook</a>'\n",
              "            + ' to learn more about interactive tables.';\n",
              "          element.innerHTML = '';\n",
              "          dataTable['output_type'] = 'display_data';\n",
              "          await google.colab.output.renderOutput(dataTable, element);\n",
              "          const docLink = document.createElement('div');\n",
              "          docLink.innerHTML = docLinkHtml;\n",
              "          element.appendChild(docLink);\n",
              "        }\n",
              "      </script>\n",
              "    </div>\n",
              "  </div>\n",
              "  "
            ]
          },
          "metadata": {},
          "execution_count": 837
        }
      ]
    },
    {
      "cell_type": "code",
      "source": [
        "ctab3.plot(kind='bar', cmap ='cividis')\n",
        "plt.title('Laptop Access vs Final status\\n', fontdict= {'fontsize':20, 'fontweight':5, 'color':'darkblue'})"
      ],
      "metadata": {
        "colab": {
          "base_uri": "https://localhost:8080/",
          "height": 345
        },
        "id": "1f5y-S6UdsNM",
        "outputId": "9f8774f1-0430-4122-8348-130560380908"
      },
      "execution_count": 838,
      "outputs": [
        {
          "output_type": "execute_result",
          "data": {
            "text/plain": [
              "Text(0.5, 1.0, 'Laptop Access vs Final status\\n')"
            ]
          },
          "metadata": {},
          "execution_count": 838
        },
        {
          "output_type": "display_data",
          "data": {
            "text/plain": [
              "<Figure size 432x288 with 1 Axes>"
            ],
            "image/png": "[encoded data removed]"
          },
          "metadata": {
            "needs_background": "light"
          }
        }
      ]
    },
    {
      "cell_type": "code",
      "execution_count": 839,
      "metadata": {
        "colab": {
          "base_uri": "https://localhost:8080/"
        },
        "id": "uAyA1RsZmjcx",
        "outputId": "6e098cda-9635-44c2-a38d-fe793bfb874a"
      },
      "outputs": [
        {
          "output_type": "execute_result",
          "data": {
            "text/plain": [
              "(3.904166916358571,\n",
              " 0.04816650248006738,\n",
              " 1,\n",
              " array([[  8.02678571,  49.97321429],\n",
              "        [ 22.97321429, 143.02678571]]))"
            ]
          },
          "metadata": {},
          "execution_count": 839
        }
      ],
      "source": [
        "alpha=0.05\n",
        "values=stats.chi2_contingency(ctab3)\n",
        "values"
      ]
    },
    {
      "cell_type": "code",
      "execution_count": 840,
      "metadata": {
        "colab": {
          "base_uri": "https://localhost:8080/"
        },
        "id": "dQXbv3trmjhI",
        "outputId": "45826d5b-f182-4dd9-f292-fbaf48260235"
      },
      "outputs": [
        {
          "output_type": "execute_result",
          "data": {
            "text/plain": [
              "0.04816650248006738"
            ]
          },
          "metadata": {},
          "execution_count": 840
        }
      ],
      "source": [
        "p_value3=values[1]\n",
        "p_value3"
      ]
    },
    {
      "cell_type": "code",
      "execution_count": 841,
      "metadata": {
        "colab": {
          "base_uri": "https://localhost:8080/"
        },
        "id": "7FQLd9xLmjlr",
        "outputId": "6392aae2-be31-46b3-edde-edd368988621"
      },
      "outputs": [
        {
          "output_type": "stream",
          "name": "stdout",
          "text": [
            "Reject H0\n"
          ]
        }
      ],
      "source": [
        "if p_value3 <= alpha:\n",
        "   print(\"Reject H0\")\n",
        "else:\n",
        "  print(\"Accept H0\")"
      ]
    },
    {
      "cell_type": "markdown",
      "metadata": {
        "id": "fkHWAZ8ZXqqG"
      },
      "source": [
        "**To test is there any significant relationship between Have you learned Excel before this training and Do you have any Laptop**\n",
        "\n",
        "Ho: There is No significant relationship between Have you learned Excel before this training and Do you have any Laptop\n",
        "\n",
        "H1: There is Significant Relationship between Have you learned Excel before this training and Do you have any laptop"
      ]
    },
    {
      "cell_type": "code",
      "execution_count": 842,
      "metadata": {
        "colab": {
          "base_uri": "https://localhost:8080/",
          "height": 143
        },
        "id": "jzERcdxAvrKO",
        "outputId": "6fd5357b-7fca-4ca2-fad3-4477c18fea8d"
      },
      "outputs": [
        {
          "output_type": "execute_result",
          "data": {
            "text/plain": [
              "Do you have computer (Laptop)                No  Yes\n",
              "Have you learned Excel before this training         \n",
              "No                                           52  126\n",
              "Yes                                           6   40"
            ],
            "text/html": [
              "\n",
              "  <div id=\"df-dc55eaa5-6f1d-472d-9966-8a5c95512bec\">\n",
              "    <div class=\"colab-df-container\">\n",
              "      <div>\n",
              "<style scoped>\n",
              "    .dataframe tbody tr th:only-of-type {\n",
              "        vertical-align: middle;\n",
              "    }\n",
              "\n",
              "    .dataframe tbody tr th {\n",
              "        vertical-align: top;\n",
              "    }\n",
              "\n",
              "    .dataframe thead th {\n",
              "        text-align: right;\n",
              "    }\n",
              "</style>\n",
              "<table border=\"1\" class=\"dataframe\">\n",
              "  <thead>\n",
              "    <tr style=\"text-align: right;\">\n",
              "      <th>Do you have computer (Laptop)</th>\n",
              "      <th>No</th>\n",
              "      <th>Yes</th>\n",
              "    </tr>\n",
              "    <tr>\n",
              "      <th>Have you learned Excel before this training</th>\n",
              "      <th></th>\n",
              "      <th></th>\n",
              "    </tr>\n",
              "  </thead>\n",
              "  <tbody>\n",
              "    <tr>\n",
              "      <th>No</th>\n",
              "      <td>52</td>\n",
              "      <td>126</td>\n",
              "    </tr>\n",
              "    <tr>\n",
              "      <th>Yes</th>\n",
              "      <td>6</td>\n",
              "      <td>40</td>\n",
              "    </tr>\n",
              "  </tbody>\n",
              "</table>\n",
              "</div>\n",
              "      <button class=\"colab-df-convert\" onclick=\"convertToInteractive('df-dc55eaa5-6f1d-472d-9966-8a5c95512bec')\"\n",
              "              title=\"Convert this dataframe to an interactive table.\"\n",
              "              style=\"display:none;\">\n",
              "        \n",
              "  <svg xmlns=\"http://www.w3.org/2000/svg\" height=\"24px\"viewBox=\"0 0 24 24\"\n",
              "       width=\"24px\">\n",
              "    <path d=\"M0 0h24v24H0V0z\" fill=\"none\"/>\n",
              "    <path d=\"M18.56 5.44l.94 2.06.94-2.06 2.06-.94-2.06-.94-.94-2.06-.94 2.06-2.06.94zm-11 1L8.5 8.5l.94-2.06 2.06-.94-2.06-.94L8.5 2.5l-.94 2.06-2.06.94zm10 10l.94 2.06.94-2.06 2.06-.94-2.06-.94-.94-2.06-.94 2.06-2.06.94z\"/><path d=\"M17.41 7.96l-1.37-1.37c-.4-.4-.92-.59-1.43-.59-.52 0-1.04.2-1.43.59L10.3 9.45l-7.72 7.72c-.78.78-.78 2.05 0 2.83L4 21.41c.39.39.9.59 1.41.59.51 0 1.02-.2 1.41-.59l7.78-7.78 2.81-2.81c.8-.78.8-2.07 0-2.86zM5.41 20L4 18.59l7.72-7.72 1.47 1.35L5.41 20z\"/>\n",
              "  </svg>\n",
              "      </button>\n",
              "      \n",
              "  <style>\n",
              "    .colab-df-container {\n",
              "      display:flex;\n",
              "      flex-wrap:wrap;\n",
              "      gap: 12px;\n",
              "    }\n",
              "\n",
              "    .colab-df-convert {\n",
              "      background-color: #E8F0FE;\n",
              "      border: none;\n",
              "      border-radius: 50%;\n",
              "      cursor: pointer;\n",
              "      display: none;\n",
              "      fill: #1967D2;\n",
              "      height: 32px;\n",
              "      padding: 0 0 0 0;\n",
              "      width: 32px;\n",
              "    }\n",
              "\n",
              "    .colab-df-convert:hover {\n",
              "      background-color: #E2EBFA;\n",
              "      box-shadow: 0px 1px 2px rgba(60, 64, 67, 0.3), 0px 1px 3px 1px rgba(60, 64, 67, 0.15);\n",
              "      fill: #174EA6;\n",
              "    }\n",
              "\n",
              "    [theme=dark] .colab-df-convert {\n",
              "      background-color: #3B4455;\n",
              "      fill: #D2E3FC;\n",
              "    }\n",
              "\n",
              "    [theme=dark] .colab-df-convert:hover {\n",
              "      background-color: #434B5C;\n",
              "      box-shadow: 0px 1px 3px 1px rgba(0, 0, 0, 0.15);\n",
              "      filter: drop-shadow(0px 1px 2px rgba(0, 0, 0, 0.3));\n",
              "      fill: #FFFFFF;\n",
              "    }\n",
              "  </style>\n",
              "\n",
              "      <script>\n",
              "        const buttonEl =\n",
              "          document.querySelector('#df-dc55eaa5-6f1d-472d-9966-8a5c95512bec button.colab-df-convert');\n",
              "        buttonEl.style.display =\n",
              "          google.colab.kernel.accessAllowed ? 'block' : 'none';\n",
              "\n",
              "        async function convertToInteractive(key) {\n",
              "          const element = document.querySelector('#df-dc55eaa5-6f1d-472d-9966-8a5c95512bec');\n",
              "          const dataTable =\n",
              "            await google.colab.kernel.invokeFunction('convertToInteractive',\n",
              "                                                     [key], {});\n",
              "          if (!dataTable) return;\n",
              "\n",
              "          const docLinkHtml = 'Like what you see? Visit the ' +\n",
              "            '<a target=\"_blank\" href=https://colab.research.google.com/notebooks/data_table.ipynb>data table notebook</a>'\n",
              "            + ' to learn more about interactive tables.';\n",
              "          element.innerHTML = '';\n",
              "          dataTable['output_type'] = 'display_data';\n",
              "          await google.colab.output.renderOutput(dataTable, element);\n",
              "          const docLink = document.createElement('div');\n",
              "          docLink.innerHTML = docLinkHtml;\n",
              "          element.appendChild(docLink);\n",
              "        }\n",
              "      </script>\n",
              "    </div>\n",
              "  </div>\n",
              "  "
            ]
          },
          "metadata": {},
          "execution_count": 842
        }
      ],
      "source": [
        "ctab4=pd.crosstab(data['Have you learned Excel before this training'],data['Do you have computer (Laptop)']) \n",
        "ctab4"
      ]
    },
    {
      "cell_type": "code",
      "source": [
        "ctab4.plot(kind='bar', cmap ='cividis')\n",
        "plt.title('Excel Knowledge vs Laptop Access\\n', fontdict= {'fontsize':20, 'fontweight':5, 'color':'darkblue'})"
      ],
      "metadata": {
        "colab": {
          "base_uri": "https://localhost:8080/",
          "height": 345
        },
        "id": "VVRzAJ1Qdvt1",
        "outputId": "6819ec13-8593-435e-d400-7915f321741d"
      },
      "execution_count": 843,
      "outputs": [
        {
          "output_type": "execute_result",
          "data": {
            "text/plain": [
              "Text(0.5, 1.0, 'Excel Knowledge vs Laptop Access\\n')"
            ]
          },
          "metadata": {},
          "execution_count": 843
        },
        {
          "output_type": "display_data",
          "data": {
            "text/plain": [
              "<Figure size 432x288 with 1 Axes>"
            ],
            "image/png": "[encoded data removed]"
          },
          "metadata": {
            "needs_background": "light"
          }
        }
      ]
    },
    {
      "cell_type": "code",
      "execution_count": 844,
      "metadata": {
        "colab": {
          "base_uri": "https://localhost:8080/"
        },
        "id": "Jj4Abuq4vtnF",
        "outputId": "14d87bbb-f2e0-4fe0-e305-e53239928650"
      },
      "outputs": [
        {
          "output_type": "execute_result",
          "data": {
            "text/plain": [
              "(4.1738740755519075,\n",
              " 0.04105183061526216,\n",
              " 1,\n",
              " array([[ 46.08928571, 131.91071429],\n",
              "        [ 11.91071429,  34.08928571]]))"
            ]
          },
          "metadata": {},
          "execution_count": 844
        }
      ],
      "source": [
        "alpha=0.05\n",
        "values=stats.chi2_contingency(ctab4)\n",
        "values"
      ]
    },
    {
      "cell_type": "code",
      "execution_count": 845,
      "metadata": {
        "colab": {
          "base_uri": "https://localhost:8080/"
        },
        "id": "awVTwxkNvwz1",
        "outputId": "eec80c61-50f9-4fce-ddce-62f4398a0108"
      },
      "outputs": [
        {
          "output_type": "execute_result",
          "data": {
            "text/plain": [
              "0.04105183061526216"
            ]
          },
          "metadata": {},
          "execution_count": 845
        }
      ],
      "source": [
        "p_value4=values[1]\n",
        "p_value4"
      ]
    },
    {
      "cell_type": "code",
      "execution_count": 846,
      "metadata": {
        "colab": {
          "base_uri": "https://localhost:8080/"
        },
        "id": "cRYPmnvuvw4W",
        "outputId": "0731d214-6d4c-4d0e-db4d-55d34679456b"
      },
      "outputs": [
        {
          "output_type": "stream",
          "name": "stdout",
          "text": [
            "Reject H0\n"
          ]
        }
      ],
      "source": [
        "if p_value4 <= alpha:\n",
        "   print(\"Reject H0\")\n",
        "else:\n",
        "  print(\"Accept H0\")"
      ]
    },
    {
      "cell_type": "markdown",
      "metadata": {
        "id": "RmmvFTOulqjZ"
      },
      "source": [
        "p value > 0.05 so Accept Ho ,  There is No significant relationship between Have you learned Excel before this training and Do you have any Laptop\n"
      ]
    },
    {
      "cell_type": "markdown",
      "metadata": {
        "id": "VZ-_GbS8YTAP"
      },
      "source": [
        "**To test is there any significant relationship between Gender and Have you learned Excel Before**\n",
        "\n",
        "Ho: There is No significant relationship between gender and Have you learned Excel Before\n",
        "\n",
        "H1: There is Significant Relationship between Gender and Have you learned Excel Before"
      ]
    },
    {
      "cell_type": "code",
      "execution_count": 847,
      "metadata": {
        "colab": {
          "base_uri": "https://localhost:8080/",
          "height": 143
        },
        "id": "LsDJXl9al_YJ",
        "outputId": "b6615e2f-c094-4053-8222-518866ac4137"
      },
      "outputs": [
        {
          "output_type": "execute_result",
          "data": {
            "text/plain": [
              "Have you learned Excel before this training   No  Yes\n",
              "Gender                                               \n",
              "Female                                       111   23\n",
              "Male                                          67   23"
            ],
            "text/html": [
              "\n",
              "  <div id=\"df-c2a70447-f5aa-4409-a001-f3c7b8885ce9\">\n",
              "    <div class=\"colab-df-container\">\n",
              "      <div>\n",
              "<style scoped>\n",
              "    .dataframe tbody tr th:only-of-type {\n",
              "        vertical-align: middle;\n",
              "    }\n",
              "\n",
              "    .dataframe tbody tr th {\n",
              "        vertical-align: top;\n",
              "    }\n",
              "\n",
              "    .dataframe thead th {\n",
              "        text-align: right;\n",
              "    }\n",
              "</style>\n",
              "<table border=\"1\" class=\"dataframe\">\n",
              "  <thead>\n",
              "    <tr style=\"text-align: right;\">\n",
              "      <th>Have you learned Excel before this training</th>\n",
              "      <th>No</th>\n",
              "      <th>Yes</th>\n",
              "    </tr>\n",
              "    <tr>\n",
              "      <th>Gender</th>\n",
              "      <th></th>\n",
              "      <th></th>\n",
              "    </tr>\n",
              "  </thead>\n",
              "  <tbody>\n",
              "    <tr>\n",
              "      <th>Female</th>\n",
              "      <td>111</td>\n",
              "      <td>23</td>\n",
              "    </tr>\n",
              "    <tr>\n",
              "      <th>Male</th>\n",
              "      <td>67</td>\n",
              "      <td>23</td>\n",
              "    </tr>\n",
              "  </tbody>\n",
              "</table>\n",
              "</div>\n",
              "      <button class=\"colab-df-convert\" onclick=\"convertToInteractive('df-c2a70447-f5aa-4409-a001-f3c7b8885ce9')\"\n",
              "              title=\"Convert this dataframe to an interactive table.\"\n",
              "              style=\"display:none;\">\n",
              "        \n",
              "  <svg xmlns=\"http://www.w3.org/2000/svg\" height=\"24px\"viewBox=\"0 0 24 24\"\n",
              "       width=\"24px\">\n",
              "    <path d=\"M0 0h24v24H0V0z\" fill=\"none\"/>\n",
              "    <path d=\"M18.56 5.44l.94 2.06.94-2.06 2.06-.94-2.06-.94-.94-2.06-.94 2.06-2.06.94zm-11 1L8.5 8.5l.94-2.06 2.06-.94-2.06-.94L8.5 2.5l-.94 2.06-2.06.94zm10 10l.94 2.06.94-2.06 2.06-.94-2.06-.94-.94-2.06-.94 2.06-2.06.94z\"/><path d=\"M17.41 7.96l-1.37-1.37c-.4-.4-.92-.59-1.43-.59-.52 0-1.04.2-1.43.59L10.3 9.45l-7.72 7.72c-.78.78-.78 2.05 0 2.83L4 21.41c.39.39.9.59 1.41.59.51 0 1.02-.2 1.41-.59l7.78-7.78 2.81-2.81c.8-.78.8-2.07 0-2.86zM5.41 20L4 18.59l7.72-7.72 1.47 1.35L5.41 20z\"/>\n",
              "  </svg>\n",
              "      </button>\n",
              "      \n",
              "  <style>\n",
              "    .colab-df-container {\n",
              "      display:flex;\n",
              "      flex-wrap:wrap;\n",
              "      gap: 12px;\n",
              "    }\n",
              "\n",
              "    .colab-df-convert {\n",
              "      background-color: #E8F0FE;\n",
              "      border: none;\n",
              "      border-radius: 50%;\n",
              "      cursor: pointer;\n",
              "      display: none;\n",
              "      fill: #1967D2;\n",
              "      height: 32px;\n",
              "      padding: 0 0 0 0;\n",
              "      width: 32px;\n",
              "    }\n",
              "\n",
              "    .colab-df-convert:hover {\n",
              "      background-color: #E2EBFA;\n",
              "      box-shadow: 0px 1px 2px rgba(60, 64, 67, 0.3), 0px 1px 3px 1px rgba(60, 64, 67, 0.15);\n",
              "      fill: #174EA6;\n",
              "    }\n",
              "\n",
              "    [theme=dark] .colab-df-convert {\n",
              "      background-color: #3B4455;\n",
              "      fill: #D2E3FC;\n",
              "    }\n",
              "\n",
              "    [theme=dark] .colab-df-convert:hover {\n",
              "      background-color: #434B5C;\n",
              "      box-shadow: 0px 1px 3px 1px rgba(0, 0, 0, 0.15);\n",
              "      filter: drop-shadow(0px 1px 2px rgba(0, 0, 0, 0.3));\n",
              "      fill: #FFFFFF;\n",
              "    }\n",
              "  </style>\n",
              "\n",
              "      <script>\n",
              "        const buttonEl =\n",
              "          document.querySelector('#df-c2a70447-f5aa-4409-a001-f3c7b8885ce9 button.colab-df-convert');\n",
              "        buttonEl.style.display =\n",
              "          google.colab.kernel.accessAllowed ? 'block' : 'none';\n",
              "\n",
              "        async function convertToInteractive(key) {\n",
              "          const element = document.querySelector('#df-c2a70447-f5aa-4409-a001-f3c7b8885ce9');\n",
              "          const dataTable =\n",
              "            await google.colab.kernel.invokeFunction('convertToInteractive',\n",
              "                                                     [key], {});\n",
              "          if (!dataTable) return;\n",
              "\n",
              "          const docLinkHtml = 'Like what you see? Visit the ' +\n",
              "            '<a target=\"_blank\" href=https://colab.research.google.com/notebooks/data_table.ipynb>data table notebook</a>'\n",
              "            + ' to learn more about interactive tables.';\n",
              "          element.innerHTML = '';\n",
              "          dataTable['output_type'] = 'display_data';\n",
              "          await google.colab.output.renderOutput(dataTable, element);\n",
              "          const docLink = document.createElement('div');\n",
              "          docLink.innerHTML = docLinkHtml;\n",
              "          element.appendChild(docLink);\n",
              "        }\n",
              "      </script>\n",
              "    </div>\n",
              "  </div>\n",
              "  "
            ]
          },
          "metadata": {},
          "execution_count": 847
        }
      ],
      "source": [
        "ctab5=pd.crosstab(data['Gender'],data['Have you learned Excel before this training']) \n",
        "ctab5"
      ]
    },
    {
      "cell_type": "code",
      "source": [
        "ctab5.plot(kind='bar', cmap ='cividis')\n",
        "plt.title('Gender vs Excel Knowledge\\n', fontdict= {'fontsize':20, 'fontweight':5, 'color':'darkblue'})"
      ],
      "metadata": {
        "colab": {
          "base_uri": "https://localhost:8080/",
          "height": 365
        },
        "id": "Spv8bK6weGzU",
        "outputId": "d60234d9-15cf-4ee1-9025-c5870e3dd84e"
      },
      "execution_count": 848,
      "outputs": [
        {
          "output_type": "execute_result",
          "data": {
            "text/plain": [
              "Text(0.5, 1.0, 'Gender vs Excel Knowledge\\n')"
            ]
          },
          "metadata": {},
          "execution_count": 848
        },
        {
          "output_type": "display_data",
          "data": {
            "text/plain": [
              "<Figure size 432x288 with 1 Axes>"
            ],
            "image/png": "[encoded data removed]"
          },
          "metadata": {
            "needs_background": "light"
          }
        }
      ]
    },
    {
      "cell_type": "code",
      "execution_count": 849,
      "metadata": {
        "colab": {
          "base_uri": "https://localhost:8080/"
        },
        "id": "I8ovFiw_44EJ",
        "outputId": "028ab5eb-c4b9-4398-fa0c-a73764b16b56"
      },
      "outputs": [
        {
          "output_type": "execute_result",
          "data": {
            "text/plain": [
              "(1.837417698998898,\n",
              " 0.17525391052006892,\n",
              " 1,\n",
              " array([[106.48214286,  27.51785714],\n",
              "        [ 71.51785714,  18.48214286]]))"
            ]
          },
          "metadata": {},
          "execution_count": 849
        }
      ],
      "source": [
        "alpha=0.05\n",
        "values=stats.chi2_contingency(ctab5)\n",
        "values"
      ]
    },
    {
      "cell_type": "code",
      "execution_count": 850,
      "metadata": {
        "colab": {
          "base_uri": "https://localhost:8080/"
        },
        "id": "ylKGHKis44H4",
        "outputId": "3cb6f71c-af7f-4fe5-a00b-45aa1233a0a0"
      },
      "outputs": [
        {
          "output_type": "execute_result",
          "data": {
            "text/plain": [
              "0.17525391052006892"
            ]
          },
          "metadata": {},
          "execution_count": 850
        }
      ],
      "source": [
        "p_value5=values[1]\n",
        "p_value5"
      ]
    },
    {
      "cell_type": "code",
      "execution_count": 851,
      "metadata": {
        "colab": {
          "base_uri": "https://localhost:8080/"
        },
        "id": "V4OAg32E4-Sw",
        "outputId": "686c8aa4-e0c6-4118-c0ed-030ac97a7ec9"
      },
      "outputs": [
        {
          "output_type": "stream",
          "name": "stdout",
          "text": [
            "Accept H0\n"
          ]
        }
      ],
      "source": [
        "if p_value5 <= alpha:\n",
        "   print(\"Reject H0\")\n",
        "else:\n",
        "  print(\"Accept H0\")\n"
      ]
    },
    {
      "cell_type": "markdown",
      "metadata": {
        "id": "FHAcm7bqZAcu"
      },
      "source": [
        "we Accept Ho, So there is no significant relationship between Gender and Have you learned excel before"
      ]
    },
    {
      "cell_type": "markdown",
      "source": [
        "### Analysis with mock 1"
      ],
      "metadata": {
        "id": "qi5cdP3CeRld"
      }
    },
    {
      "cell_type": "code",
      "source": [
        "data.columns"
      ],
      "metadata": {
        "colab": {
          "base_uri": "https://localhost:8080/"
        },
        "id": "T4_2bwKUeZ8x",
        "outputId": "f22ea459-ea44-4049-878f-9bee3f52ef14"
      },
      "execution_count": 852,
      "outputs": [
        {
          "output_type": "execute_result",
          "data": {
            "text/plain": [
              "Index(['Timestamp', 'Batch', 'First Name', 'Gender', 'Degree',\n",
              "       'Degree Mark (%)', 'Do you have computer (Laptop)',\n",
              "       'Have you learned Excel before this training', 'District',\n",
              "       'Final Exam Mark', 'Final Status', 'Time 1', 'Mark 1', 'Time 2',\n",
              "       'Mark 2', 'Time 3', 'Mark 3', 'Stage 1', 'Stage 2', 'Stage 3'],\n",
              "      dtype='object')"
            ]
          },
          "metadata": {},
          "execution_count": 852
        }
      ]
    },
    {
      "cell_type": "markdown",
      "metadata": {
        "id": "vkcR-wEIZI_m"
      },
      "source": [
        "**To test is there any significant relationship between Gender and Mock 1 Status**\n",
        "\n",
        "Ho: There is No significant relationship between gender and Mock 1 Status \n",
        "\n",
        "H1: There is Significant Relationship between Gender and Mock 1 Status"
      ]
    },
    {
      "cell_type": "code",
      "execution_count": 853,
      "metadata": {
        "colab": {
          "base_uri": "https://localhost:8080/",
          "height": 143
        },
        "id": "P6Hgu-nbXBs2",
        "outputId": "9bbe7d4b-a81e-49e5-fe37-f2dee7f59701"
      },
      "outputs": [
        {
          "output_type": "execute_result",
          "data": {
            "text/plain": [
              "Stage 1   A   B   C\n",
              "Gender             \n",
              "Female   23  57  54\n",
              "Male     11  53  26"
            ],
            "text/html": [
              "\n",
              "  <div id=\"df-703050b6-30a2-487f-9a00-365f369eba95\">\n",
              "    <div class=\"colab-df-container\">\n",
              "      <div>\n",
              "<style scoped>\n",
              "    .dataframe tbody tr th:only-of-type {\n",
              "        vertical-align: middle;\n",
              "    }\n",
              "\n",
              "    .dataframe tbody tr th {\n",
              "        vertical-align: top;\n",
              "    }\n",
              "\n",
              "    .dataframe thead th {\n",
              "        text-align: right;\n",
              "    }\n",
              "</style>\n",
              "<table border=\"1\" class=\"dataframe\">\n",
              "  <thead>\n",
              "    <tr style=\"text-align: right;\">\n",
              "      <th>Stage 1</th>\n",
              "      <th>A</th>\n",
              "      <th>B</th>\n",
              "      <th>C</th>\n",
              "    </tr>\n",
              "    <tr>\n",
              "      <th>Gender</th>\n",
              "      <th></th>\n",
              "      <th></th>\n",
              "      <th></th>\n",
              "    </tr>\n",
              "  </thead>\n",
              "  <tbody>\n",
              "    <tr>\n",
              "      <th>Female</th>\n",
              "      <td>23</td>\n",
              "      <td>57</td>\n",
              "      <td>54</td>\n",
              "    </tr>\n",
              "    <tr>\n",
              "      <th>Male</th>\n",
              "      <td>11</td>\n",
              "      <td>53</td>\n",
              "      <td>26</td>\n",
              "    </tr>\n",
              "  </tbody>\n",
              "</table>\n",
              "</div>\n",
              "      <button class=\"colab-df-convert\" onclick=\"convertToInteractive('df-703050b6-30a2-487f-9a00-365f369eba95')\"\n",
              "              title=\"Convert this dataframe to an interactive table.\"\n",
              "              style=\"display:none;\">\n",
              "        \n",
              "  <svg xmlns=\"http://www.w3.org/2000/svg\" height=\"24px\"viewBox=\"0 0 24 24\"\n",
              "       width=\"24px\">\n",
              "    <path d=\"M0 0h24v24H0V0z\" fill=\"none\"/>\n",
              "    <path d=\"M18.56 5.44l.94 2.06.94-2.06 2.06-.94-2.06-.94-.94-2.06-.94 2.06-2.06.94zm-11 1L8.5 8.5l.94-2.06 2.06-.94-2.06-.94L8.5 2.5l-.94 2.06-2.06.94zm10 10l.94 2.06.94-2.06 2.06-.94-2.06-.94-.94-2.06-.94 2.06-2.06.94z\"/><path d=\"M17.41 7.96l-1.37-1.37c-.4-.4-.92-.59-1.43-.59-.52 0-1.04.2-1.43.59L10.3 9.45l-7.72 7.72c-.78.78-.78 2.05 0 2.83L4 21.41c.39.39.9.59 1.41.59.51 0 1.02-.2 1.41-.59l7.78-7.78 2.81-2.81c.8-.78.8-2.07 0-2.86zM5.41 20L4 18.59l7.72-7.72 1.47 1.35L5.41 20z\"/>\n",
              "  </svg>\n",
              "      </button>\n",
              "      \n",
              "  <style>\n",
              "    .colab-df-container {\n",
              "      display:flex;\n",
              "      flex-wrap:wrap;\n",
              "      gap: 12px;\n",
              "    }\n",
              "\n",
              "    .colab-df-convert {\n",
              "      background-color: #E8F0FE;\n",
              "      border: none;\n",
              "      border-radius: 50%;\n",
              "      cursor: pointer;\n",
              "      display: none;\n",
              "      fill: #1967D2;\n",
              "      height: 32px;\n",
              "      padding: 0 0 0 0;\n",
              "      width: 32px;\n",
              "    }\n",
              "\n",
              "    .colab-df-convert:hover {\n",
              "      background-color: #E2EBFA;\n",
              "      box-shadow: 0px 1px 2px rgba(60, 64, 67, 0.3), 0px 1px 3px 1px rgba(60, 64, 67, 0.15);\n",
              "      fill: #174EA6;\n",
              "    }\n",
              "\n",
              "    [theme=dark] .colab-df-convert {\n",
              "      background-color: #3B4455;\n",
              "      fill: #D2E3FC;\n",
              "    }\n",
              "\n",
              "    [theme=dark] .colab-df-convert:hover {\n",
              "      background-color: #434B5C;\n",
              "      box-shadow: 0px 1px 3px 1px rgba(0, 0, 0, 0.15);\n",
              "      filter: drop-shadow(0px 1px 2px rgba(0, 0, 0, 0.3));\n",
              "      fill: #FFFFFF;\n",
              "    }\n",
              "  </style>\n",
              "\n",
              "      <script>\n",
              "        const buttonEl =\n",
              "          document.querySelector('#df-703050b6-30a2-487f-9a00-365f369eba95 button.colab-df-convert');\n",
              "        buttonEl.style.display =\n",
              "          google.colab.kernel.accessAllowed ? 'block' : 'none';\n",
              "\n",
              "        async function convertToInteractive(key) {\n",
              "          const element = document.querySelector('#df-703050b6-30a2-487f-9a00-365f369eba95');\n",
              "          const dataTable =\n",
              "            await google.colab.kernel.invokeFunction('convertToInteractive',\n",
              "                                                     [key], {});\n",
              "          if (!dataTable) return;\n",
              "\n",
              "          const docLinkHtml = 'Like what you see? Visit the ' +\n",
              "            '<a target=\"_blank\" href=https://colab.research.google.com/notebooks/data_table.ipynb>data table notebook</a>'\n",
              "            + ' to learn more about interactive tables.';\n",
              "          element.innerHTML = '';\n",
              "          dataTable['output_type'] = 'display_data';\n",
              "          await google.colab.output.renderOutput(dataTable, element);\n",
              "          const docLink = document.createElement('div');\n",
              "          docLink.innerHTML = docLinkHtml;\n",
              "          element.appendChild(docLink);\n",
              "        }\n",
              "      </script>\n",
              "    </div>\n",
              "  </div>\n",
              "  "
            ]
          },
          "metadata": {},
          "execution_count": 853
        }
      ],
      "source": [
        "ctab6=pd.crosstab(data['Gender'],data['Stage 1']) \n",
        "ctab6"
      ]
    },
    {
      "cell_type": "code",
      "source": [
        "ctab6.plot(kind='bar', cmap ='cividis')\n",
        "plt.title('Gender vs Mock 1 stage\\n', fontdict= {'fontsize':20, 'fontweight':5, 'color':'darkblue'})"
      ],
      "metadata": {
        "colab": {
          "base_uri": "https://localhost:8080/",
          "height": 365
        },
        "id": "TxwM2bLAfTbU",
        "outputId": "607cea50-ba54-4dd3-e498-525a308a0e9e"
      },
      "execution_count": 854,
      "outputs": [
        {
          "output_type": "execute_result",
          "data": {
            "text/plain": [
              "Text(0.5, 1.0, 'Gender vs Mock 1 stage\\n')"
            ]
          },
          "metadata": {},
          "execution_count": 854
        },
        {
          "output_type": "display_data",
          "data": {
            "text/plain": [
              "<Figure size 432x288 with 1 Axes>"
            ],
            "image/png": "[encoded data removed]"
          },
          "metadata": {
            "needs_background": "light"
          }
        }
      ]
    },
    {
      "cell_type": "code",
      "execution_count": 855,
      "metadata": {
        "colab": {
          "base_uri": "https://localhost:8080/"
        },
        "id": "ON-6xeWxZbHf",
        "outputId": "d2167062-cfd1-43a2-deb9-f584a8785f3b"
      },
      "outputs": [
        {
          "output_type": "execute_result",
          "data": {
            "text/plain": [
              "(5.760141893030395,\n",
              " 0.05613078040960042,\n",
              " 2,\n",
              " array([[20.33928571, 65.80357143, 47.85714286],\n",
              "        [13.66071429, 44.19642857, 32.14285714]]))"
            ]
          },
          "metadata": {},
          "execution_count": 855
        }
      ],
      "source": [
        "alpha=0.05\n",
        "values=stats.chi2_contingency(ctab6)\n",
        "values"
      ]
    },
    {
      "cell_type": "code",
      "execution_count": 856,
      "metadata": {
        "colab": {
          "base_uri": "https://localhost:8080/"
        },
        "id": "H5gd9bpJZbLk",
        "outputId": "e37f5ab0-3297-4b4b-9a14-2d4c55db0911"
      },
      "outputs": [
        {
          "output_type": "execute_result",
          "data": {
            "text/plain": [
              "0.05613078040960042"
            ]
          },
          "metadata": {},
          "execution_count": 856
        }
      ],
      "source": [
        "p_value6=values[1]\n",
        "p_value6"
      ]
    },
    {
      "cell_type": "code",
      "execution_count": 857,
      "metadata": {
        "colab": {
          "base_uri": "https://localhost:8080/"
        },
        "id": "oNZQlTIXZbUC",
        "outputId": "3cd0713b-b3c4-4cdd-955b-d24cadba7ae5"
      },
      "outputs": [
        {
          "output_type": "stream",
          "name": "stdout",
          "text": [
            "Accept H0\n"
          ]
        }
      ],
      "source": [
        "if p_value6 <= alpha:\n",
        "   print(\"Reject H0\")\n",
        "else:\n",
        "  print(\"Accept H0\")"
      ]
    },
    {
      "cell_type": "markdown",
      "metadata": {
        "id": "MuJsgtOeZaSM"
      },
      "source": [
        "There is No significant Relationship between Gender and Mock test 1 status"
      ]
    },
    {
      "cell_type": "markdown",
      "source": [
        "**To test is there any significant relationship between Do you have computer (Laptop) and Mock Test 1 Status**\n",
        "\n",
        "Ho: There is No significant relationship between Do you have computer (Laptop) and Mock Test 1 Status\n",
        "\n",
        "H1: There is Significant Relationship between Do you have computer (Laptop) and Mock Test 1 Status"
      ],
      "metadata": {
        "id": "clmAWyRlf8d0"
      }
    },
    {
      "cell_type": "code",
      "source": [
        "ctab7=pd.crosstab(data['Do you have computer (Laptop)'],data['Stage 1']) \n",
        "ctab7"
      ],
      "metadata": {
        "colab": {
          "base_uri": "https://localhost:8080/",
          "height": 143
        },
        "id": "n_n9WfVsf7h9",
        "outputId": "3b726ef6-24f2-4906-b470-049467bd049d"
      },
      "execution_count": 858,
      "outputs": [
        {
          "output_type": "execute_result",
          "data": {
            "text/plain": [
              "Stage 1                         A   B   C\n",
              "Do you have computer (Laptop)            \n",
              "No                              1  36  21\n",
              "Yes                            33  74  59"
            ],
            "text/html": [
              "\n",
              "  <div id=\"df-54a16ea3-78e3-49e4-b3ed-eea01bd6af51\">\n",
              "    <div class=\"colab-df-container\">\n",
              "      <div>\n",
              "<style scoped>\n",
              "    .dataframe tbody tr th:only-of-type {\n",
              "        vertical-align: middle;\n",
              "    }\n",
              "\n",
              "    .dataframe tbody tr th {\n",
              "        vertical-align: top;\n",
              "    }\n",
              "\n",
              "    .dataframe thead th {\n",
              "        text-align: right;\n",
              "    }\n",
              "</style>\n",
              "<table border=\"1\" class=\"dataframe\">\n",
              "  <thead>\n",
              "    <tr style=\"text-align: right;\">\n",
              "      <th>Stage 1</th>\n",
              "      <th>A</th>\n",
              "      <th>B</th>\n",
              "      <th>C</th>\n",
              "    </tr>\n",
              "    <tr>\n",
              "      <th>Do you have computer (Laptop)</th>\n",
              "      <th></th>\n",
              "      <th></th>\n",
              "      <th></th>\n",
              "    </tr>\n",
              "  </thead>\n",
              "  <tbody>\n",
              "    <tr>\n",
              "      <th>No</th>\n",
              "      <td>1</td>\n",
              "      <td>36</td>\n",
              "      <td>21</td>\n",
              "    </tr>\n",
              "    <tr>\n",
              "      <th>Yes</th>\n",
              "      <td>33</td>\n",
              "      <td>74</td>\n",
              "      <td>59</td>\n",
              "    </tr>\n",
              "  </tbody>\n",
              "</table>\n",
              "</div>\n",
              "      <button class=\"colab-df-convert\" onclick=\"convertToInteractive('df-54a16ea3-78e3-49e4-b3ed-eea01bd6af51')\"\n",
              "              title=\"Convert this dataframe to an interactive table.\"\n",
              "              style=\"display:none;\">\n",
              "        \n",
              "  <svg xmlns=\"http://www.w3.org/2000/svg\" height=\"24px\"viewBox=\"0 0 24 24\"\n",
              "       width=\"24px\">\n",
              "    <path d=\"M0 0h24v24H0V0z\" fill=\"none\"/>\n",
              "    <path d=\"M18.56 5.44l.94 2.06.94-2.06 2.06-.94-2.06-.94-.94-2.06-.94 2.06-2.06.94zm-11 1L8.5 8.5l.94-2.06 2.06-.94-2.06-.94L8.5 2.5l-.94 2.06-2.06.94zm10 10l.94 2.06.94-2.06 2.06-.94-2.06-.94-.94-2.06-.94 2.06-2.06.94z\"/><path d=\"M17.41 7.96l-1.37-1.37c-.4-.4-.92-.59-1.43-.59-.52 0-1.04.2-1.43.59L10.3 9.45l-7.72 7.72c-.78.78-.78 2.05 0 2.83L4 21.41c.39.39.9.59 1.41.59.51 0 1.02-.2 1.41-.59l7.78-7.78 2.81-2.81c.8-.78.8-2.07 0-2.86zM5.41 20L4 18.59l7.72-7.72 1.47 1.35L5.41 20z\"/>\n",
              "  </svg>\n",
              "      </button>\n",
              "      \n",
              "  <style>\n",
              "    .colab-df-container {\n",
              "      display:flex;\n",
              "      flex-wrap:wrap;\n",
              "      gap: 12px;\n",
              "    }\n",
              "\n",
              "    .colab-df-convert {\n",
              "      background-color: #E8F0FE;\n",
              "      border: none;\n",
              "      border-radius: 50%;\n",
              "      cursor: pointer;\n",
              "      display: none;\n",
              "      fill: #1967D2;\n",
              "      height: 32px;\n",
              "      padding: 0 0 0 0;\n",
              "      width: 32px;\n",
              "    }\n",
              "\n",
              "    .colab-df-convert:hover {\n",
              "      background-color: #E2EBFA;\n",
              "      box-shadow: 0px 1px 2px rgba(60, 64, 67, 0.3), 0px 1px 3px 1px rgba(60, 64, 67, 0.15);\n",
              "      fill: #174EA6;\n",
              "    }\n",
              "\n",
              "    [theme=dark] .colab-df-convert {\n",
              "      background-color: #3B4455;\n",
              "      fill: #D2E3FC;\n",
              "    }\n",
              "\n",
              "    [theme=dark] .colab-df-convert:hover {\n",
              "      background-color: #434B5C;\n",
              "      box-shadow: 0px 1px 3px 1px rgba(0, 0, 0, 0.15);\n",
              "      filter: drop-shadow(0px 1px 2px rgba(0, 0, 0, 0.3));\n",
              "      fill: #FFFFFF;\n",
              "    }\n",
              "  </style>\n",
              "\n",
              "      <script>\n",
              "        const buttonEl =\n",
              "          document.querySelector('#df-54a16ea3-78e3-49e4-b3ed-eea01bd6af51 button.colab-df-convert');\n",
              "        buttonEl.style.display =\n",
              "          google.colab.kernel.accessAllowed ? 'block' : 'none';\n",
              "\n",
              "        async function convertToInteractive(key) {\n",
              "          const element = document.querySelector('#df-54a16ea3-78e3-49e4-b3ed-eea01bd6af51');\n",
              "          const dataTable =\n",
              "            await google.colab.kernel.invokeFunction('convertToInteractive',\n",
              "                                                     [key], {});\n",
              "          if (!dataTable) return;\n",
              "\n",
              "          const docLinkHtml = 'Like what you see? Visit the ' +\n",
              "            '<a target=\"_blank\" href=https://colab.research.google.com/notebooks/data_table.ipynb>data table notebook</a>'\n",
              "            + ' to learn more about interactive tables.';\n",
              "          element.innerHTML = '';\n",
              "          dataTable['output_type'] = 'display_data';\n",
              "          await google.colab.output.renderOutput(dataTable, element);\n",
              "          const docLink = document.createElement('div');\n",
              "          docLink.innerHTML = docLinkHtml;\n",
              "          element.appendChild(docLink);\n",
              "        }\n",
              "      </script>\n",
              "    </div>\n",
              "  </div>\n",
              "  "
            ]
          },
          "metadata": {},
          "execution_count": 858
        }
      ]
    },
    {
      "cell_type": "code",
      "source": [
        "ctab7.plot(kind='bar', cmap ='cividis')\n",
        "plt.title('Laptop access vs Mock 1 stage\\n', fontdict= {'fontsize':20, 'fontweight':5, 'color':'darkblue'})"
      ],
      "metadata": {
        "colab": {
          "base_uri": "https://localhost:8080/",
          "height": 345
        },
        "id": "Y2J3d4ElgJZL",
        "outputId": "e66df088-d9dd-459a-b951-0ff85d7fda76"
      },
      "execution_count": 859,
      "outputs": [
        {
          "output_type": "execute_result",
          "data": {
            "text/plain": [
              "Text(0.5, 1.0, 'Laptop access vs Mock 1 stage\\n')"
            ]
          },
          "metadata": {},
          "execution_count": 859
        },
        {
          "output_type": "display_data",
          "data": {
            "text/plain": [
              "<Figure size 432x288 with 1 Axes>"
            ],
            "image/png": "[encoded data removed]"
          },
          "metadata": {
            "needs_background": "light"
          }
        }
      ]
    },
    {
      "cell_type": "code",
      "source": [
        "alpha=0.05\n",
        "values=stats.chi2_contingency(ctab7)\n",
        "values"
      ],
      "metadata": {
        "colab": {
          "base_uri": "https://localhost:8080/"
        },
        "id": "i8CuCKVlgHs4",
        "outputId": "007541dd-d09d-465b-be2a-3720a65a45df"
      },
      "execution_count": 860,
      "outputs": [
        {
          "output_type": "execute_result",
          "data": {
            "text/plain": [
              "(12.016978998420381,\n",
              " 0.0024577978835981463,\n",
              " 2,\n",
              " array([[ 8.80357143, 28.48214286, 20.71428571],\n",
              "        [25.19642857, 81.51785714, 59.28571429]]))"
            ]
          },
          "metadata": {},
          "execution_count": 860
        }
      ]
    },
    {
      "cell_type": "code",
      "source": [
        "p_value7=values[1]\n",
        "p_value7"
      ],
      "metadata": {
        "colab": {
          "base_uri": "https://localhost:8080/"
        },
        "id": "-nR7zRkbgH1A",
        "outputId": "3048d604-5f4a-4a37-ef9a-d9bec1a0c899"
      },
      "execution_count": 861,
      "outputs": [
        {
          "output_type": "execute_result",
          "data": {
            "text/plain": [
              "0.0024577978835981463"
            ]
          },
          "metadata": {},
          "execution_count": 861
        }
      ]
    },
    {
      "cell_type": "code",
      "source": [
        "if p_value7 <= alpha:\n",
        "   print(\"Reject H0\")\n",
        "else:\n",
        "  print(\"Accept H0\")"
      ],
      "metadata": {
        "colab": {
          "base_uri": "https://localhost:8080/"
        },
        "id": "dHi-PhGigPSS",
        "outputId": "0e1b92e6-ad27-45ca-ced8-e2c38211aabd"
      },
      "execution_count": 862,
      "outputs": [
        {
          "output_type": "stream",
          "name": "stdout",
          "text": [
            "Reject H0\n"
          ]
        }
      ]
    },
    {
      "cell_type": "markdown",
      "source": [
        "There is No significant relationship between Do you have computer (Laptop) and Mock Test 1 Status"
      ],
      "metadata": {
        "id": "NzddUBkGgYc8"
      }
    },
    {
      "cell_type": "markdown",
      "source": [
        "**To test is there any significant relationship between  Have you learned Excel Before and Mock Test 1 Status**\n",
        "\n",
        "Ho: There is No significant relationship between Have you learned Excel Before and Mock Test 1 Status\n",
        "\n",
        "H1: There is Significant Relationship between Have you learned Excel Before and Mock Test 1 Status"
      ],
      "metadata": {
        "id": "wN1yx-TahAAW"
      }
    },
    {
      "cell_type": "code",
      "source": [
        "ctab8=pd.crosstab(data['Have you learned Excel before this training'],data['Stage 1']) \n",
        "ctab8"
      ],
      "metadata": {
        "colab": {
          "base_uri": "https://localhost:8080/",
          "height": 143
        },
        "id": "PkaT5EMdhGKq",
        "outputId": "39aeecca-9cfe-4692-a8f2-e583891b96b1"
      },
      "execution_count": 863,
      "outputs": [
        {
          "output_type": "execute_result",
          "data": {
            "text/plain": [
              "Stage 1                                       A   B   C\n",
              "Have you learned Excel before this training            \n",
              "No                                           23  92  63\n",
              "Yes                                          11  18  17"
            ],
            "text/html": [
              "\n",
              "  <div id=\"df-46bbd9b5-b608-4f20-aab1-f6e33c7201f6\">\n",
              "    <div class=\"colab-df-container\">\n",
              "      <div>\n",
              "<style scoped>\n",
              "    .dataframe tbody tr th:only-of-type {\n",
              "        vertical-align: middle;\n",
              "    }\n",
              "\n",
              "    .dataframe tbody tr th {\n",
              "        vertical-align: top;\n",
              "    }\n",
              "\n",
              "    .dataframe thead th {\n",
              "        text-align: right;\n",
              "    }\n",
              "</style>\n",
              "<table border=\"1\" class=\"dataframe\">\n",
              "  <thead>\n",
              "    <tr style=\"text-align: right;\">\n",
              "      <th>Stage 1</th>\n",
              "      <th>A</th>\n",
              "      <th>B</th>\n",
              "      <th>C</th>\n",
              "    </tr>\n",
              "    <tr>\n",
              "      <th>Have you learned Excel before this training</th>\n",
              "      <th></th>\n",
              "      <th></th>\n",
              "      <th></th>\n",
              "    </tr>\n",
              "  </thead>\n",
              "  <tbody>\n",
              "    <tr>\n",
              "      <th>No</th>\n",
              "      <td>23</td>\n",
              "      <td>92</td>\n",
              "      <td>63</td>\n",
              "    </tr>\n",
              "    <tr>\n",
              "      <th>Yes</th>\n",
              "      <td>11</td>\n",
              "      <td>18</td>\n",
              "      <td>17</td>\n",
              "    </tr>\n",
              "  </tbody>\n",
              "</table>\n",
              "</div>\n",
              "      <button class=\"colab-df-convert\" onclick=\"convertToInteractive('df-46bbd9b5-b608-4f20-aab1-f6e33c7201f6')\"\n",
              "              title=\"Convert this dataframe to an interactive table.\"\n",
              "              style=\"display:none;\">\n",
              "        \n",
              "  <svg xmlns=\"http://www.w3.org/2000/svg\" height=\"24px\"viewBox=\"0 0 24 24\"\n",
              "       width=\"24px\">\n",
              "    <path d=\"M0 0h24v24H0V0z\" fill=\"none\"/>\n",
              "    <path d=\"M18.56 5.44l.94 2.06.94-2.06 2.06-.94-2.06-.94-.94-2.06-.94 2.06-2.06.94zm-11 1L8.5 8.5l.94-2.06 2.06-.94-2.06-.94L8.5 2.5l-.94 2.06-2.06.94zm10 10l.94 2.06.94-2.06 2.06-.94-2.06-.94-.94-2.06-.94 2.06-2.06.94z\"/><path d=\"M17.41 7.96l-1.37-1.37c-.4-.4-.92-.59-1.43-.59-.52 0-1.04.2-1.43.59L10.3 9.45l-7.72 7.72c-.78.78-.78 2.05 0 2.83L4 21.41c.39.39.9.59 1.41.59.51 0 1.02-.2 1.41-.59l7.78-7.78 2.81-2.81c.8-.78.8-2.07 0-2.86zM5.41 20L4 18.59l7.72-7.72 1.47 1.35L5.41 20z\"/>\n",
              "  </svg>\n",
              "      </button>\n",
              "      \n",
              "  <style>\n",
              "    .colab-df-container {\n",
              "      display:flex;\n",
              "      flex-wrap:wrap;\n",
              "      gap: 12px;\n",
              "    }\n",
              "\n",
              "    .colab-df-convert {\n",
              "      background-color: #E8F0FE;\n",
              "      border: none;\n",
              "      border-radius: 50%;\n",
              "      cursor: pointer;\n",
              "      display: none;\n",
              "      fill: #1967D2;\n",
              "      height: 32px;\n",
              "      padding: 0 0 0 0;\n",
              "      width: 32px;\n",
              "    }\n",
              "\n",
              "    .colab-df-convert:hover {\n",
              "      background-color: #E2EBFA;\n",
              "      box-shadow: 0px 1px 2px rgba(60, 64, 67, 0.3), 0px 1px 3px 1px rgba(60, 64, 67, 0.15);\n",
              "      fill: #174EA6;\n",
              "    }\n",
              "\n",
              "    [theme=dark] .colab-df-convert {\n",
              "      background-color: #3B4455;\n",
              "      fill: #D2E3FC;\n",
              "    }\n",
              "\n",
              "    [theme=dark] .colab-df-convert:hover {\n",
              "      background-color: #434B5C;\n",
              "      box-shadow: 0px 1px 3px 1px rgba(0, 0, 0, 0.15);\n",
              "      filter: drop-shadow(0px 1px 2px rgba(0, 0, 0, 0.3));\n",
              "      fill: #FFFFFF;\n",
              "    }\n",
              "  </style>\n",
              "\n",
              "      <script>\n",
              "        const buttonEl =\n",
              "          document.querySelector('#df-46bbd9b5-b608-4f20-aab1-f6e33c7201f6 button.colab-df-convert');\n",
              "        buttonEl.style.display =\n",
              "          google.colab.kernel.accessAllowed ? 'block' : 'none';\n",
              "\n",
              "        async function convertToInteractive(key) {\n",
              "          const element = document.querySelector('#df-46bbd9b5-b608-4f20-aab1-f6e33c7201f6');\n",
              "          const dataTable =\n",
              "            await google.colab.kernel.invokeFunction('convertToInteractive',\n",
              "                                                     [key], {});\n",
              "          if (!dataTable) return;\n",
              "\n",
              "          const docLinkHtml = 'Like what you see? Visit the ' +\n",
              "            '<a target=\"_blank\" href=https://colab.research.google.com/notebooks/data_table.ipynb>data table notebook</a>'\n",
              "            + ' to learn more about interactive tables.';\n",
              "          element.innerHTML = '';\n",
              "          dataTable['output_type'] = 'display_data';\n",
              "          await google.colab.output.renderOutput(dataTable, element);\n",
              "          const docLink = document.createElement('div');\n",
              "          docLink.innerHTML = docLinkHtml;\n",
              "          element.appendChild(docLink);\n",
              "        }\n",
              "      </script>\n",
              "    </div>\n",
              "  </div>\n",
              "  "
            ]
          },
          "metadata": {},
          "execution_count": 863
        }
      ]
    },
    {
      "cell_type": "code",
      "source": [
        "ctab8.plot(kind='bar', cmap ='cividis')\n",
        "plt.title('Excel knowledge vs Mock 1 stage\\n', fontdict= {'fontsize':20, 'fontweight':5, 'color':'darkblue'})"
      ],
      "metadata": {
        "colab": {
          "base_uri": "https://localhost:8080/",
          "height": 345
        },
        "id": "77QVhs2uhGOG",
        "outputId": "5c33492d-c2fe-4890-b26e-14c45dd3160f"
      },
      "execution_count": 864,
      "outputs": [
        {
          "output_type": "execute_result",
          "data": {
            "text/plain": [
              "Text(0.5, 1.0, 'Excel knowledge vs Mock 1 stage\\n')"
            ]
          },
          "metadata": {},
          "execution_count": 864
        },
        {
          "output_type": "display_data",
          "data": {
            "text/plain": [
              "<Figure size 432x288 with 1 Axes>"
            ],
            "image/png": "[encoded data removed]"
          },
          "metadata": {
            "needs_background": "light"
          }
        }
      ]
    },
    {
      "cell_type": "code",
      "source": [
        "alpha=0.05\n",
        "values=stats.chi2_contingency(ctab8)\n",
        "values"
      ],
      "metadata": {
        "colab": {
          "base_uri": "https://localhost:8080/"
        },
        "id": "929yu-AghGSD",
        "outputId": "ca535767-1f35-44f7-fea2-de9f4996e2a3"
      },
      "execution_count": 865,
      "outputs": [
        {
          "output_type": "execute_result",
          "data": {
            "text/plain": [
              "(4.107896517402539,\n",
              " 0.12822762697319412,\n",
              " 2,\n",
              " array([[27.01785714, 87.41071429, 63.57142857],\n",
              "        [ 6.98214286, 22.58928571, 16.42857143]]))"
            ]
          },
          "metadata": {},
          "execution_count": 865
        }
      ]
    },
    {
      "cell_type": "code",
      "source": [
        "p_value8=values[1]\n",
        "p_value8"
      ],
      "metadata": {
        "colab": {
          "base_uri": "https://localhost:8080/"
        },
        "id": "-YGv1d6lhGVM",
        "outputId": "7a10a182-f26d-4831-b5c8-5ef7f5454070"
      },
      "execution_count": 866,
      "outputs": [
        {
          "output_type": "execute_result",
          "data": {
            "text/plain": [
              "0.12822762697319412"
            ]
          },
          "metadata": {},
          "execution_count": 866
        }
      ]
    },
    {
      "cell_type": "code",
      "source": [
        "if p_value8 <= alpha:\n",
        "   print(\"Reject H0\")\n",
        "else:\n",
        "  print(\"Accept H0\")"
      ],
      "metadata": {
        "colab": {
          "base_uri": "https://localhost:8080/"
        },
        "id": "9apULV6mhGtq",
        "outputId": "0ff28068-fb28-4728-d2a4-7e97dddd9596"
      },
      "execution_count": 867,
      "outputs": [
        {
          "output_type": "stream",
          "name": "stdout",
          "text": [
            "Accept H0\n"
          ]
        }
      ]
    },
    {
      "cell_type": "markdown",
      "source": [
        "So, There is no Significant Relationship between Have you learned Excel Before and Mock Test 1 Status"
      ],
      "metadata": {
        "id": "yU6-PijQhtMA"
      }
    },
    {
      "cell_type": "markdown",
      "source": [
        "### Analysis with mock 2"
      ],
      "metadata": {
        "id": "DpdttuwXe66_"
      }
    },
    {
      "cell_type": "markdown",
      "metadata": {
        "id": "oOLPy2_sZv3U"
      },
      "source": [
        "**To test is there any significant relationship between Gender and Mock 2 Status**\n",
        "\n",
        "Ho: There is No significant relationship between gender and Mock 2 Status \n",
        "\n",
        "H1: There is Significant Relationship between Gender and Mock 2 Status"
      ]
    },
    {
      "cell_type": "code",
      "execution_count": 868,
      "metadata": {
        "colab": {
          "base_uri": "https://localhost:8080/",
          "height": 143
        },
        "id": "x38jHMHDXBwE",
        "outputId": "998fdb2c-f800-4adb-8506-ee2949838870"
      },
      "outputs": [
        {
          "output_type": "execute_result",
          "data": {
            "text/plain": [
              "Stage 2    A  B   C\n",
              "Gender             \n",
              "Female   110  4  20\n",
              "Male      74  5  11"
            ],
            "text/html": [
              "\n",
              "  <div id=\"df-b2f3c7f6-119f-4487-ba1f-e39a6a3501f1\">\n",
              "    <div class=\"colab-df-container\">\n",
              "      <div>\n",
              "<style scoped>\n",
              "    .dataframe tbody tr th:only-of-type {\n",
              "        vertical-align: middle;\n",
              "    }\n",
              "\n",
              "    .dataframe tbody tr th {\n",
              "        vertical-align: top;\n",
              "    }\n",
              "\n",
              "    .dataframe thead th {\n",
              "        text-align: right;\n",
              "    }\n",
              "</style>\n",
              "<table border=\"1\" class=\"dataframe\">\n",
              "  <thead>\n",
              "    <tr style=\"text-align: right;\">\n",
              "      <th>Stage 2</th>\n",
              "      <th>A</th>\n",
              "      <th>B</th>\n",
              "      <th>C</th>\n",
              "    </tr>\n",
              "    <tr>\n",
              "      <th>Gender</th>\n",
              "      <th></th>\n",
              "      <th></th>\n",
              "      <th></th>\n",
              "    </tr>\n",
              "  </thead>\n",
              "  <tbody>\n",
              "    <tr>\n",
              "      <th>Female</th>\n",
              "      <td>110</td>\n",
              "      <td>4</td>\n",
              "      <td>20</td>\n",
              "    </tr>\n",
              "    <tr>\n",
              "      <th>Male</th>\n",
              "      <td>74</td>\n",
              "      <td>5</td>\n",
              "      <td>11</td>\n",
              "    </tr>\n",
              "  </tbody>\n",
              "</table>\n",
              "</div>\n",
              "      <button class=\"colab-df-convert\" onclick=\"convertToInteractive('df-b2f3c7f6-119f-4487-ba1f-e39a6a3501f1')\"\n",
              "              title=\"Convert this dataframe to an interactive table.\"\n",
              "              style=\"display:none;\">\n",
              "        \n",
              "  <svg xmlns=\"http://www.w3.org/2000/svg\" height=\"24px\"viewBox=\"0 0 24 24\"\n",
              "       width=\"24px\">\n",
              "    <path d=\"M0 0h24v24H0V0z\" fill=\"none\"/>\n",
              "    <path d=\"M18.56 5.44l.94 2.06.94-2.06 2.06-.94-2.06-.94-.94-2.06-.94 2.06-2.06.94zm-11 1L8.5 8.5l.94-2.06 2.06-.94-2.06-.94L8.5 2.5l-.94 2.06-2.06.94zm10 10l.94 2.06.94-2.06 2.06-.94-2.06-.94-.94-2.06-.94 2.06-2.06.94z\"/><path d=\"M17.41 7.96l-1.37-1.37c-.4-.4-.92-.59-1.43-.59-.52 0-1.04.2-1.43.59L10.3 9.45l-7.72 7.72c-.78.78-.78 2.05 0 2.83L4 21.41c.39.39.9.59 1.41.59.51 0 1.02-.2 1.41-.59l7.78-7.78 2.81-2.81c.8-.78.8-2.07 0-2.86zM5.41 20L4 18.59l7.72-7.72 1.47 1.35L5.41 20z\"/>\n",
              "  </svg>\n",
              "      </button>\n",
              "      \n",
              "  <style>\n",
              "    .colab-df-container {\n",
              "      display:flex;\n",
              "      flex-wrap:wrap;\n",
              "      gap: 12px;\n",
              "    }\n",
              "\n",
              "    .colab-df-convert {\n",
              "      background-color: #E8F0FE;\n",
              "      border: none;\n",
              "      border-radius: 50%;\n",
              "      cursor: pointer;\n",
              "      display: none;\n",
              "      fill: #1967D2;\n",
              "      height: 32px;\n",
              "      padding: 0 0 0 0;\n",
              "      width: 32px;\n",
              "    }\n",
              "\n",
              "    .colab-df-convert:hover {\n",
              "      background-color: #E2EBFA;\n",
              "      box-shadow: 0px 1px 2px rgba(60, 64, 67, 0.3), 0px 1px 3px 1px rgba(60, 64, 67, 0.15);\n",
              "      fill: #174EA6;\n",
              "    }\n",
              "\n",
              "    [theme=dark] .colab-df-convert {\n",
              "      background-color: #3B4455;\n",
              "      fill: #D2E3FC;\n",
              "    }\n",
              "\n",
              "    [theme=dark] .colab-df-convert:hover {\n",
              "      background-color: #434B5C;\n",
              "      box-shadow: 0px 1px 3px 1px rgba(0, 0, 0, 0.15);\n",
              "      filter: drop-shadow(0px 1px 2px rgba(0, 0, 0, 0.3));\n",
              "      fill: #FFFFFF;\n",
              "    }\n",
              "  </style>\n",
              "\n",
              "      <script>\n",
              "        const buttonEl =\n",
              "          document.querySelector('#df-b2f3c7f6-119f-4487-ba1f-e39a6a3501f1 button.colab-df-convert');\n",
              "        buttonEl.style.display =\n",
              "          google.colab.kernel.accessAllowed ? 'block' : 'none';\n",
              "\n",
              "        async function convertToInteractive(key) {\n",
              "          const element = document.querySelector('#df-b2f3c7f6-119f-4487-ba1f-e39a6a3501f1');\n",
              "          const dataTable =\n",
              "            await google.colab.kernel.invokeFunction('convertToInteractive',\n",
              "                                                     [key], {});\n",
              "          if (!dataTable) return;\n",
              "\n",
              "          const docLinkHtml = 'Like what you see? Visit the ' +\n",
              "            '<a target=\"_blank\" href=https://colab.research.google.com/notebooks/data_table.ipynb>data table notebook</a>'\n",
              "            + ' to learn more about interactive tables.';\n",
              "          element.innerHTML = '';\n",
              "          dataTable['output_type'] = 'display_data';\n",
              "          await google.colab.output.renderOutput(dataTable, element);\n",
              "          const docLink = document.createElement('div');\n",
              "          docLink.innerHTML = docLinkHtml;\n",
              "          element.appendChild(docLink);\n",
              "        }\n",
              "      </script>\n",
              "    </div>\n",
              "  </div>\n",
              "  "
            ]
          },
          "metadata": {},
          "execution_count": 868
        }
      ],
      "source": [
        "ctab9=pd.crosstab(data['Gender'],data['Stage 2']) \n",
        "ctab9"
      ]
    },
    {
      "cell_type": "code",
      "source": [
        "ctab9.plot(kind='bar', cmap ='cividis')\n",
        "plt.title('Gender vs Mock 2 stage\\n', fontdict= {'fontsize':20, 'fontweight':5, 'color':'darkblue'})"
      ],
      "metadata": {
        "colab": {
          "base_uri": "https://localhost:8080/",
          "height": 365
        },
        "id": "ndGleqwbfXC-",
        "outputId": "078ee466-558a-4de3-ae31-4b2c7e876784"
      },
      "execution_count": 869,
      "outputs": [
        {
          "output_type": "execute_result",
          "data": {
            "text/plain": [
              "Text(0.5, 1.0, 'Gender vs Mock 2 stage\\n')"
            ]
          },
          "metadata": {},
          "execution_count": 869
        },
        {
          "output_type": "display_data",
          "data": {
            "text/plain": [
              "<Figure size 432x288 with 1 Axes>"
            ],
            "image/png": "[encoded data removed]"
          },
          "metadata": {
            "needs_background": "light"
          }
        }
      ]
    },
    {
      "cell_type": "code",
      "execution_count": 870,
      "metadata": {
        "colab": {
          "base_uri": "https://localhost:8080/"
        },
        "id": "recv49XtXWpy",
        "outputId": "f5f68ede-4c5f-4852-9f66-16a665cb644d"
      },
      "outputs": [
        {
          "output_type": "execute_result",
          "data": {
            "text/plain": [
              "(1.1697700784943392,\n",
              " 0.5571699108029436,\n",
              " 2,\n",
              " array([[110.07142857,   5.38392857,  18.54464286],\n",
              "        [ 73.92857143,   3.61607143,  12.45535714]]))"
            ]
          },
          "metadata": {},
          "execution_count": 870
        }
      ],
      "source": [
        "alpha=0.05\n",
        "values=stats.chi2_contingency(ctab9)\n",
        "values"
      ]
    },
    {
      "cell_type": "code",
      "execution_count": 871,
      "metadata": {
        "colab": {
          "base_uri": "https://localhost:8080/"
        },
        "id": "I4j5k5rMXBy-",
        "outputId": "9ac00512-f572-4160-f67e-95afe0c1e851"
      },
      "outputs": [
        {
          "output_type": "execute_result",
          "data": {
            "text/plain": [
              "0.5571699108029436"
            ]
          },
          "metadata": {},
          "execution_count": 871
        }
      ],
      "source": [
        "p_value9=values[1]\n",
        "p_value9"
      ]
    },
    {
      "cell_type": "code",
      "execution_count": 872,
      "metadata": {
        "colab": {
          "base_uri": "https://localhost:8080/"
        },
        "id": "H5U544NVXB2j",
        "outputId": "29fd8877-1103-4b80-a413-e288c3c33793"
      },
      "outputs": [
        {
          "output_type": "stream",
          "name": "stdout",
          "text": [
            "Accept H0\n"
          ]
        }
      ],
      "source": [
        "if p_value9 <= alpha:\n",
        "   print(\"Reject H0\")\n",
        "else:\n",
        "  print(\"Accept H0\")"
      ]
    },
    {
      "cell_type": "markdown",
      "metadata": {
        "id": "POJkVU_faDn-"
      },
      "source": [
        "There is No significant Relationship between Gender and Mock test 2 status"
      ]
    },
    {
      "cell_type": "markdown",
      "metadata": {
        "id": "artf94Vmbveu"
      },
      "source": [
        "**To test is there any significant relationship between Do you have computer (Laptop) and Mock Test 2 Status**\n",
        "\n",
        "Ho: There is No significant relationship between Do you have computer (Laptop) and Mock Test 2 Status\n",
        "\n",
        "H1: There is Significant Relationship between Do you have computer (Laptop) and Mock Test 2 Status"
      ]
    },
    {
      "cell_type": "code",
      "execution_count": 873,
      "metadata": {
        "colab": {
          "base_uri": "https://localhost:8080/",
          "height": 143
        },
        "id": "02aP98KPXB5L",
        "outputId": "0b9eee4c-5880-4f5e-d403-4caece205964"
      },
      "outputs": [
        {
          "output_type": "execute_result",
          "data": {
            "text/plain": [
              "Stage 2                          A  B   C\n",
              "Do you have computer (Laptop)            \n",
              "No                              45  0  13\n",
              "Yes                            139  9  18"
            ],
            "text/html": [
              "\n",
              "  <div id=\"df-2c3f49f7-4b0d-46e1-948c-5fae9e3ab38c\">\n",
              "    <div class=\"colab-df-container\">\n",
              "      <div>\n",
              "<style scoped>\n",
              "    .dataframe tbody tr th:only-of-type {\n",
              "        vertical-align: middle;\n",
              "    }\n",
              "\n",
              "    .dataframe tbody tr th {\n",
              "        vertical-align: top;\n",
              "    }\n",
              "\n",
              "    .dataframe thead th {\n",
              "        text-align: right;\n",
              "    }\n",
              "</style>\n",
              "<table border=\"1\" class=\"dataframe\">\n",
              "  <thead>\n",
              "    <tr style=\"text-align: right;\">\n",
              "      <th>Stage 2</th>\n",
              "      <th>A</th>\n",
              "      <th>B</th>\n",
              "      <th>C</th>\n",
              "    </tr>\n",
              "    <tr>\n",
              "      <th>Do you have computer (Laptop)</th>\n",
              "      <th></th>\n",
              "      <th></th>\n",
              "      <th></th>\n",
              "    </tr>\n",
              "  </thead>\n",
              "  <tbody>\n",
              "    <tr>\n",
              "      <th>No</th>\n",
              "      <td>45</td>\n",
              "      <td>0</td>\n",
              "      <td>13</td>\n",
              "    </tr>\n",
              "    <tr>\n",
              "      <th>Yes</th>\n",
              "      <td>139</td>\n",
              "      <td>9</td>\n",
              "      <td>18</td>\n",
              "    </tr>\n",
              "  </tbody>\n",
              "</table>\n",
              "</div>\n",
              "      <button class=\"colab-df-convert\" onclick=\"convertToInteractive('df-2c3f49f7-4b0d-46e1-948c-5fae9e3ab38c')\"\n",
              "              title=\"Convert this dataframe to an interactive table.\"\n",
              "              style=\"display:none;\">\n",
              "        \n",
              "  <svg xmlns=\"http://www.w3.org/2000/svg\" height=\"24px\"viewBox=\"0 0 24 24\"\n",
              "       width=\"24px\">\n",
              "    <path d=\"M0 0h24v24H0V0z\" fill=\"none\"/>\n",
              "    <path d=\"M18.56 5.44l.94 2.06.94-2.06 2.06-.94-2.06-.94-.94-2.06-.94 2.06-2.06.94zm-11 1L8.5 8.5l.94-2.06 2.06-.94-2.06-.94L8.5 2.5l-.94 2.06-2.06.94zm10 10l.94 2.06.94-2.06 2.06-.94-2.06-.94-.94-2.06-.94 2.06-2.06.94z\"/><path d=\"M17.41 7.96l-1.37-1.37c-.4-.4-.92-.59-1.43-.59-.52 0-1.04.2-1.43.59L10.3 9.45l-7.72 7.72c-.78.78-.78 2.05 0 2.83L4 21.41c.39.39.9.59 1.41.59.51 0 1.02-.2 1.41-.59l7.78-7.78 2.81-2.81c.8-.78.8-2.07 0-2.86zM5.41 20L4 18.59l7.72-7.72 1.47 1.35L5.41 20z\"/>\n",
              "  </svg>\n",
              "      </button>\n",
              "      \n",
              "  <style>\n",
              "    .colab-df-container {\n",
              "      display:flex;\n",
              "      flex-wrap:wrap;\n",
              "      gap: 12px;\n",
              "    }\n",
              "\n",
              "    .colab-df-convert {\n",
              "      background-color: #E8F0FE;\n",
              "      border: none;\n",
              "      border-radius: 50%;\n",
              "      cursor: pointer;\n",
              "      display: none;\n",
              "      fill: #1967D2;\n",
              "      height: 32px;\n",
              "      padding: 0 0 0 0;\n",
              "      width: 32px;\n",
              "    }\n",
              "\n",
              "    .colab-df-convert:hover {\n",
              "      background-color: #E2EBFA;\n",
              "      box-shadow: 0px 1px 2px rgba(60, 64, 67, 0.3), 0px 1px 3px 1px rgba(60, 64, 67, 0.15);\n",
              "      fill: #174EA6;\n",
              "    }\n",
              "\n",
              "    [theme=dark] .colab-df-convert {\n",
              "      background-color: #3B4455;\n",
              "      fill: #D2E3FC;\n",
              "    }\n",
              "\n",
              "    [theme=dark] .colab-df-convert:hover {\n",
              "      background-color: #434B5C;\n",
              "      box-shadow: 0px 1px 3px 1px rgba(0, 0, 0, 0.15);\n",
              "      filter: drop-shadow(0px 1px 2px rgba(0, 0, 0, 0.3));\n",
              "      fill: #FFFFFF;\n",
              "    }\n",
              "  </style>\n",
              "\n",
              "      <script>\n",
              "        const buttonEl =\n",
              "          document.querySelector('#df-2c3f49f7-4b0d-46e1-948c-5fae9e3ab38c button.colab-df-convert');\n",
              "        buttonEl.style.display =\n",
              "          google.colab.kernel.accessAllowed ? 'block' : 'none';\n",
              "\n",
              "        async function convertToInteractive(key) {\n",
              "          const element = document.querySelector('#df-2c3f49f7-4b0d-46e1-948c-5fae9e3ab38c');\n",
              "          const dataTable =\n",
              "            await google.colab.kernel.invokeFunction('convertToInteractive',\n",
              "                                                     [key], {});\n",
              "          if (!dataTable) return;\n",
              "\n",
              "          const docLinkHtml = 'Like what you see? Visit the ' +\n",
              "            '<a target=\"_blank\" href=https://colab.research.google.com/notebooks/data_table.ipynb>data table notebook</a>'\n",
              "            + ' to learn more about interactive tables.';\n",
              "          element.innerHTML = '';\n",
              "          dataTable['output_type'] = 'display_data';\n",
              "          await google.colab.output.renderOutput(dataTable, element);\n",
              "          const docLink = document.createElement('div');\n",
              "          docLink.innerHTML = docLinkHtml;\n",
              "          element.appendChild(docLink);\n",
              "        }\n",
              "      </script>\n",
              "    </div>\n",
              "  </div>\n",
              "  "
            ]
          },
          "metadata": {},
          "execution_count": 873
        }
      ],
      "source": [
        "ctab10=pd.crosstab(data['Do you have computer (Laptop)'],data['Stage 2']) \n",
        "ctab10"
      ]
    },
    {
      "cell_type": "code",
      "source": [
        "ctab10.plot(kind='bar', cmap ='cividis')\n",
        "plt.title('Laptop access vs Mock 2 stage\\n', fontdict= {'fontsize':20, 'fontweight':5, 'color':'darkblue'})"
      ],
      "metadata": {
        "colab": {
          "base_uri": "https://localhost:8080/",
          "height": 345
        },
        "id": "zR4Gs-KGmUyG",
        "outputId": "99bb96e5-abd7-409a-e88c-9b69ce5c5d50"
      },
      "execution_count": 874,
      "outputs": [
        {
          "output_type": "execute_result",
          "data": {
            "text/plain": [
              "Text(0.5, 1.0, 'Laptop access vs Mock 2 stage\\n')"
            ]
          },
          "metadata": {},
          "execution_count": 874
        },
        {
          "output_type": "display_data",
          "data": {
            "text/plain": [
              "<Figure size 432x288 with 1 Axes>"
            ],
            "image/png": "[encoded data removed]"
          },
          "metadata": {
            "needs_background": "light"
          }
        }
      ]
    },
    {
      "cell_type": "code",
      "execution_count": 875,
      "metadata": {
        "colab": {
          "base_uri": "https://localhost:8080/"
        },
        "id": "z_epMsZrb7h2",
        "outputId": "9eb80f71-5925-41ec-cbb6-0e69592430b9"
      },
      "outputs": [
        {
          "output_type": "execute_result",
          "data": {
            "text/plain": [
              "(7.500293382263397,\n",
              " 0.02351429626427293,\n",
              " 2,\n",
              " array([[ 47.64285714,   2.33035714,   8.02678571],\n",
              "        [136.35714286,   6.66964286,  22.97321429]]))"
            ]
          },
          "metadata": {},
          "execution_count": 875
        }
      ],
      "source": [
        "alpha=0.05\n",
        "values=stats.chi2_contingency(ctab10)\n",
        "values"
      ]
    },
    {
      "cell_type": "code",
      "execution_count": 876,
      "metadata": {
        "colab": {
          "base_uri": "https://localhost:8080/"
        },
        "id": "TL2DZJjMb7mk",
        "outputId": "e2546029-0d91-42f8-902f-470017726da3"
      },
      "outputs": [
        {
          "output_type": "execute_result",
          "data": {
            "text/plain": [
              "0.02351429626427293"
            ]
          },
          "metadata": {},
          "execution_count": 876
        }
      ],
      "source": [
        "p_value10=values[1]\n",
        "p_value10"
      ]
    },
    {
      "cell_type": "code",
      "execution_count": 877,
      "metadata": {
        "colab": {
          "base_uri": "https://localhost:8080/"
        },
        "id": "tQoYeOdMb7rD",
        "outputId": "3a296a94-9b23-487a-8d16-d34d3f87baea"
      },
      "outputs": [
        {
          "output_type": "stream",
          "name": "stdout",
          "text": [
            "Reject H0\n"
          ]
        }
      ],
      "source": [
        "if p_value10 <= alpha:\n",
        "   print(\"Reject H0\")\n",
        "else:\n",
        "  print(\"Accept H0\")"
      ]
    },
    {
      "cell_type": "markdown",
      "metadata": {
        "id": "wHPSoUI-cMe1"
      },
      "source": [
        "There is significant relationship between Do you have computer (Laptop) and Mock Test 2 Status"
      ]
    },
    {
      "cell_type": "markdown",
      "metadata": {
        "id": "dNBhNXZUnCtL"
      },
      "source": [
        "**To test is there any significant relationship between  Have you learned Excel Before and Mock Test 2 Status**\n",
        "\n",
        "Ho: There is No significant relationship between Have you learned Excel Before and Mock Test 2 Status\n",
        "\n",
        "H1: There is Significant Relationship between Have you learned Excel Before and Mock Test 2 Status"
      ]
    },
    {
      "cell_type": "code",
      "execution_count": 878,
      "metadata": {
        "colab": {
          "base_uri": "https://localhost:8080/",
          "height": 143
        },
        "id": "Pu_WVuvklkIK",
        "outputId": "9dd69c50-d9cd-46e7-cef0-cd7dd41edf51"
      },
      "outputs": [
        {
          "output_type": "execute_result",
          "data": {
            "text/plain": [
              "Stage 2                                        A  B   C\n",
              "Have you learned Excel before this training            \n",
              "No                                           146  5  27\n",
              "Yes                                           38  4   4"
            ],
            "text/html": [
              "\n",
              "  <div id=\"df-5dcb5360-aed2-402e-828f-f85375b86cb9\">\n",
              "    <div class=\"colab-df-container\">\n",
              "      <div>\n",
              "<style scoped>\n",
              "    .dataframe tbody tr th:only-of-type {\n",
              "        vertical-align: middle;\n",
              "    }\n",
              "\n",
              "    .dataframe tbody tr th {\n",
              "        vertical-align: top;\n",
              "    }\n",
              "\n",
              "    .dataframe thead th {\n",
              "        text-align: right;\n",
              "    }\n",
              "</style>\n",
              "<table border=\"1\" class=\"dataframe\">\n",
              "  <thead>\n",
              "    <tr style=\"text-align: right;\">\n",
              "      <th>Stage 2</th>\n",
              "      <th>A</th>\n",
              "      <th>B</th>\n",
              "      <th>C</th>\n",
              "    </tr>\n",
              "    <tr>\n",
              "      <th>Have you learned Excel before this training</th>\n",
              "      <th></th>\n",
              "      <th></th>\n",
              "      <th></th>\n",
              "    </tr>\n",
              "  </thead>\n",
              "  <tbody>\n",
              "    <tr>\n",
              "      <th>No</th>\n",
              "      <td>146</td>\n",
              "      <td>5</td>\n",
              "      <td>27</td>\n",
              "    </tr>\n",
              "    <tr>\n",
              "      <th>Yes</th>\n",
              "      <td>38</td>\n",
              "      <td>4</td>\n",
              "      <td>4</td>\n",
              "    </tr>\n",
              "  </tbody>\n",
              "</table>\n",
              "</div>\n",
              "      <button class=\"colab-df-convert\" onclick=\"convertToInteractive('df-5dcb5360-aed2-402e-828f-f85375b86cb9')\"\n",
              "              title=\"Convert this dataframe to an interactive table.\"\n",
              "              style=\"display:none;\">\n",
              "        \n",
              "  <svg xmlns=\"http://www.w3.org/2000/svg\" height=\"24px\"viewBox=\"0 0 24 24\"\n",
              "       width=\"24px\">\n",
              "    <path d=\"M0 0h24v24H0V0z\" fill=\"none\"/>\n",
              "    <path d=\"M18.56 5.44l.94 2.06.94-2.06 2.06-.94-2.06-.94-.94-2.06-.94 2.06-2.06.94zm-11 1L8.5 8.5l.94-2.06 2.06-.94-2.06-.94L8.5 2.5l-.94 2.06-2.06.94zm10 10l.94 2.06.94-2.06 2.06-.94-2.06-.94-.94-2.06-.94 2.06-2.06.94z\"/><path d=\"M17.41 7.96l-1.37-1.37c-.4-.4-.92-.59-1.43-.59-.52 0-1.04.2-1.43.59L10.3 9.45l-7.72 7.72c-.78.78-.78 2.05 0 2.83L4 21.41c.39.39.9.59 1.41.59.51 0 1.02-.2 1.41-.59l7.78-7.78 2.81-2.81c.8-.78.8-2.07 0-2.86zM5.41 20L4 18.59l7.72-7.72 1.47 1.35L5.41 20z\"/>\n",
              "  </svg>\n",
              "      </button>\n",
              "      \n",
              "  <style>\n",
              "    .colab-df-container {\n",
              "      display:flex;\n",
              "      flex-wrap:wrap;\n",
              "      gap: 12px;\n",
              "    }\n",
              "\n",
              "    .colab-df-convert {\n",
              "      background-color: #E8F0FE;\n",
              "      border: none;\n",
              "      border-radius: 50%;\n",
              "      cursor: pointer;\n",
              "      display: none;\n",
              "      fill: #1967D2;\n",
              "      height: 32px;\n",
              "      padding: 0 0 0 0;\n",
              "      width: 32px;\n",
              "    }\n",
              "\n",
              "    .colab-df-convert:hover {\n",
              "      background-color: #E2EBFA;\n",
              "      box-shadow: 0px 1px 2px rgba(60, 64, 67, 0.3), 0px 1px 3px 1px rgba(60, 64, 67, 0.15);\n",
              "      fill: #174EA6;\n",
              "    }\n",
              "\n",
              "    [theme=dark] .colab-df-convert {\n",
              "      background-color: #3B4455;\n",
              "      fill: #D2E3FC;\n",
              "    }\n",
              "\n",
              "    [theme=dark] .colab-df-convert:hover {\n",
              "      background-color: #434B5C;\n",
              "      box-shadow: 0px 1px 3px 1px rgba(0, 0, 0, 0.15);\n",
              "      filter: drop-shadow(0px 1px 2px rgba(0, 0, 0, 0.3));\n",
              "      fill: #FFFFFF;\n",
              "    }\n",
              "  </style>\n",
              "\n",
              "      <script>\n",
              "        const buttonEl =\n",
              "          document.querySelector('#df-5dcb5360-aed2-402e-828f-f85375b86cb9 button.colab-df-convert');\n",
              "        buttonEl.style.display =\n",
              "          google.colab.kernel.accessAllowed ? 'block' : 'none';\n",
              "\n",
              "        async function convertToInteractive(key) {\n",
              "          const element = document.querySelector('#df-5dcb5360-aed2-402e-828f-f85375b86cb9');\n",
              "          const dataTable =\n",
              "            await google.colab.kernel.invokeFunction('convertToInteractive',\n",
              "                                                     [key], {});\n",
              "          if (!dataTable) return;\n",
              "\n",
              "          const docLinkHtml = 'Like what you see? Visit the ' +\n",
              "            '<a target=\"_blank\" href=https://colab.research.google.com/notebooks/data_table.ipynb>data table notebook</a>'\n",
              "            + ' to learn more about interactive tables.';\n",
              "          element.innerHTML = '';\n",
              "          dataTable['output_type'] = 'display_data';\n",
              "          await google.colab.output.renderOutput(dataTable, element);\n",
              "          const docLink = document.createElement('div');\n",
              "          docLink.innerHTML = docLinkHtml;\n",
              "          element.appendChild(docLink);\n",
              "        }\n",
              "      </script>\n",
              "    </div>\n",
              "  </div>\n",
              "  "
            ]
          },
          "metadata": {},
          "execution_count": 878
        }
      ],
      "source": [
        "ctab11=pd.crosstab(data['Have you learned Excel before this training'],data['Stage 2']) \n",
        "ctab11"
      ]
    },
    {
      "cell_type": "code",
      "source": [
        "ctab11.plot(kind='bar', cmap ='cividis')\n",
        "plt.title('Excel knowledge vs Mock 2 stage\\n', fontdict= {'fontsize':20, 'fontweight':5, 'color':'darkblue'})"
      ],
      "metadata": {
        "colab": {
          "base_uri": "https://localhost:8080/",
          "height": 345
        },
        "id": "qheYCBTLmZUi",
        "outputId": "8add6035-301f-4f38-82a0-0363dc5954f8"
      },
      "execution_count": 879,
      "outputs": [
        {
          "output_type": "execute_result",
          "data": {
            "text/plain": [
              "Text(0.5, 1.0, 'Excel knowledge vs Mock 2 stage\\n')"
            ]
          },
          "metadata": {},
          "execution_count": 879
        },
        {
          "output_type": "display_data",
          "data": {
            "text/plain": [
              "<Figure size 432x288 with 1 Axes>"
            ],
            "image/png": "[encoded data removed]"
          },
          "metadata": {
            "needs_background": "light"
          }
        }
      ]
    },
    {
      "cell_type": "code",
      "execution_count": 880,
      "metadata": {
        "colab": {
          "base_uri": "https://localhost:8080/"
        },
        "id": "YMtEQ4-qm5Mx",
        "outputId": "56a54e1a-b6e1-496e-8086-70d896b3cbcb"
      },
      "outputs": [
        {
          "output_type": "execute_result",
          "data": {
            "text/plain": [
              "(4.260819472336207,\n",
              " 0.11878861188906038,\n",
              " 2,\n",
              " array([[146.21428571,   7.15178571,  24.63392857],\n",
              "        [ 37.78571429,   1.84821429,   6.36607143]]))"
            ]
          },
          "metadata": {},
          "execution_count": 880
        }
      ],
      "source": [
        "alpha=0.05\n",
        "values=stats.chi2_contingency(ctab11)\n",
        "values"
      ]
    },
    {
      "cell_type": "code",
      "execution_count": 881,
      "metadata": {
        "colab": {
          "base_uri": "https://localhost:8080/"
        },
        "id": "Crtgb5M3m5SU",
        "outputId": "72718d59-4774-45db-fa22-55839f47a61e"
      },
      "outputs": [
        {
          "output_type": "execute_result",
          "data": {
            "text/plain": [
              "0.11878861188906038"
            ]
          },
          "metadata": {},
          "execution_count": 881
        }
      ],
      "source": [
        "p_value11=values[1]\n",
        "p_value11"
      ]
    },
    {
      "cell_type": "code",
      "execution_count": 882,
      "metadata": {
        "colab": {
          "base_uri": "https://localhost:8080/"
        },
        "id": "px78m6RKm5bJ",
        "outputId": "3812248e-f180-44da-fee2-4de62d157415"
      },
      "outputs": [
        {
          "output_type": "stream",
          "name": "stdout",
          "text": [
            "Accept H0\n"
          ]
        }
      ],
      "source": [
        "if p_value11 <= alpha:\n",
        "   print(\"Reject H0\")\n",
        "else:\n",
        "  print(\"Accept H0\")"
      ]
    },
    {
      "cell_type": "markdown",
      "metadata": {
        "id": "KDPbRTCenKSg"
      },
      "source": [
        "\n",
        "\n",
        "So, There is No Significant Relationship between Have you learned Excel Before and Mock Test 2 Status"
      ]
    },
    {
      "cell_type": "markdown",
      "source": [
        "### Analysis with Mock 3"
      ],
      "metadata": {
        "id": "5_04FlxrnHBx"
      }
    },
    {
      "cell_type": "markdown",
      "source": [
        "**To test is there any significant relationship between Gender and Mock 3 Status**\n",
        "\n",
        "Ho: There is No significant relationship between gender and Mock 3 Status \n",
        "\n",
        "H1: There is Significant Relationship between Gender and Mock 3 Status\n"
      ],
      "metadata": {
        "id": "15i-N2olaTuC"
      }
    },
    {
      "cell_type": "code",
      "source": [
        "ctab12=pd.crosstab(data['Gender'],data['Stage 3']) \n",
        "ctab12"
      ],
      "metadata": {
        "colab": {
          "base_uri": "https://localhost:8080/",
          "height": 143
        },
        "id": "hj_LMLUmnOoz",
        "outputId": "067f4752-20a7-42df-86ef-73a9b9be97b7"
      },
      "execution_count": 883,
      "outputs": [
        {
          "output_type": "execute_result",
          "data": {
            "text/plain": [
              "Stage 3    A   B\n",
              "Gender          \n",
              "Female   114  20\n",
              "Male      79  11"
            ],
            "text/html": [
              "\n",
              "  <div id=\"df-b5e6073c-ce23-4a8b-aa71-7414a2a2f9dd\">\n",
              "    <div class=\"colab-df-container\">\n",
              "      <div>\n",
              "<style scoped>\n",
              "    .dataframe tbody tr th:only-of-type {\n",
              "        vertical-align: middle;\n",
              "    }\n",
              "\n",
              "    .dataframe tbody tr th {\n",
              "        vertical-align: top;\n",
              "    }\n",
              "\n",
              "    .dataframe thead th {\n",
              "        text-align: right;\n",
              "    }\n",
              "</style>\n",
              "<table border=\"1\" class=\"dataframe\">\n",
              "  <thead>\n",
              "    <tr style=\"text-align: right;\">\n",
              "      <th>Stage 3</th>\n",
              "      <th>A</th>\n",
              "      <th>B</th>\n",
              "    </tr>\n",
              "    <tr>\n",
              "      <th>Gender</th>\n",
              "      <th></th>\n",
              "      <th></th>\n",
              "    </tr>\n",
              "  </thead>\n",
              "  <tbody>\n",
              "    <tr>\n",
              "      <th>Female</th>\n",
              "      <td>114</td>\n",
              "      <td>20</td>\n",
              "    </tr>\n",
              "    <tr>\n",
              "      <th>Male</th>\n",
              "      <td>79</td>\n",
              "      <td>11</td>\n",
              "    </tr>\n",
              "  </tbody>\n",
              "</table>\n",
              "</div>\n",
              "      <button class=\"colab-df-convert\" onclick=\"convertToInteractive('df-b5e6073c-ce23-4a8b-aa71-7414a2a2f9dd')\"\n",
              "              title=\"Convert this dataframe to an interactive table.\"\n",
              "              style=\"display:none;\">\n",
              "        \n",
              "  <svg xmlns=\"http://www.w3.org/2000/svg\" height=\"24px\"viewBox=\"0 0 24 24\"\n",
              "       width=\"24px\">\n",
              "    <path d=\"M0 0h24v24H0V0z\" fill=\"none\"/>\n",
              "    <path d=\"M18.56 5.44l.94 2.06.94-2.06 2.06-.94-2.06-.94-.94-2.06-.94 2.06-2.06.94zm-11 1L8.5 8.5l.94-2.06 2.06-.94-2.06-.94L8.5 2.5l-.94 2.06-2.06.94zm10 10l.94 2.06.94-2.06 2.06-.94-2.06-.94-.94-2.06-.94 2.06-2.06.94z\"/><path d=\"M17.41 7.96l-1.37-1.37c-.4-.4-.92-.59-1.43-.59-.52 0-1.04.2-1.43.59L10.3 9.45l-7.72 7.72c-.78.78-.78 2.05 0 2.83L4 21.41c.39.39.9.59 1.41.59.51 0 1.02-.2 1.41-.59l7.78-7.78 2.81-2.81c.8-.78.8-2.07 0-2.86zM5.41 20L4 18.59l7.72-7.72 1.47 1.35L5.41 20z\"/>\n",
              "  </svg>\n",
              "      </button>\n",
              "      \n",
              "  <style>\n",
              "    .colab-df-container {\n",
              "      display:flex;\n",
              "      flex-wrap:wrap;\n",
              "      gap: 12px;\n",
              "    }\n",
              "\n",
              "    .colab-df-convert {\n",
              "      background-color: #E8F0FE;\n",
              "      border: none;\n",
              "      border-radius: 50%;\n",
              "      cursor: pointer;\n",
              "      display: none;\n",
              "      fill: #1967D2;\n",
              "      height: 32px;\n",
              "      padding: 0 0 0 0;\n",
              "      width: 32px;\n",
              "    }\n",
              "\n",
              "    .colab-df-convert:hover {\n",
              "      background-color: #E2EBFA;\n",
              "      box-shadow: 0px 1px 2px rgba(60, 64, 67, 0.3), 0px 1px 3px 1px rgba(60, 64, 67, 0.15);\n",
              "      fill: #174EA6;\n",
              "    }\n",
              "\n",
              "    [theme=dark] .colab-df-convert {\n",
              "      background-color: #3B4455;\n",
              "      fill: #D2E3FC;\n",
              "    }\n",
              "\n",
              "    [theme=dark] .colab-df-convert:hover {\n",
              "      background-color: #434B5C;\n",
              "      box-shadow: 0px 1px 3px 1px rgba(0, 0, 0, 0.15);\n",
              "      filter: drop-shadow(0px 1px 2px rgba(0, 0, 0, 0.3));\n",
              "      fill: #FFFFFF;\n",
              "    }\n",
              "  </style>\n",
              "\n",
              "      <script>\n",
              "        const buttonEl =\n",
              "          document.querySelector('#df-b5e6073c-ce23-4a8b-aa71-7414a2a2f9dd button.colab-df-convert');\n",
              "        buttonEl.style.display =\n",
              "          google.colab.kernel.accessAllowed ? 'block' : 'none';\n",
              "\n",
              "        async function convertToInteractive(key) {\n",
              "          const element = document.querySelector('#df-b5e6073c-ce23-4a8b-aa71-7414a2a2f9dd');\n",
              "          const dataTable =\n",
              "            await google.colab.kernel.invokeFunction('convertToInteractive',\n",
              "                                                     [key], {});\n",
              "          if (!dataTable) return;\n",
              "\n",
              "          const docLinkHtml = 'Like what you see? Visit the ' +\n",
              "            '<a target=\"_blank\" href=https://colab.research.google.com/notebooks/data_table.ipynb>data table notebook</a>'\n",
              "            + ' to learn more about interactive tables.';\n",
              "          element.innerHTML = '';\n",
              "          dataTable['output_type'] = 'display_data';\n",
              "          await google.colab.output.renderOutput(dataTable, element);\n",
              "          const docLink = document.createElement('div');\n",
              "          docLink.innerHTML = docLinkHtml;\n",
              "          element.appendChild(docLink);\n",
              "        }\n",
              "      </script>\n",
              "    </div>\n",
              "  </div>\n",
              "  "
            ]
          },
          "metadata": {},
          "execution_count": 883
        }
      ]
    },
    {
      "cell_type": "code",
      "source": [
        "ctab12.plot(kind='bar', cmap ='cividis')\n",
        "plt.title('Gender vs Mock 3 stage\\n', fontdict= {'fontsize':20, 'fontweight':5, 'color':'darkblue'})"
      ],
      "metadata": {
        "colab": {
          "base_uri": "https://localhost:8080/",
          "height": 365
        },
        "id": "zQerjJyhnOss",
        "outputId": "713ef2af-b284-4f4d-aa3c-defe6ddef187"
      },
      "execution_count": 884,
      "outputs": [
        {
          "output_type": "execute_result",
          "data": {
            "text/plain": [
              "Text(0.5, 1.0, 'Gender vs Mock 3 stage\\n')"
            ]
          },
          "metadata": {},
          "execution_count": 884
        },
        {
          "output_type": "display_data",
          "data": {
            "text/plain": [
              "<Figure size 432x288 with 1 Axes>"
            ],
            "image/png": "[encoded data removed]"
          },
          "metadata": {
            "needs_background": "light"
          }
        }
      ]
    },
    {
      "cell_type": "code",
      "source": [
        "alpha=0.05\n",
        "values=stats.chi2_contingency(ctab12)\n",
        "values"
      ],
      "metadata": {
        "colab": {
          "base_uri": "https://localhost:8080/"
        },
        "id": "Kec70lJunOv3",
        "outputId": "5ed04777-fa9f-4fb1-e1e5-a916d5c19bd7"
      },
      "execution_count": 885,
      "outputs": [
        {
          "output_type": "execute_result",
          "data": {
            "text/plain": [
              "(0.14217042260977658,\n",
              " 0.706132781706641,\n",
              " 1,\n",
              " array([[115.45535714,  18.54464286],\n",
              "        [ 77.54464286,  12.45535714]]))"
            ]
          },
          "metadata": {},
          "execution_count": 885
        }
      ]
    },
    {
      "cell_type": "code",
      "source": [
        "p_value12=values[1]\n",
        "p_value12"
      ],
      "metadata": {
        "colab": {
          "base_uri": "https://localhost:8080/"
        },
        "id": "mfF-E9UEnjCy",
        "outputId": "1e4af3f5-cf5e-4270-f5e9-f9f32ddcf28c"
      },
      "execution_count": 886,
      "outputs": [
        {
          "output_type": "execute_result",
          "data": {
            "text/plain": [
              "0.706132781706641"
            ]
          },
          "metadata": {},
          "execution_count": 886
        }
      ]
    },
    {
      "cell_type": "code",
      "source": [
        "if p_value12 <= alpha:\n",
        "   print(\"Reject H0\")\n",
        "else:\n",
        "  print(\"Accept H0\")"
      ],
      "metadata": {
        "colab": {
          "base_uri": "https://localhost:8080/"
        },
        "id": "ivnqf4d2njGg",
        "outputId": "a0a8507c-9371-4879-ea89-a97847d70e4d"
      },
      "execution_count": 887,
      "outputs": [
        {
          "output_type": "stream",
          "name": "stdout",
          "text": [
            "Accept H0\n"
          ]
        }
      ]
    },
    {
      "cell_type": "markdown",
      "source": [
        "Accept H0\n",
        "There is No significant relationship between gender and Mock 3 Status\n"
      ],
      "metadata": {
        "id": "9mLWJUvcaWHy"
      }
    },
    {
      "cell_type": "markdown",
      "source": [
        "**To test is there any significant relationship between Do you have computer (Laptop) and Mock Test 3 Status**\n",
        "\n",
        "Ho: There is No significant relationship between Do you have computer (Laptop) and Mock Test 3 Status\n",
        "\n",
        "H1: There is Significant Relationship between Do you have computer (Laptop) and Mock Test 3 Status\n"
      ],
      "metadata": {
        "id": "dP0BjJg7aaZV"
      }
    },
    {
      "cell_type": "code",
      "source": [
        "ctab13=pd.crosstab(data['Do you have computer (Laptop)'],data['Stage 3']) \n",
        "ctab13"
      ],
      "metadata": {
        "colab": {
          "base_uri": "https://localhost:8080/",
          "height": 143
        },
        "id": "eGY9A6VznjKm",
        "outputId": "2ec65eaf-9e44-4016-9443-f68936e07e4f"
      },
      "execution_count": 888,
      "outputs": [
        {
          "output_type": "execute_result",
          "data": {
            "text/plain": [
              "Stage 3                          A   B\n",
              "Do you have computer (Laptop)         \n",
              "No                              45  13\n",
              "Yes                            148  18"
            ],
            "text/html": [
              "\n",
              "  <div id=\"df-a8cea39c-d097-4595-99a7-fe3a2b8b2a98\">\n",
              "    <div class=\"colab-df-container\">\n",
              "      <div>\n",
              "<style scoped>\n",
              "    .dataframe tbody tr th:only-of-type {\n",
              "        vertical-align: middle;\n",
              "    }\n",
              "\n",
              "    .dataframe tbody tr th {\n",
              "        vertical-align: top;\n",
              "    }\n",
              "\n",
              "    .dataframe thead th {\n",
              "        text-align: right;\n",
              "    }\n",
              "</style>\n",
              "<table border=\"1\" class=\"dataframe\">\n",
              "  <thead>\n",
              "    <tr style=\"text-align: right;\">\n",
              "      <th>Stage 3</th>\n",
              "      <th>A</th>\n",
              "      <th>B</th>\n",
              "    </tr>\n",
              "    <tr>\n",
              "      <th>Do you have computer (Laptop)</th>\n",
              "      <th></th>\n",
              "      <th></th>\n",
              "    </tr>\n",
              "  </thead>\n",
              "  <tbody>\n",
              "    <tr>\n",
              "      <th>No</th>\n",
              "      <td>45</td>\n",
              "      <td>13</td>\n",
              "    </tr>\n",
              "    <tr>\n",
              "      <th>Yes</th>\n",
              "      <td>148</td>\n",
              "      <td>18</td>\n",
              "    </tr>\n",
              "  </tbody>\n",
              "</table>\n",
              "</div>\n",
              "      <button class=\"colab-df-convert\" onclick=\"convertToInteractive('df-a8cea39c-d097-4595-99a7-fe3a2b8b2a98')\"\n",
              "              title=\"Convert this dataframe to an interactive table.\"\n",
              "              style=\"display:none;\">\n",
              "        \n",
              "  <svg xmlns=\"http://www.w3.org/2000/svg\" height=\"24px\"viewBox=\"0 0 24 24\"\n",
              "       width=\"24px\">\n",
              "    <path d=\"M0 0h24v24H0V0z\" fill=\"none\"/>\n",
              "    <path d=\"M18.56 5.44l.94 2.06.94-2.06 2.06-.94-2.06-.94-.94-2.06-.94 2.06-2.06.94zm-11 1L8.5 8.5l.94-2.06 2.06-.94-2.06-.94L8.5 2.5l-.94 2.06-2.06.94zm10 10l.94 2.06.94-2.06 2.06-.94-2.06-.94-.94-2.06-.94 2.06-2.06.94z\"/><path d=\"M17.41 7.96l-1.37-1.37c-.4-.4-.92-.59-1.43-.59-.52 0-1.04.2-1.43.59L10.3 9.45l-7.72 7.72c-.78.78-.78 2.05 0 2.83L4 21.41c.39.39.9.59 1.41.59.51 0 1.02-.2 1.41-.59l7.78-7.78 2.81-2.81c.8-.78.8-2.07 0-2.86zM5.41 20L4 18.59l7.72-7.72 1.47 1.35L5.41 20z\"/>\n",
              "  </svg>\n",
              "      </button>\n",
              "      \n",
              "  <style>\n",
              "    .colab-df-container {\n",
              "      display:flex;\n",
              "      flex-wrap:wrap;\n",
              "      gap: 12px;\n",
              "    }\n",
              "\n",
              "    .colab-df-convert {\n",
              "      background-color: #E8F0FE;\n",
              "      border: none;\n",
              "      border-radius: 50%;\n",
              "      cursor: pointer;\n",
              "      display: none;\n",
              "      fill: #1967D2;\n",
              "      height: 32px;\n",
              "      padding: 0 0 0 0;\n",
              "      width: 32px;\n",
              "    }\n",
              "\n",
              "    .colab-df-convert:hover {\n",
              "      background-color: #E2EBFA;\n",
              "      box-shadow: 0px 1px 2px rgba(60, 64, 67, 0.3), 0px 1px 3px 1px rgba(60, 64, 67, 0.15);\n",
              "      fill: #174EA6;\n",
              "    }\n",
              "\n",
              "    [theme=dark] .colab-df-convert {\n",
              "      background-color: #3B4455;\n",
              "      fill: #D2E3FC;\n",
              "    }\n",
              "\n",
              "    [theme=dark] .colab-df-convert:hover {\n",
              "      background-color: #434B5C;\n",
              "      box-shadow: 0px 1px 3px 1px rgba(0, 0, 0, 0.15);\n",
              "      filter: drop-shadow(0px 1px 2px rgba(0, 0, 0, 0.3));\n",
              "      fill: #FFFFFF;\n",
              "    }\n",
              "  </style>\n",
              "\n",
              "      <script>\n",
              "        const buttonEl =\n",
              "          document.querySelector('#df-a8cea39c-d097-4595-99a7-fe3a2b8b2a98 button.colab-df-convert');\n",
              "        buttonEl.style.display =\n",
              "          google.colab.kernel.accessAllowed ? 'block' : 'none';\n",
              "\n",
              "        async function convertToInteractive(key) {\n",
              "          const element = document.querySelector('#df-a8cea39c-d097-4595-99a7-fe3a2b8b2a98');\n",
              "          const dataTable =\n",
              "            await google.colab.kernel.invokeFunction('convertToInteractive',\n",
              "                                                     [key], {});\n",
              "          if (!dataTable) return;\n",
              "\n",
              "          const docLinkHtml = 'Like what you see? Visit the ' +\n",
              "            '<a target=\"_blank\" href=https://colab.research.google.com/notebooks/data_table.ipynb>data table notebook</a>'\n",
              "            + ' to learn more about interactive tables.';\n",
              "          element.innerHTML = '';\n",
              "          dataTable['output_type'] = 'display_data';\n",
              "          await google.colab.output.renderOutput(dataTable, element);\n",
              "          const docLink = document.createElement('div');\n",
              "          docLink.innerHTML = docLinkHtml;\n",
              "          element.appendChild(docLink);\n",
              "        }\n",
              "      </script>\n",
              "    </div>\n",
              "  </div>\n",
              "  "
            ]
          },
          "metadata": {},
          "execution_count": 888
        }
      ]
    },
    {
      "cell_type": "code",
      "source": [
        "ctab13.plot(kind='bar', cmap ='cividis')\n",
        "plt.title('laptop Access vs Mock 3 stage\\n', fontdict= {'fontsize':20, 'fontweight':5, 'color':'darkblue'})"
      ],
      "metadata": {
        "colab": {
          "base_uri": "https://localhost:8080/",
          "height": 345
        },
        "id": "89ZK0QbBnt8k",
        "outputId": "64c39fcb-a6ed-47da-decf-9e437953b41a"
      },
      "execution_count": 889,
      "outputs": [
        {
          "output_type": "execute_result",
          "data": {
            "text/plain": [
              "Text(0.5, 1.0, 'laptop Access vs Mock 3 stage\\n')"
            ]
          },
          "metadata": {},
          "execution_count": 889
        },
        {
          "output_type": "display_data",
          "data": {
            "text/plain": [
              "<Figure size 432x288 with 1 Axes>"
            ],
            "image/png": "[encoded data removed]"
          },
          "metadata": {
            "needs_background": "light"
          }
        }
      ]
    },
    {
      "cell_type": "code",
      "source": [
        "alpha=0.05\n",
        "values=stats.chi2_contingency(ctab13)\n",
        "values"
      ],
      "metadata": {
        "colab": {
          "base_uri": "https://localhost:8080/"
        },
        "id": "WiAAnYQpnuAJ",
        "outputId": "46c9245d-1f89-448a-961f-6ec5e24bd481"
      },
      "execution_count": 890,
      "outputs": [
        {
          "output_type": "execute_result",
          "data": {
            "text/plain": [
              "(3.904166916358571,\n",
              " 0.04816650248006738,\n",
              " 1,\n",
              " array([[ 49.97321429,   8.02678571],\n",
              "        [143.02678571,  22.97321429]]))"
            ]
          },
          "metadata": {},
          "execution_count": 890
        }
      ]
    },
    {
      "cell_type": "code",
      "source": [
        "p_value13=values[1]\n",
        "p_value13"
      ],
      "metadata": {
        "colab": {
          "base_uri": "https://localhost:8080/"
        },
        "id": "ChXDweh9nuFD",
        "outputId": "b69f9139-cc1f-4ade-f468-f6344626065a"
      },
      "execution_count": 891,
      "outputs": [
        {
          "output_type": "execute_result",
          "data": {
            "text/plain": [
              "0.04816650248006738"
            ]
          },
          "metadata": {},
          "execution_count": 891
        }
      ]
    },
    {
      "cell_type": "code",
      "source": [
        "if p_value13 <= alpha:\n",
        "   print(\"Reject H0\")\n",
        "else:\n",
        "  print(\"Accept H0\")"
      ],
      "metadata": {
        "colab": {
          "base_uri": "https://localhost:8080/"
        },
        "id": "Nx_RThsFnuI_",
        "outputId": "0cc4ab81-9548-4bb1-b075-c7837a4098d9"
      },
      "execution_count": 892,
      "outputs": [
        {
          "output_type": "stream",
          "name": "stdout",
          "text": [
            "Reject H0\n"
          ]
        }
      ]
    },
    {
      "cell_type": "markdown",
      "source": [
        "There is No significant relationship between Do you have computer (Laptop) and Mock Test 3 Status"
      ],
      "metadata": {
        "id": "mubkmhOwaget"
      }
    },
    {
      "cell_type": "markdown",
      "source": [
        "**To test is there any significant relationship between Have you learned Excel Before and Mock Test 3 Status**\n",
        "\n",
        "Ho: There is No significant relationship between Have you learned Excel Before and Mock Test 3 Status\n",
        "\n",
        "H1: There is Significant Relationship between Have you learned Excel Before and Mock Test 3 Status\n"
      ],
      "metadata": {
        "id": "5yBnqNleanpA"
      }
    },
    {
      "cell_type": "code",
      "source": [
        "ctab14=pd.crosstab(data['Have you learned Excel before this training'],data['Stage 3']) \n",
        "ctab14"
      ],
      "metadata": {
        "colab": {
          "base_uri": "https://localhost:8080/",
          "height": 143
        },
        "id": "BRzIhlpwnuNM",
        "outputId": "124a6877-95db-4895-bc00-407424d139c9"
      },
      "execution_count": 893,
      "outputs": [
        {
          "output_type": "execute_result",
          "data": {
            "text/plain": [
              "Stage 3                                        A   B\n",
              "Have you learned Excel before this training         \n",
              "No                                           151  27\n",
              "Yes                                           42   4"
            ],
            "text/html": [
              "\n",
              "  <div id=\"df-12508302-c351-4548-8329-0bfaae603655\">\n",
              "    <div class=\"colab-df-container\">\n",
              "      <div>\n",
              "<style scoped>\n",
              "    .dataframe tbody tr th:only-of-type {\n",
              "        vertical-align: middle;\n",
              "    }\n",
              "\n",
              "    .dataframe tbody tr th {\n",
              "        vertical-align: top;\n",
              "    }\n",
              "\n",
              "    .dataframe thead th {\n",
              "        text-align: right;\n",
              "    }\n",
              "</style>\n",
              "<table border=\"1\" class=\"dataframe\">\n",
              "  <thead>\n",
              "    <tr style=\"text-align: right;\">\n",
              "      <th>Stage 3</th>\n",
              "      <th>A</th>\n",
              "      <th>B</th>\n",
              "    </tr>\n",
              "    <tr>\n",
              "      <th>Have you learned Excel before this training</th>\n",
              "      <th></th>\n",
              "      <th></th>\n",
              "    </tr>\n",
              "  </thead>\n",
              "  <tbody>\n",
              "    <tr>\n",
              "      <th>No</th>\n",
              "      <td>151</td>\n",
              "      <td>27</td>\n",
              "    </tr>\n",
              "    <tr>\n",
              "      <th>Yes</th>\n",
              "      <td>42</td>\n",
              "      <td>4</td>\n",
              "    </tr>\n",
              "  </tbody>\n",
              "</table>\n",
              "</div>\n",
              "      <button class=\"colab-df-convert\" onclick=\"convertToInteractive('df-12508302-c351-4548-8329-0bfaae603655')\"\n",
              "              title=\"Convert this dataframe to an interactive table.\"\n",
              "              style=\"display:none;\">\n",
              "        \n",
              "  <svg xmlns=\"http://www.w3.org/2000/svg\" height=\"24px\"viewBox=\"0 0 24 24\"\n",
              "       width=\"24px\">\n",
              "    <path d=\"M0 0h24v24H0V0z\" fill=\"none\"/>\n",
              "    <path d=\"M18.56 5.44l.94 2.06.94-2.06 2.06-.94-2.06-.94-.94-2.06-.94 2.06-2.06.94zm-11 1L8.5 8.5l.94-2.06 2.06-.94-2.06-.94L8.5 2.5l-.94 2.06-2.06.94zm10 10l.94 2.06.94-2.06 2.06-.94-2.06-.94-.94-2.06-.94 2.06-2.06.94z\"/><path d=\"M17.41 7.96l-1.37-1.37c-.4-.4-.92-.59-1.43-.59-.52 0-1.04.2-1.43.59L10.3 9.45l-7.72 7.72c-.78.78-.78 2.05 0 2.83L4 21.41c.39.39.9.59 1.41.59.51 0 1.02-.2 1.41-.59l7.78-7.78 2.81-2.81c.8-.78.8-2.07 0-2.86zM5.41 20L4 18.59l7.72-7.72 1.47 1.35L5.41 20z\"/>\n",
              "  </svg>\n",
              "      </button>\n",
              "      \n",
              "  <style>\n",
              "    .colab-df-container {\n",
              "      display:flex;\n",
              "      flex-wrap:wrap;\n",
              "      gap: 12px;\n",
              "    }\n",
              "\n",
              "    .colab-df-convert {\n",
              "      background-color: #E8F0FE;\n",
              "      border: none;\n",
              "      border-radius: 50%;\n",
              "      cursor: pointer;\n",
              "      display: none;\n",
              "      fill: #1967D2;\n",
              "      height: 32px;\n",
              "      padding: 0 0 0 0;\n",
              "      width: 32px;\n",
              "    }\n",
              "\n",
              "    .colab-df-convert:hover {\n",
              "      background-color: #E2EBFA;\n",
              "      box-shadow: 0px 1px 2px rgba(60, 64, 67, 0.3), 0px 1px 3px 1px rgba(60, 64, 67, 0.15);\n",
              "      fill: #174EA6;\n",
              "    }\n",
              "\n",
              "    [theme=dark] .colab-df-convert {\n",
              "      background-color: #3B4455;\n",
              "      fill: #D2E3FC;\n",
              "    }\n",
              "\n",
              "    [theme=dark] .colab-df-convert:hover {\n",
              "      background-color: #434B5C;\n",
              "      box-shadow: 0px 1px 3px 1px rgba(0, 0, 0, 0.15);\n",
              "      filter: drop-shadow(0px 1px 2px rgba(0, 0, 0, 0.3));\n",
              "      fill: #FFFFFF;\n",
              "    }\n",
              "  </style>\n",
              "\n",
              "      <script>\n",
              "        const buttonEl =\n",
              "          document.querySelector('#df-12508302-c351-4548-8329-0bfaae603655 button.colab-df-convert');\n",
              "        buttonEl.style.display =\n",
              "          google.colab.kernel.accessAllowed ? 'block' : 'none';\n",
              "\n",
              "        async function convertToInteractive(key) {\n",
              "          const element = document.querySelector('#df-12508302-c351-4548-8329-0bfaae603655');\n",
              "          const dataTable =\n",
              "            await google.colab.kernel.invokeFunction('convertToInteractive',\n",
              "                                                     [key], {});\n",
              "          if (!dataTable) return;\n",
              "\n",
              "          const docLinkHtml = 'Like what you see? Visit the ' +\n",
              "            '<a target=\"_blank\" href=https://colab.research.google.com/notebooks/data_table.ipynb>data table notebook</a>'\n",
              "            + ' to learn more about interactive tables.';\n",
              "          element.innerHTML = '';\n",
              "          dataTable['output_type'] = 'display_data';\n",
              "          await google.colab.output.renderOutput(dataTable, element);\n",
              "          const docLink = document.createElement('div');\n",
              "          docLink.innerHTML = docLinkHtml;\n",
              "          element.appendChild(docLink);\n",
              "        }\n",
              "      </script>\n",
              "    </div>\n",
              "  </div>\n",
              "  "
            ]
          },
          "metadata": {},
          "execution_count": 893
        }
      ]
    },
    {
      "cell_type": "code",
      "source": [
        "ctab14.plot(kind='bar', cmap ='cividis')\n",
        "plt.title('Excel knowledge vs Mock 3 stage\\n', fontdict= {'fontsize':20, 'fontweight':5, 'color':'darkblue'})"
      ],
      "metadata": {
        "colab": {
          "base_uri": "https://localhost:8080/",
          "height": 345
        },
        "id": "zN09BbaKoHys",
        "outputId": "f8bfb999-499e-40a4-da66-d3df3456f2a6"
      },
      "execution_count": 894,
      "outputs": [
        {
          "output_type": "execute_result",
          "data": {
            "text/plain": [
              "Text(0.5, 1.0, 'Excel knowledge vs Mock 3 stage\\n')"
            ]
          },
          "metadata": {},
          "execution_count": 894
        },
        {
          "output_type": "display_data",
          "data": {
            "text/plain": [
              "<Figure size 432x288 with 1 Axes>"
            ],
            "image/png": "[encoded data removed]"
          },
          "metadata": {
            "needs_background": "light"
          }
        }
      ]
    },
    {
      "cell_type": "code",
      "source": [
        "alpha=0.05\n",
        "values=stats.chi2_contingency(ctab14)\n",
        "values"
      ],
      "metadata": {
        "colab": {
          "base_uri": "https://localhost:8080/"
        },
        "id": "Ntw1AuLroH2b",
        "outputId": "1a2620db-48b8-478e-aa55-6e9dcd42bfed"
      },
      "execution_count": 895,
      "outputs": [
        {
          "output_type": "execute_result",
          "data": {
            "text/plain": [
              "(0.7989208309719092,\n",
              " 0.3714162192885321,\n",
              " 1,\n",
              " array([[153.36607143,  24.63392857],\n",
              "        [ 39.63392857,   6.36607143]]))"
            ]
          },
          "metadata": {},
          "execution_count": 895
        }
      ]
    },
    {
      "cell_type": "code",
      "source": [
        "p_value14=values[1]\n",
        "p_value14"
      ],
      "metadata": {
        "colab": {
          "base_uri": "https://localhost:8080/"
        },
        "id": "Ua2ElEmEnjOQ",
        "outputId": "cdca0af9-a726-446b-e63e-30658018b183"
      },
      "execution_count": 896,
      "outputs": [
        {
          "output_type": "execute_result",
          "data": {
            "text/plain": [
              "0.3714162192885321"
            ]
          },
          "metadata": {},
          "execution_count": 896
        }
      ]
    },
    {
      "cell_type": "code",
      "source": [
        "if p_value14 <= alpha:\n",
        "   print(\"Reject H0\")\n",
        "else:\n",
        "  print(\"Accept H0\")"
      ],
      "metadata": {
        "colab": {
          "base_uri": "https://localhost:8080/"
        },
        "id": "2YAVbEwHnOz8",
        "outputId": "9f02fcc9-a0b8-4215-ab3a-eba0a8b866a3"
      },
      "execution_count": 897,
      "outputs": [
        {
          "output_type": "stream",
          "name": "stdout",
          "text": [
            "Accept H0\n"
          ]
        }
      ]
    },
    {
      "cell_type": "markdown",
      "source": [
        "There is No significant relationship between Have you learned Excel Before and Mock Test 3 Status"
      ],
      "metadata": {
        "id": "85rcBv6ka11B"
      }
    },
    {
      "cell_type": "markdown",
      "metadata": {
        "id": "PAIHI2CtnXT4"
      },
      "source": [
        "**To test is there any significant relationship Mock Test 1 Status between  and Mock Test 2 Status**\n",
        "\n",
        "Ho: There is No significant relationship between Mock Test 1 Status and Mock Test 2 Status\n",
        "\n",
        "H1: There is Significant Relationship between Mock Test 1 Status and Mock Test 2 Status"
      ]
    },
    {
      "cell_type": "code",
      "execution_count": 898,
      "metadata": {
        "id": "nL3qDk4uCiP8"
      },
      "outputs": [],
      "source": [
        "import statsmodels.api as sm\n",
        "import numpy as np\n",
        "import statsmodels.formula.api as smf"
      ]
    },
    {
      "cell_type": "code",
      "execution_count": 899,
      "metadata": {
        "id": "2354if-tkwwb"
      },
      "outputs": [],
      "source": [
        "import os\n",
        "import warnings\n",
        "import numpy as np\n",
        "import seaborn as sns\n",
        "import matplotlib.pyplot as plt"
      ]
    },
    {
      "cell_type": "code",
      "execution_count": 900,
      "metadata": {
        "id": "6uVecRynOkFY"
      },
      "outputs": [],
      "source": [
        "import scipy.stats as stats\n",
        "from scipy.stats import shapiro\n",
        "from scipy.stats import probplot"
      ]
    },
    {
      "cell_type": "code",
      "execution_count": 901,
      "metadata": {
        "colab": {
          "base_uri": "https://localhost:8080/",
          "height": 285
        },
        "id": "ihlluLndjTG6",
        "outputId": "0a454dd5-9bf3-4d65-f08f-4624b46296eb"
      },
      "outputs": [
        {
          "output_type": "execute_result",
          "data": {
            "text/plain": [
              "<matplotlib.axes._subplots.AxesSubplot at 0x7f7849391350>"
            ]
          },
          "metadata": {},
          "execution_count": 901
        },
        {
          "output_type": "display_data",
          "data": {
            "text/plain": [
              "<Figure size 432x288 with 1 Axes>"
            ],
            "image/png": "[encoded data removed]"
          },
          "metadata": {
            "needs_background": "light"
          }
        }
      ],
      "source": [
        "data['Mark 1'].hist(color=\"lightgreen\", width = 8, edgecolor = 'black')"
      ]
    },
    {
      "cell_type": "code",
      "execution_count": 902,
      "metadata": {
        "colab": {
          "base_uri": "https://localhost:8080/",
          "height": 295
        },
        "id": "8sy0Vj2EODyn",
        "outputId": "f4bf608e-aa09-408a-9d21-3f3e4b4ca0fa"
      },
      "outputs": [
        {
          "output_type": "display_data",
          "data": {
            "text/plain": [
              "<Figure size 432x288 with 1 Axes>"
            ],
            "image/png": "[encoded data removed]"
          },
          "metadata": {
            "needs_background": "light"
          }
        }
      ],
      "source": [
        "import pylab\n",
        "import scipy.stats as stats\n",
        "stats.probplot(data['Mark 1'],dist=\"norm\",plot=pylab)\n",
        "pylab.show()\n"
      ]
    },
    {
      "cell_type": "code",
      "execution_count": 903,
      "metadata": {
        "colab": {
          "base_uri": "https://localhost:8080/"
        },
        "id": "2k1R093BE0U1",
        "outputId": "0a573f68-c650-4cc2-a3cc-313bde7d2134"
      },
      "outputs": [
        {
          "output_type": "execute_result",
          "data": {
            "text/plain": [
              "(0.9172242283821106, 7.456435469066491e-10)"
            ]
          },
          "metadata": {},
          "execution_count": 903
        }
      ],
      "source": [
        "shapiro(data['Mark 1'])"
      ]
    }
  ],
  "metadata": {
    "colab": {
      "collapsed_sections": [],
      "name": "MOS .ipynb",
      "provenance": []
    },
    "kernelspec": {
      "display_name": "Python 3",
      "name": "python3"
    },
    "language_info": {
      "name": "python"
    }
  },
  "nbformat": 4,
  "nbformat_minor": 0
}